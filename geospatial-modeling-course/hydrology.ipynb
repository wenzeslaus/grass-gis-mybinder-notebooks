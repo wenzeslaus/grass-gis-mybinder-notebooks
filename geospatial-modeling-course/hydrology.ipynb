{
 "cells": [
  {
   "cell_type": "markdown",
   "metadata": {},
   "source": [
    "## Flow routing and watershed analysis\n",
    "Resources:\n",
    "\n",
    "* [\n",
    "GRASS GIS overview and manual](http://grass.osgeo.org/grass72/manuals/index.html)\n",
    "*  [Recommendations](data_acquisition.html#commands)\n",
    "and [tutorial](http://www4.ncsu.edu/~akratoc/GRASS_intro/)\n",
    "how to use GUI from the first assignment\n",
    "\n",
    "\n",
    "\n",
    "Text file with outlet point coordinates:\n",
    "\n",
    "* point coordinates ([outlet_point.txt](data/outlet_point.txt))\n",
    "\n",
    "\n",
    "### Start GRASS GIS\n",
    "In startup pannel set GIS Data Directory to path to datasets,\n",
    "for example on MS Windows, `C:\\Users\\myname\\grassdata`.\n",
    "For Project location select nc_spm_08_grass7 (North Carolina, State Plane, meters) and\n",
    "for Accessible mapset create a new mapset (called e.g. HW_hydrology) and\n",
    "click Start GRASS."
   ]
  },
  {
   "cell_type": "code",
   "execution_count": null,
   "metadata": {},
   "outputs": [],
   "source": [
    "# using Python to initialize GRASS GIS\n",
    "# This is a quick introduction into Jupyter Notebook.\n",
    "# Python code can be excecuted like this:\n",
    "a = 6\n",
    "b = 7\n",
    "c = a * b\n",
    "print \"Answer is\", c\n",
    "# Python code can be mixed with command line code (Bash).\n",
    "# It is enough just to prefix the command line with an exclamation mark:\n",
    "!echo \"Answer is $c\"\n",
    "# Use Shift+Enter to execute this cell. The result is below."
   ]
  },
  {
   "cell_type": "code",
   "execution_count": null,
   "metadata": {},
   "outputs": [],
   "source": [
    "# using Python to initialize GRASS GIS\n",
    "import os\n",
    "import sys\n",
    "import subprocess\n",
    "from IPython.display import Image\n",
    "\n",
    "# create GRASS GIS runtime environment\n",
    "gisbase = subprocess.check_output([\"grass\", \"--config\", \"path\"]).strip()\n",
    "os.environ['GISBASE'] = gisbase\n",
    "sys.path.append(os.path.join(gisbase, \"etc\", \"python\"))\n",
    "\n",
    "# do GRASS GIS imports\n",
    "import grass.script as gs\n",
    "import grass.script.setup as gsetup\n",
    "\n",
    "# set GRASS GIS session data\n",
    "rcfile = gsetup.init(gisbase, \"/home/jovyan/grassdata\", \"nc_spm_08_grass7\", \"user1\")"
   ]
  },
  {
   "cell_type": "code",
   "execution_count": null,
   "metadata": {},
   "outputs": [],
   "source": [
    "# using Python to initialize GRASS GIS\n",
    "# default font displays\n",
    "os.environ['GRASS_FONT'] = 'sans'\n",
    "# overwrite existing maps\n",
    "os.environ['GRASS_OVERWRITE'] = '1'\n",
    "gs.set_raise_on_error(True)\n",
    "gs.set_capture_stderr(True)"
   ]
  },
  {
   "cell_type": "code",
   "execution_count": null,
   "metadata": {},
   "outputs": [],
   "source": [
    "# using Python to initialize GRASS GIS\n",
    "# set display modules to render into a file (named map.png by default)\n",
    "os.environ['GRASS_RENDER_IMMEDIATE'] = 'cairo'\n",
    "os.environ['GRASS_RENDER_FILE_READ'] = 'TRUE'\n",
    "os.environ['GRASS_LEGEND_FILE'] = 'legend.txt'"
   ]
  },
  {
   "cell_type": "markdown",
   "metadata": {},
   "source": [
    "Change working directory:\n",
    "_Settings_ > _GRASS working environment_ > _Change working directory_ > select/create any directory\n",
    "or type `cd` (stands for change directory) into the GUI\n",
    "_Console_ and hit Enter:"
   ]
  },
  {
   "cell_type": "code",
   "execution_count": null,
   "metadata": {},
   "outputs": [],
   "source": [
    "# a proper directory is already set, download files\n",
    "import urllib\n",
    "urllib.urlretrieve(\"http://ncsu-geoforall-lab.github.io/geospatial-modeling-course/grass/data/outlet_point.txt\", \"outlet_point.txt\")"
   ]
  },
  {
   "cell_type": "markdown",
   "metadata": {},
   "source": [
    "Download all text files with site locations (see above)\n",
    "to the selected directory. Now you can use the commands from the assignment requiring the text file\n",
    "without the need to specify the full path to the file.\n",
    "\n",
    "\n",
    "\n",
    "start GRASS\n",
    "\n",
    "### Compute flow direction, flow accumulation and subwatersheds\n",
    "Compute flow direction, flow accumulation and subwatersheds\n",
    "with approx. size of 10000 cells from 30m NED."
   ]
  },
  {
   "cell_type": "code",
   "execution_count": null,
   "metadata": {},
   "outputs": [],
   "source": [
    "!g.region raster=elev_ned_30m -p\n",
    "!r.watershed -s elevation=elev_ned_30m threshold=10000 accumulation=accum_10K drainage=draindir_10K basin=basin_10K"
   ]
  },
  {
   "cell_type": "markdown",
   "metadata": {},
   "source": [
    "Extract more detailed streams from flow accumulation raster:"
   ]
  },
  {
   "cell_type": "code",
   "execution_count": null,
   "metadata": {},
   "outputs": [],
   "source": [
    "!r.mapcalc \"streams_der_30m = if(abs(accum_10K) > 100, 1, null())\""
   ]
  },
  {
   "cell_type": "markdown",
   "metadata": {},
   "source": [
    "Convert to vector format and display results\n",
    "along with the official Wake county streams (red):"
   ]
  },
  {
   "cell_type": "code",
   "execution_count": null,
   "metadata": {},
   "outputs": [],
   "source": [
    "!r.to.vect -s basin_10K output=basin_10K type=area\n",
    "!r.thin streams_der_30m output=streams_der_30m_t\n",
    "!r.to.vect -s streams_der_30m_t out=streams_der_30m type=line"
   ]
  },
  {
   "cell_type": "markdown",
   "metadata": {},
   "source": [
    "Generate shaded map and display:\n",
    "How do the derived streams compare with the official stream map?\n",
    "How can you modify the mapcalc expression to make stream origins fit better\n",
    "with the official stream map?"
   ]
  },
  {
   "cell_type": "code",
   "execution_count": null,
   "metadata": {},
   "outputs": [],
   "source": [
    "!d.his hue=basin_10K intensity=elevation_shade brighten=40\n",
    "!d.vect basin_10K type=boundary\n",
    "!d.rast lakes\n",
    "!d.vect streams_der_30m color=blue\n",
    "!d.vect streams color=red\n",
    "Image(filename=\"map.png\")"
   ]
  },
  {
   "cell_type": "markdown",
   "metadata": {},
   "source": [
    "### Create map of DEM depressions\n",
    "Depression filling is often necessary for certain flow routing algorithms but it can alter the elevation data significantly. \n",
    "Find out how extensive the depressions are in our DEM.\n",
    "Note that _r.watershed_ doesn't need any depression filling thanks to\n",
    "its underlying algorithm which uses least cost path to get over depressions."
   ]
  },
  {
   "cell_type": "code",
   "execution_count": null,
   "metadata": {},
   "outputs": [],
   "source": [
    "!g.region raster=elevation -p\n",
    "!r.fill.dir input=elevation output=elev_fill1 direction=dir1 areas=unres1\n",
    "!r.fill.dir input=elev_fill1 output=elev_fill2 direction=dir2 areas=unres2\n",
    "!r.fill.dir input=elev_fill2 output=elev_fill3 direction=dir3 areas=unres3\n",
    "!r.mapcalc \"depr_bin = if((elevation-elev_fill3) < 0., 1, null())\""
   ]
  },
  {
   "cell_type": "markdown",
   "metadata": {},
   "source": [
    "Remove all previously used layers from the _Layer Manager_ and\n",
    "display the new results, compare the derived depressions with actual lakes:"
   ]
  },
  {
   "cell_type": "code",
   "execution_count": null,
   "metadata": {},
   "outputs": [],
   "source": [
    "!d.erase\n",
    "!d.rast elevation\n",
    "!d.vect roadsmajor\n",
    "!d.rast depr_bin\n",
    "!d.vect lakes type=area fill_color=aqua\n",
    "Image(filename=\"map.png\")"
   ]
  },
  {
   "cell_type": "markdown",
   "metadata": {},
   "source": [
    "### Derive contributing area for a given outlet\n",
    "Set region to the high resolution study area and zoom to it:"
   ]
  },
  {
   "cell_type": "code",
   "execution_count": null,
   "metadata": {},
   "outputs": [],
   "source": [
    "!g.region rural_1m -p\n",
    "!r.watershed -as elevation=elev_lid792_1m threshold=5000 accumulation=accum_5K drainage=draindir_5K basin=basin_5K"
   ]
  },
  {
   "cell_type": "markdown",
   "metadata": {},
   "source": [
    "Remove previous layers. Display extracted streams over aerial image:"
   ]
  },
  {
   "cell_type": "code",
   "execution_count": null,
   "metadata": {},
   "outputs": [],
   "source": [
    "!d.erase\n",
    "!d.rast ortho_2001_t792_1m\n",
    "!d.rast accum_5K values=1000-1000000\n",
    "Image(filename=\"map.png\")"
   ]
  },
  {
   "cell_type": "markdown",
   "metadata": {},
   "source": [
    "Identify outlet on the extracted stream.\n",
    "\n",
    "Create a vector map with the point east=638845.52 north=220085.26 (download the text file)\n",
    "that has accum_5K=224510."
   ]
  },
  {
   "cell_type": "code",
   "execution_count": null,
   "metadata": {},
   "outputs": [],
   "source": [
    "!v.in.ascii input=outlet_point.txt output=outletA30 separator=space\n",
    "!d.vect outletA30 color=yellow\n",
    "Image(filename=\"map.png\")"
   ]
  },
  {
   "cell_type": "markdown",
   "metadata": {},
   "source": [
    "Delineate the contributing area associated with this outlet and convert it to vector format:"
   ]
  },
  {
   "cell_type": "code",
   "execution_count": null,
   "metadata": {},
   "outputs": [],
   "source": [
    "!r.water.outlet input=draindir_5K output=basin_A30 coordinates=638845.52,220085.26\n",
    "!r.to.vect -s basin_A30 output=basin_A30 type=area"
   ]
  },
  {
   "cell_type": "markdown",
   "metadata": {},
   "source": [
    "Display watershed boundary along with contours.\n",
    "Compute the watershed area (category 1)"
   ]
  },
  {
   "cell_type": "code",
   "execution_count": null,
   "metadata": {},
   "outputs": [],
   "source": [
    "!d.vect basin_A30 type=boundary color=green width=2\n",
    "!r.contour elev_lid792_1m output=elev_lid792_cont_1m step=1 minlevel=104\n",
    "!d.vect elev_lid792_cont_1m color=white\n",
    "Image(filename=\"map.png\")\n",
    "!r.report basin_A30 unit=h,a\n",
    "Image(filename=\"map.png\")"
   ]
  },
  {
   "cell_type": "markdown",
   "metadata": {},
   "source": [
    "### Assess and mitigate impact of the road on flowrouting\n",
    "Compare the extracted streams (accum > 800) with official stream data:"
   ]
  },
  {
   "cell_type": "code",
   "execution_count": null,
   "metadata": {},
   "outputs": [],
   "source": [
    "!d.rast ortho_2001_t792_1m\n",
    "!d.rast accum_5K values=800-1000000\n",
    "!d.vect streets_wake color=red\n",
    "!d.vect streams color=green\n",
    "Image(filename=\"map.png\")"
   ]
  },
  {
   "cell_type": "markdown",
   "metadata": {},
   "source": [
    "### Carve a pre-defined channel given by the stream data into DEM"
   ]
  },
  {
   "cell_type": "code",
   "execution_count": null,
   "metadata": {},
   "outputs": [],
   "source": [
    "!r.carve raster=elev_lid792_1m vector=streams width=2 depth=0.8 output=elev_lidcarved_1m\n",
    "!r.colors elev_lidcarved_1m raster=elev_lid792_1m\n",
    "!d.rast elev_lidcarved_1m\n",
    "Image(filename=\"map.png\")"
   ]
  },
  {
   "cell_type": "markdown",
   "metadata": {},
   "source": [
    "Extract streams from the carved DEM and compare with the official streams map.\n",
    "What is the difference between accum_5K, accumc_5K1m and streams?\n",
    "Explain the advantage and disadvantage of carving."
   ]
  },
  {
   "cell_type": "code",
   "execution_count": null,
   "metadata": {},
   "outputs": [],
   "source": [
    "!r.watershed -as elevation=elev_lidcarved_1m threshold=50000 accumulation=accumc_5K1m\n",
    "!d.rast accumc_5K1m values=1500-10000000\n",
    "!d.vect streams\n",
    "Image(filename=\"map.png\")"
   ]
  },
  {
   "cell_type": "markdown",
   "metadata": {},
   "source": [
    "### Compute refined flow pattern using D-inf\n",
    "Compare upslope and downslope flow lines:\n",
    "On what type of landform (ridge, valley) they converge?\n",
    "\n",
    "Remove or switch off all previous layers."
   ]
  },
  {
   "cell_type": "code",
   "execution_count": null,
   "metadata": {},
   "outputs": [],
   "source": [
    "!g.region raster=elev_lid792_1m -p\n",
    "!r.flow elevation=elev_lid792_1m flowline=flowlines flowlength=flowlg_1m flowaccumulation=flowacc_1m\n",
    "!r.flow -u elevation=elev_lid792_1m flowlength=flowlgup_1m flowaccumulation=flowaccup_1m"
   ]
  },
  {
   "cell_type": "markdown",
   "metadata": {},
   "source": [
    "Display maps along with contours to see relation to terrain:"
   ]
  },
  {
   "cell_type": "code",
   "execution_count": null,
   "metadata": {},
   "outputs": [],
   "source": [
    "!d.rast flowacc_1m\n",
    "!d.vect elev_lid792_cont_1m color=red\n",
    "!d.rast flowaccup_1m\n",
    "!d.vect elev_lid792_cont_1m color=red\n",
    "!d.vect flowlines\n",
    "Image(filename=\"map.png\")"
   ]
  },
  {
   "cell_type": "markdown",
   "metadata": {},
   "source": [
    "### Compare the multiple flow direction result with D8 and Dinf\n",
    "Compare the result of accum_5K and accum_mfd_5K1m. Why are they different,\n",
    "which is more accurate and why?"
   ]
  },
  {
   "cell_type": "code",
   "execution_count": null,
   "metadata": {},
   "outputs": [],
   "source": [
    "!r.watershed -a elevation=elev_lid792_1m threshold=50000 accumulation=accum_mfd_5K1m\n",
    "!d.rast accum_mfd_5K1m\n",
    "!d.vect streams\n",
    "Image(filename=\"map.png\")"
   ]
  },
  {
   "cell_type": "markdown",
   "metadata": {},
   "source": [
    "### Compute wetness index"
   ]
  },
  {
   "cell_type": "code",
   "execution_count": null,
   "metadata": {},
   "outputs": [],
   "source": [
    "!g.region rural_1m -p\n",
    "!r.topidx elev_lid792_1m output=wetness_1m\n",
    "!d.rast wetness_1m\n",
    "Image(filename=\"map.png\")"
   ]
  },
  {
   "cell_type": "markdown",
   "metadata": {},
   "source": [
    "Display elev_lid792_1m in 3D and drape over wetness_1m as color.\n",
    "Note: switch off all layers except for elev_lid792_1m.\n",
    "\n",
    "### Create a map of flooded area\n",
    "Create a map of flooded area for a given water level and seed point:"
   ]
  },
  {
   "cell_type": "code",
   "execution_count": null,
   "metadata": {},
   "outputs": [],
   "source": [
    "!r.lake elevation=elev_lid792_1m water_level=113.5 lake=flood1 coordinates=638728,220278\n",
    "!d.rast elev_lid792_1m\n",
    "!d.rast flood1\n",
    "Image(filename=\"map.png\")"
   ]
  },
  {
   "cell_type": "markdown",
   "metadata": {},
   "source": [
    "Increase water level to 113.7m and 114.0m and create flooded\n",
    "area maps at these two levels."
   ]
  },
  {
   "cell_type": "code",
   "execution_count": null,
   "metadata": {},
   "outputs": [],
   "source": [
    "# end the GRASS session\n",
    "os.remove(rcfile)"
   ]
  }
 ],
 "metadata": {
  "kernelspec": {
   "display_name": "Python 2",
   "language": "python",
   "name": "python2"
  }
 },
 "nbformat": 4,
 "nbformat_minor": 0
}
