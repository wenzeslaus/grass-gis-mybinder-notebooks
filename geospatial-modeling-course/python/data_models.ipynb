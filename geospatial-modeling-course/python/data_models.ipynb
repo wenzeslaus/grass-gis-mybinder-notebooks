{
 "cells": [
  {
   "cell_type": "markdown",
   "metadata": {},
   "source": [
    "## Geospatial data models\n",
    "\n",
    "Resources:\n",
    "\n",
    "* [\n",
    "GRASS GIS overview and manual](http://grass.osgeo.org/grass72/manuals/index.html)\n",
    "*  [Recommendations](data_acquisition.html#commands)\n",
    "and [tutorial](http://www4.ncsu.edu/~akratoc/GRASS_intro/)\n",
    "how to use GUI from the first assignment\n",
    "\n",
    "\n",
    "### Start GRASS GIS\n",
    "Start GRASS - click on GRASS icon or type"
   ]
  },
  {
   "cell_type": "code",
   "execution_count": null,
   "metadata": {},
   "outputs": [],
   "source": [
    "# This is a quick introduction into Jupyter Notebook.\n",
    "# Python code can be excecuted like this:\n",
    "a = 6\n",
    "b = 7\n",
    "c = a * b\n",
    "print \"Answer is\", c\n",
    "# Python code can be mixed with command line code (Bash).\n",
    "# It is enough just to prefix the command line with an exclamation mark:\n",
    "!echo \"Answer is $c\"\n",
    "# Use Shift+Enter to execute this cell. The result is below."
   ]
  },
  {
   "cell_type": "code",
   "execution_count": null,
   "metadata": {},
   "outputs": [],
   "source": [
    "import os\n",
    "import sys\n",
    "import subprocess\n",
    "from IPython.display import Image\n",
    "\n",
    "# create GRASS GIS runtime environment\n",
    "gisbase = subprocess.check_output([\"grass\", \"--config\", \"path\"]).strip()\n",
    "os.environ['GISBASE'] = gisbase\n",
    "sys.path.append(os.path.join(gisbase, \"etc\", \"python\"))\n",
    "\n",
    "# do GRASS GIS imports\n",
    "import grass.script as gs\n",
    "import grass.script.setup as gsetup\n",
    "\n",
    "# set GRASS GIS session data\n",
    "rcfile = gsetup.init(gisbase, \"/home/jovyan/grassdata\", \"nc_spm_08_grass7\", \"user1\")"
   ]
  },
  {
   "cell_type": "code",
   "execution_count": null,
   "metadata": {},
   "outputs": [],
   "source": [
    "# default font displays\n",
    "os.environ['GRASS_FONT'] = 'sans'\n",
    "# overwrite existing maps\n",
    "os.environ['GRASS_OVERWRITE'] = '1'\n",
    "gs.set_raise_on_error(True)\n",
    "gs.set_capture_stderr(True)"
   ]
  },
  {
   "cell_type": "code",
   "execution_count": null,
   "metadata": {},
   "outputs": [],
   "source": [
    "# set display modules to render into a file (named map.png by default)\n",
    "os.environ['GRASS_RENDER_IMMEDIATE'] = 'cairo'\n",
    "os.environ['GRASS_RENDER_FILE_READ'] = 'TRUE'\n",
    "os.environ['GRASS_LEGEND_FILE'] = 'legend.txt'"
   ]
  },
  {
   "cell_type": "markdown",
   "metadata": {},
   "source": [
    "In startup pannel set GIS Data Directory to path to datasets,\n",
    "for example on MS Windows, `C:\\Users\\myname\\grassdata`.\n",
    "For Project location select nc_spm_08_grass7 (North Carolina, State Plane, meters) and\n",
    "for Accessible mapset create a new mapset (called e.g. HW_data_models).\n",
    "Click Start GRASS.\n",
    "\n",
    "If you prefer to work in GUI, you should be able to find out yourself\n",
    "the GUI equivalents for the tasks below.\n",
    "Some hints for GUI are included, but\n",
    "from now on, most of the instructions will be provided as commands for command line.\n",
    "Hint for running most of the commands in GUI - type or paste the name of the module\n",
    "into the command console in the _Console_ tab and then hit Enter to open the GUI dialog.\n",
    "_Read_ the manual page for each command you are using for the first time to learn\n",
    "what it is doing and what the parameters mean.\n",
    "\n",
    "### Resampling to higher resolution\n",
    "\n",
    "\n",
    "Resample the given raster map to higher and lower resolution\n",
    "(30m->10m, 30m->100m) and compare resampling by nearest neighbor\n",
    "with bilinear and bicubic method.\n",
    "First, set the computation region extent to our study area\n",
    "and set resolution to 30 meters.\n",
    "The computational region (region for short) is set using\n",
    "_g.region_ module.\n",
    "Here for convenience we use named region which defines both the extent and the resolution.\n",
    "This named region is included in the data (location) we are using\n",
    "but it is possible to create new named regions and use them to bookmark different study areas."
   ]
  },
  {
   "cell_type": "code",
   "execution_count": null,
   "metadata": {},
   "outputs": [],
   "source": [
    "gs.parse_command('g.region', region=\"swwake_30m\", flags='pg')"
   ]
  },
  {
   "cell_type": "markdown",
   "metadata": {},
   "source": [
    "The `-p` flag for _g.region_ is used to print the region\n",
    "we just set.\n",
    "\n",
    "\n",
    "Then we display the 30m resolution NED elevation raster."
   ]
  },
  {
   "cell_type": "code",
   "execution_count": null,
   "metadata": {},
   "outputs": [],
   "source": [
    "gs.run_command('d.rast', map=\"elev_ned_30m\")\n",
    "Image(filename=\"map.png\")"
   ]
  },
  {
   "cell_type": "markdown",
   "metadata": {},
   "source": [
    "To resample it to 10m resolution, first set the computational region to resolution 10m,\n",
    "then resample the raster using the nearest neighbor method.\n",
    "Hint: To open the _r.resamp.interp_ in GUI, type or paste the module name\n",
    "into the _Console_ tab, then _Enter_ to open the GUI dialog,\n",
    "don't forget to set the method to nearest under _Optional_ tab."
   ]
  },
  {
   "cell_type": "code",
   "execution_count": null,
   "metadata": {},
   "outputs": [],
   "source": [
    "gs.parse_command('g.region', res=\"10\", flags='pg')\n",
    "gs.run_command('r.resamp.interp', input=\"elev_ned_30m\", out=\"elev_ned10m_nn\", method=\"nearest\")"
   ]
  },
  {
   "cell_type": "markdown",
   "metadata": {},
   "source": [
    "Display the resampled map by adding \"elev_ned10m_nn\" to _Layer Manager_\n",
    "in case you don't have it in the Layer Manager already.\n",
    "Alternatively, use in command line the following:"
   ]
  },
  {
   "cell_type": "code",
   "execution_count": null,
   "metadata": {},
   "outputs": [],
   "source": [
    "gs.run_command('d.rast', map=\"elev_ned10m_nn\")\n",
    "Image(filename=\"map.png\")"
   ]
  },
  {
   "cell_type": "markdown",
   "metadata": {},
   "source": [
    "The elevation map \"elev_ned10m_nn\" looks the same as the original one,\n",
    "so now check the resampled elevation surface using the aspect map:"
   ]
  },
  {
   "cell_type": "code",
   "execution_count": null,
   "metadata": {},
   "outputs": [],
   "source": [
    "gs.run_command('r.slope.aspect', elevation=\"elev_ned10m_nn\", aspect=\"aspect_ned10m_nn\")"
   ]
  },
  {
   "cell_type": "markdown",
   "metadata": {},
   "source": [
    "Display the resampled map by adding \"aspect_ned10m_nn\" to _Layer Manager_\n",
    "or in command line using:"
   ]
  },
  {
   "cell_type": "code",
   "execution_count": null,
   "metadata": {},
   "outputs": [],
   "source": [
    "gs.run_command('d.rast', map=\"aspect_ned10m_nn\")\n",
    "Image(filename=\"map.png\")"
   ]
  },
  {
   "cell_type": "markdown",
   "metadata": {},
   "source": [
    "Save the displayed map and explain what is going on in the report\n",
    "and how it differs from the aspect computed from the original elevation map?\n",
    "To save the map, click in _Map Display_ to on the button\n",
    "_Save display to graphic file\"_ or alternatively,\n",
    "use the following command:"
   ]
  },
  {
   "cell_type": "code",
   "execution_count": null,
   "metadata": {},
   "outputs": [],
   "source": [
    "Image(filename=\"map.png\")"
   ]
  },
  {
   "cell_type": "markdown",
   "metadata": {},
   "source": [
    "Now, reinterpolate DEMs using bilinear and bicubic interpolation.\n",
    "Check the interpolated elevation surfaces using aspect maps."
   ]
  },
  {
   "cell_type": "code",
   "execution_count": null,
   "metadata": {},
   "outputs": [],
   "source": [
    "gs.run_command('r.resamp.interp', input=\"elev_ned_30m\", out=\"elev_ned10m_bil\", meth=\"bilinear\")\n",
    "gs.run_command('r.resamp.interp', input=\"elev_ned_30m\", out=\"elev_ned10m_bic\", meth=\"bicubic\")\n",
    "gs.run_command('r.slope.aspect', elevation=\"elev_ned10m_bil\", aspect=\"aspect_ned10m_bil\")\n",
    "gs.run_command('r.slope.aspect', elevation=\"elev_ned10m_bic\", aspect=\"aspect_ned10m_bic\")\n",
    "gs.run_command('d.rast', map=\"aspect_ned10m_bil\")\n",
    "gs.run_command('d.rast', map=\"aspect_ned10m_bic\")\n",
    "Image(filename=\"map.png\")"
   ]
  },
  {
   "cell_type": "markdown",
   "metadata": {},
   "source": [
    "Save the displayed map and in your report, compare the result with\n",
    "the previously computed nearest neighbor result.\n",
    "In _Map Display_ click button _Save display to graphic file_,\n",
    "or use the following in the command line:"
   ]
  },
  {
   "cell_type": "code",
   "execution_count": null,
   "metadata": {},
   "outputs": [],
   "source": [
    "Image(filename=\"map.png\")"
   ]
  },
  {
   "cell_type": "markdown",
   "metadata": {},
   "source": [
    "### Resampling to lower resolution\n",
    "\n",
    "\n",
    "Resample to lower resolution (30m -> 100m).\n",
    "\n",
    "First, display the original elevation and land use maps:"
   ]
  },
  {
   "cell_type": "code",
   "execution_count": null,
   "metadata": {},
   "outputs": [],
   "source": [
    "gs.run_command('d.rast', map=\"elev_ned_30m\")\n",
    "gs.run_command('d.rast', map=\"landuse96_28m\")\n",
    "Image(filename=\"map.png\")"
   ]
  },
  {
   "cell_type": "markdown",
   "metadata": {},
   "source": [
    "Then change the region resolution and resample\n",
    "elevation (which is a continuous field)\n",
    "and land use (which has discrete categories).\n",
    "Explain selection of aggregation method. Can we use average also for landuse?\n",
    "What does mode mean?"
   ]
  },
  {
   "cell_type": "code",
   "execution_count": null,
   "metadata": {},
   "outputs": [],
   "source": [
    "gs.parse_command('g.region', res=\"100\", flags='pg')\n",
    "gs.run_command('r.resamp.stats', input=\"elev_ned_30m\", out=\"elev_new100m_avg\", method=\"average\")\n",
    "gs.run_command('d.rast', map=\"elev_new100m_avg\")\n",
    "Image(filename=\"map.png\")"
   ]
  },
  {
   "cell_type": "markdown",
   "metadata": {},
   "source": [
    "Before the next computation, remove all map layers from the _Layer Manager_\n",
    "because we don't need to see them anymore."
   ]
  },
  {
   "cell_type": "code",
   "execution_count": null,
   "metadata": {},
   "outputs": [],
   "source": [
    "gs.run_command('d.erase')\n",
    "gs.run_command('r.resamp.stats', input=\"landuse96_28m\", out=\"landuse96_100m\", method=\"mode\")\n",
    "gs.run_command('d.rast', map=\"landuse96_100m\")\n",
    "Image(filename=\"map.png\")"
   ]
  },
  {
   "cell_type": "markdown",
   "metadata": {},
   "source": [
    "Remove or switch off the land use, elevation and aspect maps.\n",
    "\n",
    "\n",
    "\n",
    "### Converting between vector data types\n",
    "\n",
    "\n",
    "Convert census blocks polygons to points using their centroids\n",
    "(useful for interpolating a population density trend surface):"
   ]
  },
  {
   "cell_type": "code",
   "execution_count": null,
   "metadata": {},
   "outputs": [],
   "source": [
    "gs.run_command('v.to.points', input=\"census_wake2000\", type=\"centroid\", out=\"census_centr\", use=\"vertex\")"
   ]
  },
  {
   "cell_type": "markdown",
   "metadata": {},
   "source": [
    "Display census boundaries using GUI:\n",
    "_Add vector_ \"census_wake2000\"\n",
    "_Selection_ > _Feature type_ > _boundary_\n",
    "(switch off the other types).\n",
    "Save the displayed map in _Map Display_ click button\n",
    "_Save display to graphic file_.\n",
    "Alternatively, use the following commands to control display.\n",
    "\n",
    "Note that in both command line and GUI you must either enter the full path\n",
    "to the file you are saving the image in, or you must know the current working\n",
    "directory."
   ]
  },
  {
   "cell_type": "code",
   "execution_count": null,
   "metadata": {},
   "outputs": [],
   "source": [
    "gs.run_command('d.vect', map=\"census_centr\", icon=\"basic/circle\", fill_color=\"green\", size=\"10\")\n",
    "gs.run_command('d.vect', map=\"census_wake2000\", color=\"red\", fill_color=\"none\")\n",
    "gs.run_command('d.legend.vect')\n",
    "Image(filename=\"map.png\")"
   ]
  },
  {
   "cell_type": "markdown",
   "metadata": {},
   "source": [
    "Convert contour lines to points (useful for computing DEM from contours):"
   ]
  },
  {
   "cell_type": "code",
   "execution_count": null,
   "metadata": {},
   "outputs": [],
   "source": [
    "gs.run_command('v.to.points', input=\"elev_ned10m_cont10m\", output=\"elev_ned_contpts\", type=\"line\", use=\"vertex\")"
   ]
  },
  {
   "cell_type": "markdown",
   "metadata": {},
   "source": [
    "Display the \"elev_ned_contpts\" points vector and zoom-in to very small area\n",
    "to see the actual points."
   ]
  },
  {
   "cell_type": "code",
   "execution_count": null,
   "metadata": {},
   "outputs": [],
   "source": [
    "gs.run_command('d.vect', map=\"elev_ned_contpts\", co=\"brown\", icon=\"basic/point\", size=\"3\")\n",
    "Image(filename=\"map.png\")"
   ]
  },
  {
   "cell_type": "markdown",
   "metadata": {},
   "source": [
    "### Convert from vector to raster\n",
    "\n",
    "\n",
    "Convert vector data to raster for use in raster-based analysis.\n",
    "First, adjust the computational region to resolution 200m:"
   ]
  },
  {
   "cell_type": "code",
   "execution_count": null,
   "metadata": {},
   "outputs": [],
   "source": [
    "gs.parse_command('g.region', region=\"swwake_30m\", res=\"200\", flags='pg')"
   ]
  },
  {
   "cell_type": "markdown",
   "metadata": {},
   "source": [
    "Then remove all layers from the _Layer Manager_.\n",
    "\n",
    "\n",
    "\n",
    "Convert vector points \"schools\" to raster.\n",
    "As value for raster use attribute column \"CORECAPACI\" for core capacity.\n",
    "To add legend in GUI use\n",
    "_Add map elements_ > _Show/hide legend_\n",
    "and select \"schools_cap_200m\"."
   ]
  },
  {
   "cell_type": "code",
   "execution_count": null,
   "metadata": {},
   "outputs": [],
   "source": [
    "gs.run_command('d.vect', map=\"schools_wake\")\n",
    "print gs.read_command('v.info', map=\"schools_wake\", flags='c')\n",
    "gs.run_command('v.to.rast', input=\"schools_wake\", out=\"schools_cap_200m\", use=\"attr\", attrcol=\"CORECAPACI\", type=\"point\")\n",
    "gs.run_command('d.rast', map=\"schools_cap_200m\")\n",
    "gs.run_command('d.vect', map=\"streets_wake\", co=\"grey\")\n",
    "gs.run_command('d.legend', raster=\"schools_cap_200m\", at=\"70,30,2,6\")\n",
    "Image(filename=\"map.png\")"
   ]
  },
  {
   "cell_type": "markdown",
   "metadata": {},
   "source": [
    "Now convert lines in \"streets\" vector to raster.\n",
    "Set the resolution to 30m and use speed limit attribute."
   ]
  },
  {
   "cell_type": "code",
   "execution_count": null,
   "metadata": {},
   "outputs": [],
   "source": [
    "gs.parse_command('g.region', res=\"30\", flags='pg')\n",
    "gs.run_command('v.to.rast', input=\"streets_wake\", out=\"streets_speed_30m\", use=\"attr\", attrcol=\"SPEED\", type=\"line\")"
   ]
  },
  {
   "cell_type": "markdown",
   "metadata": {},
   "source": [
    "If you haven't done this already, add remove all other map layers\n",
    "from _Layer Manager_ and add \"streets_speed_30m\" raster layer.\n",
    "Add legend for \"streets_speed_30m\" raster using GUI in _Map Display_:\n",
    "_Add legend_ > _Set Options_ > _Advanced_ > _List of discrete cat numbers_\n",
    "and type in speed limits 25,35,45,55,65; move legend with mouse as needed.\n",
    "\n",
    "Alternatively, use the following commands:"
   ]
  },
  {
   "cell_type": "code",
   "execution_count": null,
   "metadata": {},
   "outputs": [],
   "source": [
    "gs.run_command('d.erase')\n",
    "gs.run_command('d.rast', map=\"streets_speed_30m\")\n",
    "gs.run_command('d.legend', raster=\"streets_speed_30m\", at=\"5,30,2,5\", use=\"25,35,45,55,65\")\n",
    "Image(filename=\"map.png\")"
   ]
  },
  {
   "cell_type": "markdown",
   "metadata": {},
   "source": [
    "Save the displayed map.\n",
    "In _Map Display_ click button _Save display to graphic file_,\n",
    "or use the following."
   ]
  },
  {
   "cell_type": "code",
   "execution_count": null,
   "metadata": {},
   "outputs": [],
   "source": [
    "Image(filename=\"map.png\")"
   ]
  },
  {
   "cell_type": "markdown",
   "metadata": {},
   "source": [
    "### Convert from raster to vector\n",
    "\n",
    "Convert raster lines to vector lines.\n",
    "\n",
    "First, set the region and remove map layers from _Layer Manager_.\n",
    "Then do the conversion.\n",
    "\n",
    "Explain why we are using _r.thin_ module.\n",
    "You may want to remove all previously used layers from the _Layer Manager_\n",
    "before you start these new computations."
   ]
  },
  {
   "cell_type": "code",
   "execution_count": null,
   "metadata": {},
   "outputs": [],
   "source": [
    "gs.run_command('d.erase')\n",
    "gs.parse_command('g.region', raster=\"streams_derived\", flags='pg')\n",
    "gs.run_command('d.rast', map=\"streams_derived\")\n",
    "gs.run_command('r.thin', input=\"streams_derived\", output=\"streams_derived_t\")\n",
    "gs.run_command('r.to.vect', input=\"streams_derived_t\", output=\"streams_derived_t\", type=\"line\")\n",
    "Image(filename=\"map.png\")"
   ]
  },
  {
   "cell_type": "markdown",
   "metadata": {},
   "source": [
    "Visually compare the result with streams digitized from airphotos."
   ]
  },
  {
   "cell_type": "code",
   "execution_count": null,
   "metadata": {},
   "outputs": [],
   "source": [
    "gs.run_command('d.vect', map=\"streams_derived_t\", color=\"blue\")\n",
    "gs.run_command('d.vect', map=\"streams\", color=\"red\")\n",
    "Image(filename=\"map.png\")"
   ]
  },
  {
   "cell_type": "markdown",
   "metadata": {},
   "source": [
    "Save the displayed map (in Map Display click button _Save display to graphic file_)."
   ]
  },
  {
   "cell_type": "code",
   "execution_count": null,
   "metadata": {},
   "outputs": [],
   "source": [
    "Image(filename=\"map.png\")"
   ]
  },
  {
   "cell_type": "markdown",
   "metadata": {},
   "source": [
    "Convert raster areas representing basins to vector polygons.\n",
    "\n",
    "Use raster value as category number (flag -v) and \n",
    "display vector polygons filled with random colors.\n",
    "In GUI: Add vector > Colors > Switch on Random colors.\n",
    "You may want to remove all previously used layers from the _Layer Manager_\n",
    "before you start these new computations."
   ]
  },
  {
   "cell_type": "code",
   "execution_count": null,
   "metadata": {},
   "outputs": [],
   "source": [
    "gs.parse_command('g.region', raster=\"basin_50K\", flags='pg')\n",
    "gs.run_command('d.erase')\n",
    "gs.run_command('d.rast', map=\"basin_50K\")\n",
    "gs.run_command('r.to.vect', input=\"basin_50K\", output=\"basin_50Kval\", type=\"area\", flags='sv')\n",
    "gs.run_command('d.vect', map=\"basin_50Kval\", flags='c')\n",
    "gs.run_command('d.vect', map=\"streams\", color=\"blue\")\n",
    "Image(filename=\"map.png\")"
   ]
  },
  {
   "cell_type": "markdown",
   "metadata": {},
   "source": [
    "Save the displayed map either using GUI or using the following in case\n",
    "you are working in the command line."
   ]
  },
  {
   "cell_type": "code",
   "execution_count": null,
   "metadata": {},
   "outputs": [],
   "source": [
    "Image(filename=\"map.png\")"
   ]
  },
  {
   "cell_type": "code",
   "execution_count": null,
   "metadata": {},
   "outputs": [],
   "source": [
    "# end the GRASS session\n",
    "os.remove(rcfile)"
   ]
  }
 ],
 "metadata": {
  "kernelspec": {
   "display_name": "Python 2",
   "language": "python",
   "name": "python2"
  }
 },
 "nbformat": 4,
 "nbformat_minor": 0
}
