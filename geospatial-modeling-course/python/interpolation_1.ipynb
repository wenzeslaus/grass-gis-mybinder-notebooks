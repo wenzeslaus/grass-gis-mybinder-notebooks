{
 "cells": [
  {
   "cell_type": "markdown",
   "metadata": {},
   "source": [
    "## Spatial interpolation and approximation I: methods\n",
    "Resources:\n",
    "\n",
    "* [\n",
    "GRASS GIS overview and manual](http://grass.osgeo.org/grass72/manuals/index.html)\n",
    "*  [Recommendations](data_acquisition.html#commands)\n",
    "and [tutorial](http://www4.ncsu.edu/~akratoc/GRASS_intro/)\n",
    "how to use GUI from the first assignment\n",
    "\n",
    "\n",
    "### Start GRASS GIS\n",
    "Start GRASS - click on GRASS icon or type"
   ]
  },
  {
   "cell_type": "code",
   "execution_count": null,
   "metadata": {},
   "outputs": [],
   "source": [
    "# This is a quick introduction into Jupyter Notebook.\n",
    "# Python code can be excecuted like this:\n",
    "a = 6\n",
    "b = 7\n",
    "c = a * b\n",
    "print \"Answer is\", c\n",
    "# Python code can be mixed with command line code (Bash).\n",
    "# It is enough just to prefix the command line with an exclamation mark:\n",
    "!echo \"Answer is $c\"\n",
    "# Use Shift+Enter to execute this cell. The result is below."
   ]
  },
  {
   "cell_type": "code",
   "execution_count": null,
   "metadata": {},
   "outputs": [],
   "source": [
    "import os\n",
    "import sys\n",
    "import subprocess\n",
    "from IPython.display import Image\n",
    "\n",
    "# create GRASS GIS runtime environment\n",
    "gisbase = subprocess.check_output([\"grass\", \"--config\", \"path\"]).strip()\n",
    "os.environ['GISBASE'] = gisbase\n",
    "sys.path.append(os.path.join(gisbase, \"etc\", \"python\"))\n",
    "\n",
    "# do GRASS GIS imports\n",
    "import grass.script as gs\n",
    "import grass.script.setup as gsetup\n",
    "\n",
    "# set GRASS GIS session data\n",
    "rcfile = gsetup.init(gisbase, \"/home/jovyan/grassdata\", \"nc_spm_08_grass7\", \"user1\")"
   ]
  },
  {
   "cell_type": "code",
   "execution_count": null,
   "metadata": {},
   "outputs": [],
   "source": [
    "# default font displays\n",
    "os.environ['GRASS_FONT'] = 'sans'\n",
    "# overwrite existing maps\n",
    "os.environ['GRASS_OVERWRITE'] = '1'\n",
    "gs.set_raise_on_error(True)\n",
    "gs.set_capture_stderr(True)"
   ]
  },
  {
   "cell_type": "code",
   "execution_count": null,
   "metadata": {},
   "outputs": [],
   "source": [
    "# set display modules to render into a file (named map.png by default)\n",
    "os.environ['GRASS_RENDER_IMMEDIATE'] = 'cairo'\n",
    "os.environ['GRASS_RENDER_FILE_READ'] = 'TRUE'\n",
    "os.environ['GRASS_LEGEND_FILE'] = 'legend.txt'"
   ]
  },
  {
   "cell_type": "markdown",
   "metadata": {},
   "source": [
    "In startup pannel set GIS Data Directory to path to datasets,\n",
    "for example on MS Windows, `C:\\Users\\myname\\grassdata`.\n",
    "For Project location select nc_spm_08_grass7 (North Carolina, State Plane, meters) and\n",
    "for Accessible mapset create a new mapset (called e.g. HW_interpolation_1).\n",
    "Click Start GRASS.\n",
    "\n",
    "\n",
    "### Compute Voronoi polygons\n",
    "Display the polygons with centroids.\n",
    "Find the column name where z is stored and convert the polygons to raster.\n",
    "Compute aspect to evaluate the surface geometry."
   ]
  },
  {
   "cell_type": "code",
   "execution_count": null,
   "metadata": {},
   "outputs": [],
   "source": [
    "gs.parse_command('g.region', region=\"rural_1m\", flags='pg')\n",
    "gs.run_command('d.erase')\n",
    "gs.run_command('v.voronoi', input=\"elev_lid792_randpts\", output=\"elev_vor\")\n",
    "gs.run_command('d.vect', map=\"elev_vor\", size=\"1\", type=\"area,centroid\", flags='c')\n",
    "print gs.read_command('v.info', map=\"elev_vor\", flags='c')\n",
    "gs.run_command('v.to.rast', input=\"elev_vor\", output=\"elev_vor_1m\", attrcolumn=\"value\", use=\"attr\")\n",
    "gs.run_command('r.colors', map=\"elev_vor_1m\", color=\"elevation\")\n",
    "gs.run_command('r.slope.aspect', elevation=\"elev_vor_1m\", aspect=\"asp_vor_1m\")\n",
    "Image(filename=\"map.png\")"
   ]
  },
  {
   "cell_type": "markdown",
   "metadata": {},
   "source": [
    "Display the resulting elevation map and aspect map."
   ]
  },
  {
   "cell_type": "code",
   "execution_count": null,
   "metadata": {},
   "outputs": [],
   "source": [
    "gs.run_command('d.erase')\n",
    "gs.run_command('d.rast', map=\"elev_vor_1m\")\n",
    "gs.run_command('d.rast', map=\"asp_vor_1m\")\n",
    "gs.run_command('d.vect', map=\"elev_lid792_randpts\", size=\"1\", color=\"red\")\n",
    "Image(filename=\"map.png\")"
   ]
  },
  {
   "cell_type": "markdown",
   "metadata": {},
   "source": [
    "Optionally, you can view it in 3D perspective\n",
    "(switch off all layers except for elev_vor_1m and switch to 3D view).\n",
    "\n",
    "### Interpolation using IDW\n",
    "Set region and resolution, find a column name where z is stored.\n",
    "Interpolate DEM using IDW, check the result using aspect."
   ]
  },
  {
   "cell_type": "code",
   "execution_count": null,
   "metadata": {},
   "outputs": [],
   "source": [
    "gs.parse_command('g.region', region=\"rural_1m\", flags='pg')\n",
    "print gs.read_command('v.info', map=\"elev_lid792_randpts\", flags='c')\n",
    "gs.run_command('v.surf.idw', input=\"elev_lid792_randpts\", output=\"elev_idw_1m\", column=\"value\")\n",
    "gs.run_command('r.colors', map=\"elev_idw_1m\", color=\"elevation\")\n",
    "gs.run_command('r.slope.aspect', elevation=\"elev_idw_1m\", aspect=\"asp_idw_1m\")\n",
    "gs.run_command('d.erase')\n",
    "gs.run_command('d.rast', map=\"elev_idw_1m\")\n",
    "gs.run_command('d.rast', map=\"asp_idw_1m\")\n",
    "gs.run_command('d.vect', map=\"elev_lid792_randpts\", size=\"2\", color=\"red\")\n",
    "Image(filename=\"map.png\")"
   ]
  },
  {
   "cell_type": "markdown",
   "metadata": {},
   "source": [
    "Design experiment that elucidates the impact of IDW parameters on the surface,\n",
    "focus on the impact of:\n",
    "\n",
    "* exponent e.g., power=0.5, 1, 5 (2 is the default)\n",
    "* number of neighboring points e.g., npoint=1, 5, 20, 60 (12 is the default)\n",
    "\n",
    "Include selected images (e.g. hillshade or aspect)\n",
    "and _relevant_ stats (e.g., mean, min, max from _r.univar_, histogram)\n",
    "that highlight the differences in the resulting surfaces into your report.\n",
    "\n",
    "Check the surface interpolated with default parameters using 3D view.\n",
    "Do not forget to switch off everything except for the interpolated elevations and\n",
    "set fine resolution to 1.\n",
    "You can use constant color for the surface to highlight its structure.\n",
    "Save an image for your report.\n",
    "\n",
    "### Compute DEM from contours\n",
    "Compute DEM from contours using linear interpolation between isolines:"
   ]
  },
  {
   "cell_type": "code",
   "execution_count": null,
   "metadata": {},
   "outputs": [],
   "source": [
    "gs.parse_command('g.region', region=\"rural_1m\", flags='pg')\n",
    "gs.run_command('v.to.rast', input=\"elev_lid792_cont1m\", output=\"el_lid792_cont1m\", attrcolumn=\"level\", use=\"attr\")\n",
    "gs.run_command('r.surf.contour', input=\"el_lid792_cont1m\", output=\"el_rcont\")\n",
    "gs.run_command('r.colors', map=\"el_rcont\", color=\"elevation\")"
   ]
  },
  {
   "cell_type": "markdown",
   "metadata": {},
   "source": [
    "Check the result using a 2D aspect map or view el_rcont in 3D.\n",
    "In 3D set view from SE and light from NW to reveal subtle geometry."
   ]
  },
  {
   "cell_type": "code",
   "execution_count": null,
   "metadata": {},
   "outputs": [],
   "source": [
    "gs.run_command('r.slope.aspect', elevation=\"el_rcont\", aspect=\"asp_rcont\")\n",
    "gs.run_command('d.rast', map=\"el_rcont\")\n",
    "gs.run_command('d.rast', map=\"asp_rcont\")\n",
    "gs.run_command('d.vect', map=\"elev_lid792_cont1m\", col=\"white\")\n",
    "Image(filename=\"map.png\")"
   ]
  },
  {
   "cell_type": "markdown",
   "metadata": {},
   "source": [
    "### Optional: create TIN model\n",
    "Convert z-value stored as attribute \"value\" to z-coordinate.\n",
    "Compute TIN and visualize it as 3D vector data:\n",
    "Keep only \"level90\", \"elev_idw_1m\" and \"elev_rand_tin\" switched on.\n",
    "For \"elev_rand_tin\" > _Properties_ under Tab Selection switch off everything except for boundary.\n",
    "Switch the view from 2D to 3D and remove elev_idw_1m."
   ]
  },
  {
   "cell_type": "code",
   "execution_count": null,
   "metadata": {},
   "outputs": [],
   "source": [
    "gs.run_command('v.to.3d', input=\"elev_lid792_randpts\", output=\"elev_lid792_randpts3d\", column=\"value\")\n",
    "gs.run_command('v.delaunay', input=\"elev_lid792_randpts3d\", output=\"elev_rand_tin\")\n",
    "gs.mapcalc(\"level90 = 90\")"
   ]
  },
  {
   "cell_type": "code",
   "execution_count": null,
   "metadata": {},
   "outputs": [],
   "source": [
    "# end the GRASS session\n",
    "os.remove(rcfile)"
   ]
  }
 ],
 "metadata": {
  "kernelspec": {
   "display_name": "Python 2",
   "language": "python",
   "name": "python2"
  }
 },
 "nbformat": 4,
 "nbformat_minor": 0
}
