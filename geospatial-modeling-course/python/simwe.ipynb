{
 "cells": [
  {
   "cell_type": "markdown",
   "metadata": {},
   "source": [
    "## Surface water flow and erosion simulation\n",
    "\n",
    "Here we compute surface runoff, and sediment transport using existing\n",
    "path sampling model.\n",
    "\n",
    "\n",
    "Resources:\n",
    "\n",
    "    \n",
    "* [\n",
    "GRASS GIS overview and manual](http://grass.osgeo.org/grass72/manuals/index.html)\n",
    "    \n",
    "* [GRASS book](http://www.grassbook.org/)\n",
    "\n",
    "\n",
    "\n",
    "\n",
    "For animating in GRASS GIS 7, see the\n",
    "[video instructions](https://www.youtube.com/watch?v=Pi1ESk9iPwk) or\n",
    "instructions for the\n",
    "[\n",
    "  Spatio-temporal data handling and visualization in GRASS GIS workshop\n",
    "](http://ncsu-geoforall-lab.github.io/grass-temporal-workshop/)\n",
    "\n",
    "\n",
    "### Start GRASS GIS\n",
    "Start GRASS - click on GRASS icon or type"
   ]
  },
  {
   "cell_type": "code",
   "execution_count": null,
   "metadata": {},
   "outputs": [],
   "source": [
    "# This is a quick introduction into Jupyter Notebook.\n",
    "# Python code can be excecuted like this:\n",
    "a = 6\n",
    "b = 7\n",
    "c = a * b\n",
    "print \"Answer is\", c\n",
    "# Python code can be mixed with command line code (Bash).\n",
    "# It is enough just to prefix the command line with an exclamation mark:\n",
    "!echo \"Answer is $c\"\n",
    "# Use Shift+Enter to execute this cell. The result is below."
   ]
  },
  {
   "cell_type": "code",
   "execution_count": null,
   "metadata": {},
   "outputs": [],
   "source": [
    "import os\n",
    "import sys\n",
    "import subprocess\n",
    "from IPython.display import Image\n",
    "\n",
    "# create GRASS GIS runtime environment\n",
    "gisbase = subprocess.check_output([\"grass\", \"--config\", \"path\"]).strip()\n",
    "os.environ['GISBASE'] = gisbase\n",
    "sys.path.append(os.path.join(gisbase, \"etc\", \"python\"))\n",
    "\n",
    "# do GRASS GIS imports\n",
    "import grass.script as gs\n",
    "import grass.script.setup as gsetup\n",
    "\n",
    "# set GRASS GIS session data\n",
    "rcfile = gsetup.init(gisbase, \"/home/jovyan/grassdata\", \"nc_spm_08_grass7\", \"user1\")"
   ]
  },
  {
   "cell_type": "code",
   "execution_count": null,
   "metadata": {},
   "outputs": [],
   "source": [
    "# default font displays\n",
    "os.environ['GRASS_FONT'] = 'sans'\n",
    "# overwrite existing maps\n",
    "os.environ['GRASS_OVERWRITE'] = '1'\n",
    "gs.set_raise_on_error(True)\n",
    "gs.set_capture_stderr(True)"
   ]
  },
  {
   "cell_type": "code",
   "execution_count": null,
   "metadata": {},
   "outputs": [],
   "source": [
    "# set display modules to render into a file (named map.png by default)\n",
    "os.environ['GRASS_RENDER_IMMEDIATE'] = 'cairo'\n",
    "os.environ['GRASS_RENDER_FILE_READ'] = 'TRUE'\n",
    "os.environ['GRASS_LEGEND_FILE'] = 'legend.txt'"
   ]
  },
  {
   "cell_type": "markdown",
   "metadata": {},
   "source": [
    "In startup pannel set GIS Data Directory to path to datasets,\n",
    "for example on MS Windows, `C:\\Users\\myname\\grassdata`.\n",
    "For Project location select nc_spm_08_grass7 (North Carolina, State Plane, meters) and\n",
    "for Accessible mapset create a new mapset (called e.g. HW_interpolation_2).\n",
    "Click Start GRASS.\n",
    "\n",
    "\n",
    "### Overland flow depth and discharge"
   ]
  },
  {
   "cell_type": "code",
   "execution_count": null,
   "metadata": {},
   "outputs": [],
   "source": [
    "gs.parse_command('g.region', region=\"rural_1m\", res=\"2\", flags='pg')"
   ]
  },
  {
   "cell_type": "markdown",
   "metadata": {},
   "source": [
    "Calculate partial derivatives to define the gradient of elevation surface:"
   ]
  },
  {
   "cell_type": "code",
   "execution_count": null,
   "metadata": {},
   "outputs": [],
   "source": [
    "gs.run_command('v.surf.rst', input=\"elev_lid792_bepts\", elevation=\"elev_lid792_2m\", slope=\"dx_2m\", aspect=\"dy_2m\", tension=\"15\", smooth=\"1.5\", npmin=\"150\", flags='d')"
   ]
  },
  {
   "cell_type": "markdown",
   "metadata": {},
   "source": [
    "Note that partial derivatives can be also computed using _r.slope.aspect_.\n",
    "\n",
    "\n",
    "Compute spatial pattern of overland flow depth and discharge\n",
    "by running the SIMWE model implemented in\n",
    "the _r.sim.water_ module.\n",
    "We will use uniform rainfall excess, infiltration and land cover."
   ]
  },
  {
   "cell_type": "code",
   "execution_count": null,
   "metadata": {},
   "outputs": [],
   "source": [
    "gs.run_command('r.sim.water', elevation=\"elev_lid792_2m\", dx=\"dx_2m\", dy=\"dy_2m\", rain_value=\"50\", infil_value=\"0\", man_value=\"0.05\", depth=\"wdp_2m\", discharge=\"disch_2m\", nwalkers=\"100000\", niterations=\"120\", output_step=\"20\", flags='t')"
   ]
  },
  {
   "cell_type": "markdown",
   "metadata": {},
   "source": [
    "Display the results, add legend for individual raster and whatever you think is appropriate."
   ]
  },
  {
   "cell_type": "code",
   "execution_count": null,
   "metadata": {},
   "outputs": [],
   "source": [
    "gs.run_command('d.rast', map=\"wdp_2m.120\")\n",
    "gs.run_command('d.rast', map=\"disch_2m.120\")\n",
    "Image(filename=\"map.png\")"
   ]
  },
  {
   "cell_type": "markdown",
   "metadata": {},
   "source": [
    "Optionally, animate the time series:\n",
    "_File > Animation tool_\n",
    "\n",
    "\n",
    "#### Peak runoff with predefined flow direction\n",
    "\n",
    "Compute peak runoff with predefined flow direction\n",
    "along the stream inluding culvert under the road.\n",
    "\n",
    "\n",
    "First, compute direction (aspect) of the given streams:"
   ]
  },
  {
   "cell_type": "code",
   "execution_count": null,
   "metadata": {},
   "outputs": [],
   "source": [
    "gs.run_command('v.to.rast', input=\"streams\", output=\"streams_dir_2m\", use=\"dir\")"
   ]
  },
  {
   "cell_type": "markdown",
   "metadata": {},
   "source": [
    "Compute stream dx and dy using direction and slope equal to 2 degrees:"
   ]
  },
  {
   "cell_type": "code",
   "execution_count": null,
   "metadata": {},
   "outputs": [],
   "source": [
    "gs.mapcalc(\"dxstr_2m = tan(2.)*cos(streams_dir_2m)\")\n",
    "gs.mapcalc(\"dystr_2m = tan(2.)*sin(streams_dir_2m)\")"
   ]
  },
  {
   "cell_type": "markdown",
   "metadata": {},
   "source": [
    "Compute combined DEM and stream dx and dy:"
   ]
  },
  {
   "cell_type": "code",
   "execution_count": null,
   "metadata": {},
   "outputs": [],
   "source": [
    "gs.mapcalc(\"dxdemstr_2m = if(isnull(dxstr_2m), dx_2m, dxstr_2m)\")\n",
    "gs.mapcalc(\"dydemstr_2m = if(isnull(dystr_2m), dy_2m, dystr_2m)\")"
   ]
  },
  {
   "cell_type": "markdown",
   "metadata": {},
   "source": [
    "Run the model:"
   ]
  },
  {
   "cell_type": "code",
   "execution_count": null,
   "metadata": {},
   "outputs": [],
   "source": [
    "gs.run_command('r.sim.water', elevation=\"elev_lid792_2m\", dx=\"dxdemstr_2m\", dy=\"dydemstr_2m\", rain_value=\"50\", infil_value=\"0\", man_value=\"0.05\", depth=\"wdpstr_2m\", discharge=\"dischstr_2m\", nwalkers=\"100000\", niterations=\"120\", output_step=\"20\", flags='t')\n",
    "gs.run_command('d.rast', map=\"dischstr_2m.120\")\n",
    "Image(filename=\"map.png\")"
   ]
  },
  {
   "cell_type": "markdown",
   "metadata": {},
   "source": [
    "Use Animation tool to animate the discharge.\n",
    "\n",
    "\n",
    "#### Runoff for spatially variable landcover and rainfall excess\n",
    "\n",
    "Compute runoff for spatially variable landcover\n",
    "represented by spatially variable Mannings and rainfall excess.\n",
    "\n",
    "\n",
    "We will use variable Mannings coefficient defined by reclassifying\n",
    "land cover class. Here is the content of a file called\n",
    "`land_to_mannings.txt` with reclassification rules for\n",
    "the _r.recode_ module."
   ]
  },
  {
   "cell_type": "code",
   "execution_count": null,
   "metadata": {},
   "outputs": [],
   "source": [
    "%%file land_to_mannings.txt\n",
    "1:1:0.9:0.9\n",
    "2:2:0.5:0.5\n",
    "3:3:0.01:0.01\n",
    "4:4:0.03:0.03\n",
    "5:5:0.01:0.01\n",
    "6:6:0.05:0.05\n",
    "7:7:0.1:0.1\n",
    "8:8:0.1:0.1\n",
    "9:9:0.9:0.9\n",
    "10:10:0.03:0.03\n",
    "11:11:0.5:0.5"
   ]
  },
  {
   "cell_type": "code",
   "execution_count": null,
   "metadata": {},
   "outputs": [],
   "source": [
    "gs.run_command('r.recode', input=\"landcover_1m\", output=\"mancover_2m\", rules=\"land_to_mannings.txt\")"
   ]
  },
  {
   "cell_type": "markdown",
   "metadata": {},
   "source": [
    "Similarly, we will create raster with spatially variable rainfall excess\n",
    "rates based on the land cover classes. We use file named\n",
    "`land_to_rain.txt` to specify the rates for individual classes."
   ]
  },
  {
   "cell_type": "code",
   "execution_count": null,
   "metadata": {},
   "outputs": [],
   "source": [
    "%%file land_to_rain.txt\n",
    "1:1:50:50\n",
    "2:2:5:5\n",
    "3:3:40:40\n",
    "4:4:35:35\n",
    "5:5:50:50\n",
    "6:6:40:40\n",
    "7:7:25:25\n",
    "8:8:15:15\n",
    "9:9:50.:50.\n",
    "10:10:40:40\n",
    "11:11:10:10"
   ]
  },
  {
   "cell_type": "markdown",
   "metadata": {},
   "source": [
    "Again, we use the file as rules for the _r.recode_ module."
   ]
  },
  {
   "cell_type": "code",
   "execution_count": null,
   "metadata": {},
   "outputs": [],
   "source": [
    "gs.run_command('r.recode', input=\"landcover_1m\", output=\"raincover_2m\", rules=\"land_to_rain.txt\")"
   ]
  },
  {
   "cell_type": "markdown",
   "metadata": {},
   "source": [
    "Run the model:"
   ]
  },
  {
   "cell_type": "code",
   "execution_count": null,
   "metadata": {},
   "outputs": [],
   "source": [
    "gs.run_command('r.sim.water', elevation=\"elev_lid792_2m\", dx=\"dxdemstr_2m\", dy=\"dydemstr_2m\", rain=\"raincover_2m\", infil_value=\"0\", man=\"mancover_2m\", depth=\"wdpstrcov_2m\", discharge=\"distrcov_2m\", nwalkers=\"100000\", niterations=\"120\", output_step=\"20\", flags='t')"
   ]
  },
  {
   "cell_type": "markdown",
   "metadata": {},
   "source": [
    "Display the static results."
   ]
  },
  {
   "cell_type": "code",
   "execution_count": null,
   "metadata": {},
   "outputs": [],
   "source": [
    "gs.run_command('d.rast', map=\"wdpstrcov_2m.120\")\n",
    "gs.run_command('d.legend', raster=\"wdpstrcov_2m.120\")\n",
    "gs.run_command('d.rast', map=\"distrcov_2m.120\")\n",
    "gs.run_command('d.legend', raster=\"distrcov_2m.120\")\n",
    "Image(filename=\"map.png\")"
   ]
  },
  {
   "cell_type": "markdown",
   "metadata": {},
   "source": [
    "Animate the time series using the Animation tool.\n",
    "\n",
    "\n",
    "### Sediment flow rate, erosion and deposition\n",
    "\n",
    "Compute sediment flow rate and net erosion/deposition using sediment\n",
    "transport part of the SIMWE model implemented in the\n",
    "the _r.sim.sediment_ module.\n",
    "To make the computations faster, set region just to the upper part of\n",
    "the watershed:"
   ]
  },
  {
   "cell_type": "code",
   "execution_count": null,
   "metadata": {},
   "outputs": [],
   "source": [
    "gs.run_command('g.region', s=\"s+290\")"
   ]
  },
  {
   "cell_type": "markdown",
   "metadata": {},
   "source": [
    "Compute input transport capacity and detachment coefficient maps:"
   ]
  },
  {
   "cell_type": "code",
   "execution_count": null,
   "metadata": {},
   "outputs": [],
   "source": [
    "gs.mapcalc(\"tranin = 0.001\")\n",
    "gs.mapcalc(\"detin = 0.001\")"
   ]
  },
  {
   "cell_type": "markdown",
   "metadata": {},
   "source": [
    "Compute input critical shear stress:"
   ]
  },
  {
   "cell_type": "code",
   "execution_count": null,
   "metadata": {},
   "outputs": [],
   "source": [
    "gs.mapcalc(\"tauin = 0.01\")"
   ]
  },
  {
   "cell_type": "markdown",
   "metadata": {},
   "source": [
    "Run the model using the last depth from previous run:"
   ]
  },
  {
   "cell_type": "code",
   "execution_count": null,
   "metadata": {},
   "outputs": [],
   "source": [
    "gs.run_command('g.copy', rast=\"wdp_2m.120,wdp_2m\")\n",
    "gs.run_command('r.sim.sediment', elevation=\"elev_lid792_2m\", dx=\"dx_2m\", dy=\"dy_2m\", water_depth=\"wdp_2m\", detachment_coeff=\"detin\", transport_coeff=\"tranin\", shear_stress=\"tauin\", man_value=\"0.05\", nwalkers=\"1000000\", niterations=\"120\", transport_capacity=\"tcapacity\", tlimit_erosion_deposition=\"erdepmax\", sediment_flux=\"sedflow\", erosion_deposition=\"erdepsimwe\")"
   ]
  },
  {
   "cell_type": "markdown",
   "metadata": {},
   "source": [
    "Display these results after few seconds:"
   ]
  },
  {
   "cell_type": "code",
   "execution_count": null,
   "metadata": {},
   "outputs": [],
   "source": [
    "gs.run_command('d.rast', map=\"tcapacity\")\n",
    "gs.run_command('d.rast', map=\"erdepmax\")\n",
    "Image(filename=\"map.png\")"
   ]
  },
  {
   "cell_type": "markdown",
   "metadata": {},
   "source": [
    "Display the final results:"
   ]
  },
  {
   "cell_type": "code",
   "execution_count": null,
   "metadata": {},
   "outputs": [],
   "source": [
    "gs.run_command('d.rast', map=\"sedflow\")\n",
    "gs.run_command('d.legend', raster=\"sedflow\")\n",
    "gs.run_command('d.rast', map=\"erdepsimwe\")\n",
    "gs.run_command('d.legend', raster=\"erdepsimwe\")\n",
    "Image(filename=\"map.png\")"
   ]
  },
  {
   "cell_type": "code",
   "execution_count": null,
   "metadata": {},
   "outputs": [],
   "source": [
    "# end the GRASS session\n",
    "os.remove(rcfile)"
   ]
  }
 ],
 "metadata": {
  "kernelspec": {
   "display_name": "Python 2",
   "language": "python",
   "name": "python2"
  }
 },
 "nbformat": 4,
 "nbformat_minor": 0
}
