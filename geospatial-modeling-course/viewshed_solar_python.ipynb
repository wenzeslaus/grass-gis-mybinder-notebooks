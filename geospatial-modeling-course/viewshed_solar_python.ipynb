{
 "cells": [
  {
   "cell_type": "markdown",
   "metadata": {},
   "source": [
    "## Viewshed and solar energy potential analysis\n",
    "Resources:\n",
    "\n",
    "* [\n",
    "GRASS GIS overview and manual](http://grass.osgeo.org/grass72/manuals/index.html)\n",
    "* [ GRASSbook](http://www.grassbook.org/)\n",
    "\n",
    "\n",
    "\n",
    "Text files with site locations:\n",
    "\n",
    "* [viewshed_points.txt](data/viewshed_points.txt)\n",
    "\n",
    "\n",
    "### Start GRASS GIS\n",
    "In startup pannel set GIS Data Directory to path to datasets,\n",
    "for example on MS Windows, `C:\\Users\\myname\\grassdata`.\n",
    "For Project location select nc_spm_08_grass7 (North Carolina, State Plane, meters) and\n",
    "for Accessible mapset create a new mapset (called e.g. HW_viewshed_solar) and\n",
    "click Start GRASS."
   ]
  },
  {
   "cell_type": "code",
   "execution_count": null,
   "metadata": {},
   "outputs": [],
   "source": [
    "# This is a quick introduction into Jupyter Notebook.\n",
    "# Python code can be excecuted like this:\n",
    "a = 6\n",
    "b = 7\n",
    "c = a * b\n",
    "print \"Answer is\", c\n",
    "# Python code can be mixed with command line code (Bash).\n",
    "# It is enough just to prefix the command line with an exclamation mark:\n",
    "!echo \"Answer is $c\"\n",
    "# Use Shift+Enter to execute this cell. The result is below."
   ]
  },
  {
   "cell_type": "code",
   "execution_count": null,
   "metadata": {},
   "outputs": [],
   "source": [
    "import os\n",
    "import sys\n",
    "import subprocess\n",
    "from IPython.display import Image\n",
    "\n",
    "# create GRASS GIS runtime environment\n",
    "gisbase = subprocess.check_output([\"grass\", \"--config\", \"path\"]).strip()\n",
    "os.environ['GISBASE'] = gisbase\n",
    "sys.path.append(os.path.join(gisbase, \"etc\", \"python\"))\n",
    "\n",
    "# do GRASS GIS imports\n",
    "import grass.script as gs\n",
    "import grass.script.setup as gsetup\n",
    "\n",
    "# set GRASS GIS session data\n",
    "rcfile = gsetup.init(gisbase, \"/home/jovyan/grassdata\", \"nc_spm_08_grass7\", \"user1\")"
   ]
  },
  {
   "cell_type": "code",
   "execution_count": null,
   "metadata": {},
   "outputs": [],
   "source": [
    "# default font displays\n",
    "os.environ['GRASS_FONT'] = 'sans'\n",
    "# overwrite existing maps\n",
    "os.environ['GRASS_OVERWRITE'] = '1'\n",
    "gs.set_raise_on_error(True)\n",
    "gs.set_capture_stderr(True)"
   ]
  },
  {
   "cell_type": "code",
   "execution_count": null,
   "metadata": {},
   "outputs": [],
   "source": [
    "# set display modules to render into a file (named map.png by default)\n",
    "os.environ['GRASS_RENDER_IMMEDIATE'] = 'cairo'\n",
    "os.environ['GRASS_RENDER_FILE_READ'] = 'TRUE'\n",
    "os.environ['GRASS_LEGEND_FILE'] = 'legend.txt'"
   ]
  },
  {
   "cell_type": "markdown",
   "metadata": {},
   "source": [
    "Change working directory:\n",
    "_Settings_ > _GRASS working environment_ > _Change working directory_ > select/create any directory\n",
    "or type `cd` (stands for change directory) into the GUI\n",
    "_Console_ and hit Enter:"
   ]
  },
  {
   "cell_type": "code",
   "execution_count": null,
   "metadata": {},
   "outputs": [],
   "source": [
    "# a proper directory is already set, download files\n",
    "import urllib\n",
    "urllib.urlretrieve(\"http://ncsu-geoforall-lab.github.io/geospatial-modeling-course/grass/data/viewshed_points.txt\", \"viewshed_points.txt\")"
   ]
  },
  {
   "cell_type": "markdown",
   "metadata": {},
   "source": [
    "Download all text files (see above)\n",
    "to the selected directory. Now you can use the commands from the assignment requiring the text file\n",
    "without the need to specify the full path to the file.\n",
    "\n",
    "### Viewshed analysis\n",
    "Compute viewshed from a new 32 story tower located in downtown."
   ]
  },
  {
   "cell_type": "code",
   "execution_count": null,
   "metadata": {},
   "outputs": [],
   "source": [
    "gs.parse_command('g.region', raster=\"elev_ned_30m\", flags='apg')\n",
    "gs.run_command('v.in.ascii', input=\"viewshed_points.txt\", output=\"viewpoints\", separator=\",\", z=\"3\", flags='z')\n",
    "gs.run_command('r.viewshed', input=\"elev_ned_30m\", output=\"tower_165_los\", coordinates=\"642212,224767\", observer_elevation=\"165\", max_distance=\"10000\")"
   ]
  },
  {
   "cell_type": "markdown",
   "metadata": {},
   "source": [
    "Display result on shaded relief:"
   ]
  },
  {
   "cell_type": "code",
   "execution_count": null,
   "metadata": {},
   "outputs": [],
   "source": [
    "gs.run_command('d.his', hue=\"tower_165_los\", intensity=\"elevation_shade\")\n",
    "gs.run_command('d.vect', map=\"streets_wake\")\n",
    "gs.run_command('d.vect', map=\"viewpoints\", size=\"10\", color=\"orange\", icon=\"basic/marker\")\n",
    "gs.run_command('d.barscale', at=\"3,6\")\n",
    "gs.run_command('d.legend', raster=\"tower_165_los\", at=\"50,90,2,6\")\n",
    "Image(filename=\"map.png\")"
   ]
  },
  {
   "cell_type": "markdown",
   "metadata": {},
   "source": [
    "Find out what is the landuse within the view using map algebra:"
   ]
  },
  {
   "cell_type": "code",
   "execution_count": null,
   "metadata": {},
   "outputs": [],
   "source": [
    "gs.mapcalc(\"tower_los_lu30m = if(tower_165_los,landclass96,null())\")\n",
    "gs.run_command('r.colors', map=\"tower_los_lu30m\", raster=\"landclass96\")\n",
    "print gs.read_command('r.category', map=\"tower_los_lu30m\", raster=\"landclass96\")\n",
    "print gs.read_command('r.report', map=\"tower_los_lu30m\", unit=\"p,h\", flags='n')"
   ]
  },
  {
   "cell_type": "markdown",
   "metadata": {},
   "source": [
    "Display only the following layers and save result:"
   ]
  },
  {
   "cell_type": "code",
   "execution_count": null,
   "metadata": {},
   "outputs": [],
   "source": [
    "gs.run_command('d.rast', map=\"tower_los_lu30m\")\n",
    "gs.run_command('d.vect', map=\"streets_wake\")\n",
    "gs.run_command('d.legend', raster=\"tower_los_lu30m\", at=\"25,50,1,3\")\n",
    "Image(filename=\"map.png\")"
   ]
  },
  {
   "cell_type": "markdown",
   "metadata": {},
   "source": [
    "We can also do visibility from former RedHat headquarters:"
   ]
  },
  {
   "cell_type": "code",
   "execution_count": null,
   "metadata": {},
   "outputs": [],
   "source": [
    "gs.run_command('r.viewshed', input=\"elev_ned_30m\", output=\"redhat_25_los\", coordinates=\"638898,224528\", observer_elevation=\"25\", max_distance=\"10000\")"
   ]
  },
  {
   "cell_type": "markdown",
   "metadata": {},
   "source": [
    "Display only the following layers and save result:"
   ]
  },
  {
   "cell_type": "code",
   "execution_count": null,
   "metadata": {},
   "outputs": [],
   "source": [
    "gs.run_command('d.rast', map=\"redhat_25_los\")\n",
    "gs.run_command('d.vect', map=\"streets_wake\")\n",
    "gs.run_command('d.vect', map=\"viewpoints\", size=\"10\", col=\"red\", icon=\"basic/marker\")\n",
    "Image(filename=\"map.png\")"
   ]
  },
  {
   "cell_type": "markdown",
   "metadata": {},
   "source": [
    "Use mapalgebra to compute landuse in the view,\n",
    "assign the visible land use map land use colors and category labels\n",
    "using _r.colors_ and _r.category_ (see previous example)\n",
    "and use _r.report_ -n to compare the size and land use composition within\n",
    "viewshed from the RBC tower and RH headquarters.\n",
    "\n",
    "### Solar radiation analysis\n",
    "\n",
    "Set the region and add the planned building to the DEM, we will use this new DEM for the analyses.\n",
    "Remove all layers and zoom to the region."
   ]
  },
  {
   "cell_type": "code",
   "execution_count": null,
   "metadata": {},
   "outputs": [],
   "source": [
    "gs.parse_command('g.region', region=\"rural_1m\", flags='pg')\n",
    "gs.mapcalc(\"elevfacility_1m = if(isnull(facility), elev_lid792_1m,138.)\")\n",
    "gs.run_command('r.colors', map=\"elevfacility_1m\", color=\"elevation\")\n",
    "gs.run_command('d.erase')\n",
    "gs.run_command('d.rast', map=\"elevfacility_1m\")\n",
    "Image(filename=\"map.png\")"
   ]
  },
  {
   "cell_type": "markdown",
   "metadata": {},
   "source": [
    "Prepare input maps (slope and aspect):"
   ]
  },
  {
   "cell_type": "code",
   "execution_count": null,
   "metadata": {},
   "outputs": [],
   "source": [
    "gs.run_command('r.slope.aspect', elevation=\"elevfacility_1m\", aspect=\"aspect_elevfac_1m\", slope=\"slope_elevfac_1m\")"
   ]
  },
  {
   "cell_type": "markdown",
   "metadata": {},
   "source": [
    "#### Incidence angles and cast shadows\n",
    "\n",
    "Compute the sun position on Dec. 22 at 2:25pm, EST (no map output expected):"
   ]
  },
  {
   "cell_type": "code",
   "execution_count": null,
   "metadata": {},
   "outputs": [],
   "source": [
    "gs.run_command('r.sunmask', elevation=\"elevfacility_1m\", year=\"2001\", month=\"12\", day=\"22\", hour=\"14\", minute=\"25\", sec=\"0\", timezone=\"-5\", flags='s')"
   ]
  },
  {
   "cell_type": "markdown",
   "metadata": {},
   "source": [
    "Calculate incidence angles including cast shadows.\n",
    "We assign histogram equalized color table - can you explain why?\n",
    "(hint: try the same color table without -e).\n",
    "What is the value on the roof? How is it related to day/time?"
   ]
  },
  {
   "cell_type": "code",
   "execution_count": null,
   "metadata": {},
   "outputs": [],
   "source": [
    "gs.run_command('r.sun', elevation=\"elevfacility_1m\", aspect=\"aspect_elevfac_1m\", slope=\"slope_elevfac_1m\", incidout=\"incid_elevfac_1m\", day=\"356\", time=\"14.416667\")\n",
    "gs.parse_command('r.info', map=\"incid_elevfac_1m\", flags='g')\n",
    "gs.run_command('r.colors', map=\"incid_elevfac_1m\", co=\"bcyr\", flags='e')\n",
    "gs.run_command('d.rast', map=\"incid_elevfac_1m\")\n",
    "gs.run_command('d.legend', raster=\"incid_elevfac_1m\", at=\"25,50,1,3\")\n",
    "Image(filename=\"map.png\")"
   ]
  },
  {
   "cell_type": "markdown",
   "metadata": {},
   "source": [
    "Extract the cast shadow area for 14.4 hr and\n",
    "compute and extract shadow area for 7.5 hr:"
   ]
  },
  {
   "cell_type": "code",
   "execution_count": null,
   "metadata": {},
   "outputs": [],
   "source": [
    "gs.mapcalc(\"shadow_1m = if(isnull(incid_elevfac_1m), 1, null())\")\n",
    "gs.run_command('r.colors', map=\"shadow_1m\", color=\"grey\")\n",
    "gs.run_command('d.rast', map=\"elevfacility_1m\")\n",
    "gs.run_command('d.rast', map=\"shadow_1m\")\n",
    "gs.run_command('r.sun', elevation=\"elevfacility_1m\", aspect=\"aspect_elevfac_1m\", slope=\"slope_elevfac_1m\", incidout=\"incid_elevfac7_1m\", day=\"356\", time=\"7.50\")\n",
    "gs.mapcalc(\"shadow7_1m = if(isnull(incid_elevfac7_1m), 1, null())\")\n",
    "gs.run_command('d.rast', map=\"shadow7_1m\")\n",
    "Image(filename=\"map.png\")"
   ]
  },
  {
   "cell_type": "markdown",
   "metadata": {},
   "source": [
    "#### Solar radiation\n",
    "Compute global (beam+diffuse+refl) radiation for entire day during summer and winter solstice.\n",
    "Display the radiation maps and also insolation time maps insol_time using same commands.\n",
    "Optionally display the radiation maps draped over elevation elevfacility_1m in 3D view\n",
    "to see relation between terrain geometry and solar radiation."
   ]
  },
  {
   "cell_type": "code",
   "execution_count": null,
   "metadata": {},
   "outputs": [],
   "source": [
    "gs.run_command('r.sun', elevation=\"elevfacility_1m\", aspect=\"aspect_elevfac_1m\", slope=\"slope_elevfac_1m\", day=\"356\", glob_rad=\"g356\", insol_time=\"its356\")\n",
    "gs.run_command('r.colors', map=\"g356\", co=\"gyr\", flags='e')\n",
    "gs.run_command('r.sun', elevation=\"elevfacility_1m\", aspect=\"aspect_elevfac_1m\", slope=\"slope_elevfac_1m\", day=\"172\", glob_rad=\"g172\", insol_time=\"its172\")\n",
    "gs.run_command('r.colors', map=\"g172\", co=\"gyr\", flags='e')\n",
    "gs.run_command('d.rast', map=\"g356\")\n",
    "gs.run_command('d.legend', raster=\"g356\", at=\"25,50,1,3\")\n",
    "Image(filename=\"map.png\")\n",
    "gs.run_command('d.rast', map=\"g172\")\n",
    "gs.run_command('d.legend', raster=\"g172\", at=\"25,50,1,3\", range=\"8800,8867\")\n",
    "Image(filename=\"map.png\")"
   ]
  },
  {
   "cell_type": "markdown",
   "metadata": {},
   "source": [
    "Calculate direct solar radiation and insolation time for a larger region.\n",
    "\n",
    "Try to find good color tables (custom, hist. equalized, to see the pattern)."
   ]
  },
  {
   "cell_type": "code",
   "execution_count": null,
   "metadata": {},
   "outputs": [],
   "source": [
    "gs.parse_command('g.region', raster=\"elev_ned_30m\", flags='pg')\n",
    "gs.run_command('r.slope.aspect', elevation=\"elev_ned_30m\", aspect=\"asp_ned_30m\", slope=\"slp_ned_30m\")\n",
    "gs.run_command('r.sun', elevation=\"elev_ned_30m\", aspect=\"asp_ned_30m\", slope=\"slp_ned_30m\", linke_value=\"2.5\", albedo_value=\"0.2\", beam_rad=\"b356\", diff_rad=\"d356\", refl_rad=\"r356\", insol_time=\"it356\", day=\"356\")"
   ]
  },
  {
   "cell_type": "markdown",
   "metadata": {},
   "source": [
    "Zoom to the new computational region and display the following layers:"
   ]
  },
  {
   "cell_type": "code",
   "execution_count": null,
   "metadata": {},
   "outputs": [],
   "source": [
    "gs.run_command('d.rast', map=\"b356\")\n",
    "gs.run_command('d.legend', raster=\"b356\", at=\"2,30,2,6\")\n",
    "Image(filename=\"map.png\")\n",
    "gs.run_command('d.rast', map=\"it356\")\n",
    "gs.run_command('d.legend', raster=\"it356\", at=\"2,30,2,6\")\n",
    "Image(filename=\"map.png\")"
   ]
  },
  {
   "cell_type": "code",
   "execution_count": null,
   "metadata": {},
   "outputs": [],
   "source": [
    "# end the GRASS session\n",
    "os.remove(rcfile)"
   ]
  }
 ],
 "metadata": {
  "kernelspec": {
   "display_name": "Python 2",
   "language": "python",
   "name": "python2"
  }
 },
 "nbformat": 4,
 "nbformat_minor": 0
}
