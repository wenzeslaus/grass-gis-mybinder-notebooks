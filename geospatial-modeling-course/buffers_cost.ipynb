{
 "cells": [
  {
   "cell_type": "markdown",
   "metadata": {},
   "source": [
    "## Geospatial Analysis II:  buffers, cost surfaces, least cost path\n",
    "Resources:\n",
    "\n",
    "* [\n",
    "GRASS GIS overview and manual](http://grass.osgeo.org/grass72/manuals/index.html)\n",
    "*  [Recommendations](data_acquisition.html#commands)\n",
    "and [tutorial](http://www4.ncsu.edu/~akratoc/GRASS_intro/)\n",
    "how to use GUI from the first assignment\n",
    "\n",
    "\n",
    "\n",
    "Text files with recode rules, color rules and site locations:\n",
    "\n",
    "* [noise_cats.txt](data/noise_cats.txt)\n",
    "* [friction_rules.txt](data/friction_rules.txt)\n",
    "* [friction_color.txt](data/friction_color.txt)\n",
    "* [fire_pt.txt](data/fire_pt.txt)\n",
    "* [lostperson.txt](data/lostperson.txt)\n",
    "\n",
    "\n",
    "### Start GRASS GIS\n",
    "In startup pannel set GIS Data Directory to path to datasets,\n",
    "for example on MS Windows, `C:\\Users\\myname\\grassdata`.\n",
    "For Project location select nc_spm_08_grass7 (North Carolina, State Plane, meters) and\n",
    "for Accessible mapset create a new mapset (called e.g. HW_buffers_cost) and\n",
    "click Start GRASS."
   ]
  },
  {
   "cell_type": "code",
   "execution_count": null,
   "metadata": {},
   "outputs": [],
   "source": [
    "# using Python to initialize GRASS GIS\n",
    "# This is a quick introduction into Jupyter Notebook.\n",
    "# Python code can be excecuted like this:\n",
    "a = 6\n",
    "b = 7\n",
    "c = a * b\n",
    "print \"Answer is\", c\n",
    "# Python code can be mixed with command line code (Bash).\n",
    "# It is enough just to prefix the command line with an exclamation mark:\n",
    "!echo \"Answer is $c\"\n",
    "# Use Shift+Enter to execute this cell. The result is below."
   ]
  },
  {
   "cell_type": "code",
   "execution_count": null,
   "metadata": {},
   "outputs": [],
   "source": [
    "# using Python to initialize GRASS GIS\n",
    "import os\n",
    "import sys\n",
    "import subprocess\n",
    "from IPython.display import Image\n",
    "\n",
    "# create GRASS GIS runtime environment\n",
    "gisbase = subprocess.check_output([\"grass\", \"--config\", \"path\"]).strip()\n",
    "os.environ['GISBASE'] = gisbase\n",
    "sys.path.append(os.path.join(gisbase, \"etc\", \"python\"))\n",
    "\n",
    "# do GRASS GIS imports\n",
    "import grass.script as gs\n",
    "import grass.script.setup as gsetup\n",
    "\n",
    "# set GRASS GIS session data\n",
    "rcfile = gsetup.init(gisbase, \"/home/jovyan/grassdata\", \"nc_spm_08_grass7\", \"user1\")"
   ]
  },
  {
   "cell_type": "code",
   "execution_count": null,
   "metadata": {},
   "outputs": [],
   "source": [
    "# using Python to initialize GRASS GIS\n",
    "# default font displays\n",
    "os.environ['GRASS_FONT'] = 'sans'\n",
    "# overwrite existing maps\n",
    "os.environ['GRASS_OVERWRITE'] = '1'\n",
    "gs.set_raise_on_error(True)\n",
    "gs.set_capture_stderr(True)"
   ]
  },
  {
   "cell_type": "code",
   "execution_count": null,
   "metadata": {},
   "outputs": [],
   "source": [
    "# using Python to initialize GRASS GIS\n",
    "# set display modules to render into a file (named map.png by default)\n",
    "os.environ['GRASS_RENDER_IMMEDIATE'] = 'cairo'\n",
    "os.environ['GRASS_RENDER_FILE_READ'] = 'TRUE'\n",
    "os.environ['GRASS_LEGEND_FILE'] = 'legend.txt'"
   ]
  },
  {
   "cell_type": "markdown",
   "metadata": {},
   "source": [
    "Remove MASK in case it was left over\n",
    "from previous assignment (use command `r.mask -r`).\n",
    "\n",
    "Change working directory:\n",
    "_Settings_ > _GRASS working environment_ > _Change working directory_ > select/create any directory\n",
    "or type `cd` (stands for change directory) into the GUI\n",
    "_Console_ and hit Enter:"
   ]
  },
  {
   "cell_type": "code",
   "execution_count": null,
   "metadata": {},
   "outputs": [],
   "source": [
    "# a proper directory is already set, download files\n",
    "import urllib\n",
    "urllib.urlretrieve(\"http://ncsu-geoforall-lab.github.io/geospatial-modeling-course/grass/data/noise_cats.txt\", \"noise_cats.txt\")\n",
    "urllib.urlretrieve(\"http://ncsu-geoforall-lab.github.io/geospatial-modeling-course/grass/data/friction_rules.txt\", \"friction_rules.txt\")\n",
    "urllib.urlretrieve(\"http://ncsu-geoforall-lab.github.io/geospatial-modeling-course/grass/data/friction_color.txt\", \"friction_color.txt\")\n",
    "urllib.urlretrieve(\"http://ncsu-geoforall-lab.github.io/geospatial-modeling-course/grass/data/fire_pt.txt\", \"fire_pt.txt\")\n",
    "urllib.urlretrieve(\"http://ncsu-geoforall-lab.github.io/geospatial-modeling-course/grass/data/lostperson.txt\", \"lostperson.txt\")\n",
    "urllib.urlretrieve(\"http://ncsu-geoforall-lab.github.io/geospatial-modeling-course/grass/data/noise_cats.txt\", \"noise_cats.txt\")\n",
    "urllib.urlretrieve(\"http://ncsu-geoforall-lab.github.io/geospatial-modeling-course/grass/data/fire_pt.txt\", \"fire_pt.txt\")\n",
    "urllib.urlretrieve(\"http://ncsu-geoforall-lab.github.io/geospatial-modeling-course/grass/data/friction_rules.txt\", \"friction_rules.txt\")\n",
    "urllib.urlretrieve(\"http://ncsu-geoforall-lab.github.io/geospatial-modeling-course/grass/data/lostperson.txt\", \"lostperson.txt\")"
   ]
  },
  {
   "cell_type": "markdown",
   "metadata": {},
   "source": [
    "Download all text files with recode rules, color rules and site locations (see above)\n",
    "to the selected directory. Now you can use the commands from the assignment requiring the text file\n",
    "without the need to specify the full path to the file.\n",
    "\n",
    "\n",
    "\n",
    "\n",
    "### Buffers\n",
    "#### Find developed areas close to lakes\n",
    "Set region, create buffers:"
   ]
  },
  {
   "cell_type": "code",
   "execution_count": null,
   "metadata": {},
   "outputs": [],
   "source": [
    "!g.region swwake_30m -p\n",
    "!r.buffer lakes output=lakes_buff distances=60,120,240,500\n",
    "!d.rast lakes_buff\n",
    "Image(filename=\"map.png\")"
   ]
  },
  {
   "cell_type": "markdown",
   "metadata": {},
   "source": [
    "List categories in land use map to identify cat numbers for developed areas.\n",
    "Then run _r.mapcalc_:"
   ]
  },
  {
   "cell_type": "code",
   "execution_count": null,
   "metadata": {},
   "outputs": [],
   "source": [
    "!r.category landuse96_28m\n",
    "!r.mapcalc \"developed_lake = if(landuse96_28m==1 || landuse96_28m==2, lakes_buff, null())\"\n",
    "!r.support developed_lake raster=lakes_buff"
   ]
  },
  {
   "cell_type": "markdown",
   "metadata": {},
   "source": [
    "Display results:\n",
    "In GUI: switch off previous map, use Add raster, Add vector icons."
   ]
  },
  {
   "cell_type": "code",
   "execution_count": null,
   "metadata": {},
   "outputs": [],
   "source": [
    "!d.rast developed_lake\n",
    "!d.vect streets_wake color=grey\n",
    "!d.rast lakes\n",
    "!d.legend -c developed_lake use=2,3,4,5 at=5,25,2,5\n",
    "Image(filename=\"map.png\")"
   ]
  },
  {
   "cell_type": "markdown",
   "metadata": {},
   "source": [
    "Find the total area within buffers and the developed area in ha:"
   ]
  },
  {
   "cell_type": "code",
   "execution_count": null,
   "metadata": {},
   "outputs": [],
   "source": [
    "!r.report -n lakes_buff units=h\n",
    "!r.report -n developed_lake units=h"
   ]
  },
  {
   "cell_type": "markdown",
   "metadata": {},
   "source": [
    "#### Find developed areas impacted by noise from highways\n",
    "Set region and create buffers along major roads.\n",
    "Intersect developed areas from landuse map with road buffers.\n",
    "Transfer the category labels and compute the affected area.\n",
    "Run _r.category_ from GUI and browse to the txt file,\n",
    "or run _r.category_ command (assuming [noise_cats.txt](data/noise_cats.txt)\n",
    "is in your working directory)."
   ]
  },
  {
   "cell_type": "code",
   "execution_count": null,
   "metadata": {},
   "outputs": [],
   "source": [
    "!g.region raster=landuse96_28m -p\n",
    "!r.buffer roadsmajor output=roads_buffers distances=250,500,2500\n",
    "!r.mapcalc \"noise = if(landuse96_28m==1 || landuse96_28m==2, roads_buffers, null())\"\n",
    "!r.colors noise color=ryg\n",
    "!r.category noise rules=noise_cats.txt separator=:\n",
    "!r.report -n noise units=p,h"
   ]
  },
  {
   "cell_type": "markdown",
   "metadata": {},
   "source": [
    "Display the results. In GUI switch off previous maps."
   ]
  },
  {
   "cell_type": "code",
   "execution_count": null,
   "metadata": {},
   "outputs": [],
   "source": [
    "!d.rast noise\n",
    "!d.vect streets_wake\n",
    "!d.legend -c noise at=5,25,2,5\n",
    "Image(filename=\"map.png\")"
   ]
  },
  {
   "cell_type": "markdown",
   "metadata": {},
   "source": [
    "#### Find schools affected by high levels of noise\n",
    "Convert schools to raster using CORECAPACI attribute (school capacity).\n",
    "Use map algebra to overlay with noise impact buffers and\n",
    "compute the number of students exposed to noise (see result of _r.univar_)."
   ]
  },
  {
   "cell_type": "code",
   "execution_count": null,
   "metadata": {},
   "outputs": [],
   "source": [
    "!v.to.rast schools_wake output=schoolscap_10m use=attr attrcolumn=CORECAPACI type=point\n",
    "!r.mapcalc \"schools_noise = if(int(schoolscap_10m) && roads_buffers == 2, int(schoolscap_10m), null())\"\n",
    "!r.univar schools_noise\n",
    "!r.to.vect schools_noise output=schools_noise type=point\n",
    "!d.vect schools_wake icon=basic/circle size=10 fill_color=blue\n",
    "!d.vect schools_noise size=14 fill_color=cyan icon=basic/circle color=black\n",
    "Image(filename=\"map.png\")"
   ]
  },
  {
   "cell_type": "markdown",
   "metadata": {},
   "source": [
    "### Cost surfaces\n",
    "\n",
    "#### Compute cumulative cost surface to a given accident site based on speed limits\n",
    "\n",
    "Use 5mi/hr speed limit for off-road areas (nulls).\n",
    "For legend set the discrete speed limit values in GUI legend dialog:\n",
    "tab _Required_ > streets_speed, _Subset_ > _List of discrete category numbers_"
   ]
  },
  {
   "cell_type": "code",
   "execution_count": null,
   "metadata": {},
   "outputs": [],
   "source": [
    "!g.region swwake_30m -p\n",
    "!v.info -c streets_wake\n",
    "!v.to.rast streets_wake output=streets_speedtmp use=attr attrcolumn=SPEED type=line\n",
    "!r.mapcalc \"streets_speed = if(isnull(streets_speedtmp),5,streets_speedtmp)\"\n",
    "!r.info streets_speed\n",
    "!r.colors streets_speed color=gyr\n",
    "!d.rast streets_speed\n",
    "!d.legend streets_speed at=5,40,2,5 use=5,25,35,45,65\n",
    "Image(filename=\"map.png\")"
   ]
  },
  {
   "cell_type": "markdown",
   "metadata": {},
   "source": [
    "Assign travel time to cross a 30m grid cell in hours.\n",
    "Note that cost in GRASS GIS is defined as travel time per _cell_.\n",
    "\n",
    "Compute cumulative cost surface to the given point.\n",
    "Where does the 0.018641 constant come from?\n",
    "You can modify the expression to get time in minutes."
   ]
  },
  {
   "cell_type": "code",
   "execution_count": null,
   "metadata": {},
   "outputs": [],
   "source": [
    "!r.mapcalc \"streets_travtime = 0.018641/streets_speed\"\n",
    "!r.cost -k streets_travtime output=streets_cost start_coordinates=634886,224328"
   ]
  },
  {
   "cell_type": "markdown",
   "metadata": {},
   "source": [
    "Import the accident point location given in [fire_pt.txt](data/fire_pt.txt)\n",
    "so that you can display it on the map.\n",
    "Run _v.in.ascii_ from GUI, use file browser to provide full path to the file\n",
    "or enter values interactively by pasting the coords into the provided space,\n",
    "or run the command assuming the file is in your working directory."
   ]
  },
  {
   "cell_type": "code",
   "execution_count": null,
   "metadata": {},
   "outputs": [],
   "source": [
    "!v.in.ascii input=fire_pt.txt output=fire_pt separator=space"
   ]
  },
  {
   "cell_type": "markdown",
   "metadata": {},
   "source": [
    "Compute isochrones and display the cumulative cost surface map."
   ]
  },
  {
   "cell_type": "code",
   "execution_count": null,
   "metadata": {},
   "outputs": [],
   "source": [
    "!r.contour streets_cost output=streets_cost_04 step=0.04\n",
    "!r.colors streets_cost color=elevation\n",
    "!d.rast streets_cost\n",
    "!d.vect fire_pt color=red icon=basic/marker size=20\n",
    "!d.vect streets_cost_04\n",
    "!d.legend streets_cost at=5,50,2,5\n",
    "Image(filename=\"map.png\")"
   ]
  },
  {
   "cell_type": "markdown",
   "metadata": {},
   "source": [
    "#### Find cost (travel time) from selected firestations\n",
    "\n",
    "First make your own copy of the firestations map and list attributes.\n",
    "Then query the cumulative cost surface at the firestations location.\n",
    "The travel time in hours will be stored in the attribute column CVLAG."
   ]
  },
  {
   "cell_type": "code",
   "execution_count": null,
   "metadata": {},
   "outputs": [],
   "source": [
    "!g.copy vector=firestations,myfirestations\n",
    "!v.info -c myfirestations\n",
    "!v.what.rast myfirestations raster=streets_cost column=CVLAG"
   ]
  },
  {
   "cell_type": "markdown",
   "metadata": {},
   "source": [
    "Add myfirestations to Layer Manager and right click on Show attribute data.\n",
    "Click on CVLAG to order them and find the lowest cost (shortest time) > 0\n",
    "(firestations with 0 cost are outside the region).\n",
    "You should see a [table like this](img/firestations_table.png).\n",
    "Export firestations with traveltime less than 0.1 hr:"
   ]
  },
  {
   "cell_type": "code",
   "execution_count": null,
   "metadata": {},
   "outputs": [],
   "source": [
    "!v.out.ascii input=myfirestations separator=space precision=3 columns=ID,LOCATION,CVLAG where=\"CVLAG<0.1 AND CVLAG>0\""
   ]
  },
  {
   "cell_type": "markdown",
   "metadata": {},
   "source": [
    "You should get something like the following:\n",
    "```\n",
    "635775.565 228121.693 19 19 4021 District Dr 0.076\n",
    "635940.262 225912.796 20 0 5001 Western Blvd 0.037\n",
    "637386.831 222569.152 21 0 1721 Trailwood Dr 0.071\n",
    "633178.155 221353.037 52 27 6000 Holly Springs Rd 0.060\n",
    "```\n",
    "\n",
    "Find the least cost path for the two closest stations:"
   ]
  },
  {
   "cell_type": "code",
   "execution_count": null,
   "metadata": {},
   "outputs": [],
   "source": [
    "!r.drain -n input=streets_cost output=route_20Westernb start_coordinates=635940.3,225912.8\n",
    "!r.drain -n input=streets_cost output=route_52Hollyb start_coordinates=633178.2,221353.0\n",
    "!r.colors route_20Westernb color=grey\n",
    "!r.colors route_52Hollyb color=grey"
   ]
  },
  {
   "cell_type": "markdown",
   "metadata": {},
   "source": [
    "Display the results in GUI.\n",
    "You already may have some of these maps in GUI layer tree,\n",
    "so just switch them on and off and re-order as needed:"
   ]
  },
  {
   "cell_type": "code",
   "execution_count": null,
   "metadata": {},
   "outputs": [],
   "source": [
    "!d.erase\n",
    "!d.rast streets_cost\n",
    "!d.vect fire_pt color=red icon=basic/marker size=20\n",
    "!d.rast route_20Westernb\n",
    "!d.rast route_52Hollyb\n",
    "Image(filename=\"map.png\")"
   ]
  },
  {
   "cell_type": "markdown",
   "metadata": {},
   "source": [
    "Print the length of the path in cells (multiply by 30m to get approx. m).\n",
    "You should have the time in hr already from the cost map.\n",
    "At what average speed [km/hr] needs the truck travel to get there in estimated time?\n",
    "Is the time, speed and distance realistic?"
   ]
  },
  {
   "cell_type": "code",
   "execution_count": null,
   "metadata": {},
   "outputs": [],
   "source": [
    "!r.describe route_20Westernb\n",
    "!r.describe route_52Hollyb"
   ]
  },
  {
   "cell_type": "markdown",
   "metadata": {},
   "source": [
    "If you would like to display streets_cost surface in 3D as shown in the lecture,\n",
    "you need to multiply the surface by 1000 using _r.mapcalc_ because the numbers\n",
    "in hours are very low.\n",
    "Then switch off all layers except for the streets_cost_1000\n",
    "and change display to 3D.\n",
    "\n",
    "#### Compute accessibility map for help in search for lost person\n",
    "Create friction map based on land cover.\n",
    "First display land cover classes:"
   ]
  },
  {
   "cell_type": "code",
   "execution_count": null,
   "metadata": {},
   "outputs": [],
   "source": [
    "!g.region swwake_30m -p\n",
    "!r.category landclass96"
   ]
  },
  {
   "cell_type": "markdown",
   "metadata": {},
   "source": [
    "Recode the landuse map to friction map using the rules in \n",
    "[friction_rules.txt](data/friction_rules.txt)."
   ]
  },
  {
   "cell_type": "code",
   "execution_count": null,
   "metadata": {},
   "outputs": [],
   "source": [
    "!r.recode landclass96 out=friction rules=friction_rules.txt"
   ]
  },
  {
   "cell_type": "markdown",
   "metadata": {},
   "source": [
    "Add the streets to friction map - they are missed by the landuse map."
   ]
  },
  {
   "cell_type": "code",
   "execution_count": null,
   "metadata": {},
   "outputs": [],
   "source": [
    "!r.mapcalc \"friction2 = if(streets_speed > 6, 0.1, friction)\"\n",
    "!r.colors friction2 rules=friction_color.txt\n",
    "!d.erase\n",
    "!d.rast friction2\n",
    "!d.legend friction2 at=5,50,2,5\n",
    "Image(filename=\"map.png\")"
   ]
  },
  {
   "cell_type": "markdown",
   "metadata": {},
   "source": [
    "Reminder: Time to time, you should remove or at least uncheck previously\n",
    "used map layers in the _Layer Manager_, so the layers are not rendered\n",
    "when you don't need them anymore.\n",
    "\n",
    "\n",
    "Compute the cost map and generate isochrones:"
   ]
  },
  {
   "cell_type": "code",
   "execution_count": null,
   "metadata": {},
   "outputs": [],
   "source": [
    "!r.walk -k elevation=elev_ned_30m friction=friction2 output=walkcost start_coordinates=635576,216485 lambda=0.5 max_cost=10000\n",
    "!r.contour walkcost output=walkcost step=1000"
   ]
  },
  {
   "cell_type": "markdown",
   "metadata": {},
   "source": [
    "To display the input, import coordinates of the point where the lost person was last seen\n",
    "given in the file [lostperson.txt](data/lostperson.txt)."
   ]
  },
  {
   "cell_type": "code",
   "execution_count": null,
   "metadata": {},
   "outputs": [],
   "source": [
    "!v.in.ascii input=lostperson.txt output=lostperson separator=comma"
   ]
  },
  {
   "cell_type": "markdown",
   "metadata": {},
   "source": [
    "Display the results:"
   ]
  },
  {
   "cell_type": "code",
   "execution_count": null,
   "metadata": {},
   "outputs": [],
   "source": [
    "!d.erase\n",
    "!d.rast lakes\n",
    "!d.rast walkcost\n",
    "!d.vect streets_wake\n",
    "!d.vect walkcost color=brown\n",
    "!d.vect walkcost color=red where=level=6000 width=2\n",
    "!d.vect lostperson size=20 color=black fill_color=black icon=basic/marker\n",
    "!d.legend walkcost at=5,50,2,5\n",
    "Image(filename=\"map.png\")"
   ]
  },
  {
   "cell_type": "markdown",
   "metadata": {},
   "source": [
    "#### Cost surfaces to line features\n",
    "Compute the shortest distance to a major road.\n",
    "Set region, convert vector road map to raster:"
   ]
  },
  {
   "cell_type": "code",
   "execution_count": null,
   "metadata": {},
   "outputs": [],
   "source": [
    "!g.region swwake_30m -p\n",
    "!v.to.rast roadsmajor output=roadsmajor use=val type=line"
   ]
  },
  {
   "cell_type": "markdown",
   "metadata": {},
   "source": [
    "Compute the distance map and cost surface to highways:"
   ]
  },
  {
   "cell_type": "code",
   "execution_count": null,
   "metadata": {},
   "outputs": [],
   "source": [
    "!r.mapcalc \"area_one = 1\"\n",
    "!r.cost input=area_one output=dist_toroad start_rast=roadsmajor\n",
    "!r.mapcalc \"dist_meters = dist_toroad * (ewres() + nsres())/2.\"\n",
    "!r.mapcalc \"dist_class = int(dist_meters/500)\"\n",
    "!d.erase\n",
    "!d.rast dist_class\n",
    "!d.vect roadsmajor\n",
    "Image(filename=\"map.png\")\n",
    "!d.vect streets_wake color=black\n",
    "!d.vect roadsmajor color=red\n",
    "Image(filename=\"map.png\")"
   ]
  },
  {
   "cell_type": "code",
   "execution_count": null,
   "metadata": {},
   "outputs": [],
   "source": [
    "# end the GRASS session\n",
    "os.remove(rcfile)"
   ]
  }
 ],
 "metadata": {
  "kernelspec": {
   "display_name": "Python 2",
   "language": "python",
   "name": "python2"
  }
 },
 "nbformat": 4,
 "nbformat_minor": 0
}
