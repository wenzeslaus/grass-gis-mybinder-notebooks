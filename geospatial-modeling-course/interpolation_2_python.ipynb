{
 "cells": [
  {
   "cell_type": "markdown",
   "metadata": {},
   "source": [
    "## Spatial interpolation and approximation II: splines\n",
    "Resources:\n",
    "\n",
    "* [\n",
    "GRASS GIS overview and manual](http://grass.osgeo.org/grass72/manuals/index.html)\n",
    "*  [Recommendations](data_acquisition.html#commands)\n",
    "and [tutorial](http://www4.ncsu.edu/~akratoc/GRASS_intro/)\n",
    "how to use GUI from the first assignment\n",
    "\n",
    "\n",
    "\n",
    "Text files with color rules:\n",
    "\n",
    "* [deviations_color.txt](data/deviations_color.txt)\n",
    "* [precip_color.txt](data/precip_color.txt)\n",
    "\n",
    "\n",
    "\n",
    "### Start GRASS GIS\n",
    "Start GRASS - click on GRASS icon or type"
   ]
  },
  {
   "cell_type": "code",
   "execution_count": null,
   "metadata": {},
   "outputs": [],
   "source": [
    "# This is a quick introduction into Jupyter Notebook.\n",
    "# Python code can be excecuted like this:\n",
    "a = 6\n",
    "b = 7\n",
    "c = a * b\n",
    "print \"Answer is\", c\n",
    "# Python code can be mixed with command line code (Bash).\n",
    "# It is enough just to prefix the command line with an exclamation mark:\n",
    "!echo \"Answer is $c\"\n",
    "# Use Shift+Enter to execute this cell. The result is below."
   ]
  },
  {
   "cell_type": "code",
   "execution_count": null,
   "metadata": {},
   "outputs": [],
   "source": [
    "import os\n",
    "import sys\n",
    "import subprocess\n",
    "from IPython.display import Image\n",
    "\n",
    "# create GRASS GIS runtime environment\n",
    "gisbase = subprocess.check_output([\"grass\", \"--config\", \"path\"]).strip()\n",
    "os.environ['GISBASE'] = gisbase\n",
    "sys.path.append(os.path.join(gisbase, \"etc\", \"python\"))\n",
    "\n",
    "# do GRASS GIS imports\n",
    "import grass.script as gs\n",
    "import grass.script.setup as gsetup\n",
    "\n",
    "# set GRASS GIS session data\n",
    "rcfile = gsetup.init(gisbase, \"/home/jovyan/grassdata\", \"nc_spm_08_grass7\", \"user1\")"
   ]
  },
  {
   "cell_type": "code",
   "execution_count": null,
   "metadata": {},
   "outputs": [],
   "source": [
    "# default font displays\n",
    "os.environ['GRASS_FONT'] = 'sans'\n",
    "# overwrite existing maps\n",
    "os.environ['GRASS_OVERWRITE'] = '1'\n",
    "gs.set_raise_on_error(True)\n",
    "gs.set_capture_stderr(True)"
   ]
  },
  {
   "cell_type": "code",
   "execution_count": null,
   "metadata": {},
   "outputs": [],
   "source": [
    "# set display modules to render into a file (named map.png by default)\n",
    "os.environ['GRASS_RENDER_IMMEDIATE'] = 'cairo'\n",
    "os.environ['GRASS_RENDER_FILE_READ'] = 'TRUE'\n",
    "os.environ['GRASS_LEGEND_FILE'] = 'legend.txt'"
   ]
  },
  {
   "cell_type": "markdown",
   "metadata": {},
   "source": [
    "In startup pannel set GIS Data Directory to path to datasets,\n",
    "for example on MS Windows, `C:\\Users\\myname\\grassdata`.\n",
    "For Project location select nc_spm_08_grass7 (North Carolina, State Plane, meters) and\n",
    "for Accessible mapset create a new mapset (called e.g. HW_interpolation_2).\n",
    "Click Start GRASS.\n",
    "\n",
    "\n",
    "Change working directory:\n",
    "_Settings_ > _GRASS working environment_ > _Change working directory_ > select/create any directory\n",
    "or type `cd` (stands for change directory) into the GUI\n",
    "_Console_ and hit Enter:"
   ]
  },
  {
   "cell_type": "code",
   "execution_count": null,
   "metadata": {},
   "outputs": [],
   "source": [
    "# a proper directory is already set, download files\n",
    "import urllib\n",
    "urllib.urlretrieve(\"http://ncsu-geoforall-lab.github.io/geospatial-modeling-course/grass/data/deviations_color.txt\", \"deviations_color.txt\")\n",
    "urllib.urlretrieve(\"http://ncsu-geoforall-lab.github.io/geospatial-modeling-course/grass/data/precip_color.txt\", \"precip_color.txt\")\n",
    "urllib.urlretrieve(\"http://ncsu-geoforall-lab.github.io/geospatial-modeling-course/grass/data/deviations_color.txt\", \"deviations_color.txt\")\n",
    "urllib.urlretrieve(\"http://ncsu-geoforall-lab.github.io/geospatial-modeling-course/grass/data/precip_color.txt\", \"precip_color.txt\")"
   ]
  },
  {
   "cell_type": "markdown",
   "metadata": {},
   "source": [
    "Download all text files with color rules (see above)\n",
    "to the selected directory. Now you can use the commands from the assignment requiring the text file\n",
    "without the need to specify the full path to the file.\n",
    "\n",
    "\n",
    "### Interpolate elevation raster from points using splines with different tension\n",
    "Compute aspect simultaneously with interpolation and \n",
    "evaluate impact of tension by using tension=40 (default), tension=10 and tension=160."
   ]
  },
  {
   "cell_type": "code",
   "execution_count": null,
   "metadata": {},
   "outputs": [],
   "source": [
    "gs.parse_command('g.region', region=\"rural_1m\", res=\"1\", flags='pg')\n",
    "gs.run_command('v.surf.rst', input=\"elev_lid792_randpts\", elevation=\"elev_rstdef_1m\", zcolumn=\"value\", aspect=\"asp_rstdef_1m\", segmax=\"30\", npmin=\"140\")\n",
    "gs.run_command('v.surf.rst', input=\"elev_lid792_randpts\", elevation=\"elev_rstt10_1m\", aspect=\"asp_rstt10_1m\", zcolumn=\"value\", tension=\"10\", segmax=\"30\", npmin=\"140\")\n",
    "gs.run_command('v.surf.rst', input=\"elev_lid792_randpts\", elevation=\"elev_rstt160_1m\", aspect=\"asp_rstt160_1m\", zcolumn=\"value\", tension=\"160\", segmax=\"30\", npmin=\"140\")"
   ]
  },
  {
   "cell_type": "markdown",
   "metadata": {},
   "source": [
    "Compare the interpolated elevation surfaces using aspect maps.\n",
    "Change the aspect color table to grey aspect.\n",
    "Save images for your report."
   ]
  },
  {
   "cell_type": "code",
   "execution_count": null,
   "metadata": {},
   "outputs": [],
   "source": [
    "gs.run_command('r.colors', map=\"asp_rstdef_1m\", color=\"aspect\")\n",
    "gs.run_command('r.colors', map=\"asp_rstt10_1m\", color=\"aspect\")\n",
    "gs.run_command('r.colors', map=\"asp_rstt160_1m\", color=\"aspect\")\n",
    "gs.run_command('d.erase')\n",
    "gs.run_command('d.rast', map=\"elev_rstdef_1m\")\n",
    "gs.run_command('d.rast', map=\"asp_rstdef_1m\")\n",
    "Image(filename=\"map.png\")\n",
    "gs.run_command('d.rast', map=\"asp_rstt10_1m\")\n",
    "Image(filename=\"map.png\")\n",
    "gs.run_command('d.rast', map=\"asp_rstt160_1m\")\n",
    "Image(filename=\"map.png\")\n",
    "gs.run_command('d.vect', map=\"elev_lid792_randpts\", size=\"1\", color=\"red\")\n",
    "Image(filename=\"map.png\")"
   ]
  },
  {
   "cell_type": "markdown",
   "metadata": {},
   "source": [
    "Or use 3D views of elev_rstdef_1m, elev_rstt10_1m, elev_rstt160_1m, \n",
    "make sure you switch off the aspect rasters and save the 3 images for your report.\n",
    "\n",
    "### Compute elevation raster and deviations vector point map\n",
    "For different values of smoothing\n",
    "compare deviation stats for smoothing 0.1 and 10.\n",
    "Find root mean square deviation rmse."
   ]
  },
  {
   "cell_type": "code",
   "execution_count": null,
   "metadata": {},
   "outputs": [],
   "source": [
    "gs.run_command('v.surf.rst', input=\"elev_lid792_randpts\", elevation=\"elev_rstdef_1mb\", zcolumn=\"value\", smooth=\"0.1\", deviations=\"elev_rstdef_devi\", segmax=\"30\", npmin=\"140\")\n",
    "gs.run_command('v.build', map=\"elev_rstdef_devi\")\n",
    "gs.run_command('v.surf.rst', input=\"elev_lid792_randpts\", elevation=\"elev_rstsm10_1mb\", zcolumn=\"value\", smooth=\"10\", deviations=\"elev_rstsm10_devi\", segmax=\"30\", npmin=\"140\")\n",
    "gs.run_command('v.build', map=\"elev_rstsm10_devi\")\n",
    "print gs.read_command('v.info', map=\"elev_rstdef_devi\", flags='c')\n",
    "gs.parse_command('v.univar', map=\"elev_rstdef_devi\", column=\"flt1\", type=\"point\", flags='g')\n",
    "gs.parse_command('r.info', map=\"elev_rstdef_1mb\", flags='g')\n",
    "print gs.read_command('v.info', map=\"elev_rstsm10_devi\", flags='c')\n",
    "gs.parse_command('v.univar', map=\"elev_rstsm10_devi\", column=\"flt1\", type=\"point\", flags='g')\n",
    "gs.parse_command('r.info', map=\"elev_rstsm10_1mb\", flags='g')"
   ]
  },
  {
   "cell_type": "markdown",
   "metadata": {},
   "source": [
    "Compute and display deviations maps using same color table.\n",
    "You need to use custom color table to see the results well.\n",
    "Note that we are interpolating here the deviations, not the given elevations."
   ]
  },
  {
   "cell_type": "code",
   "execution_count": null,
   "metadata": {},
   "outputs": [],
   "source": [
    "gs.run_command('v.surf.rst', input=\"elev_rstdef_devi\", elevation=\"elev_rstdef_devi\", zcolumn=\"flt1\", segmax=\"30\", npmin=\"140\")\n",
    "gs.run_command('v.surf.rst', input=\"elev_rstsm10_devi\", elevation=\"elev_rstsm10_devi\", zcolumn=\"flt1\", segmax=\"30\", npmin=\"140\")"
   ]
  },
  {
   "cell_type": "markdown",
   "metadata": {},
   "source": [
    "Apply the downloaded color table [deviations_color.txt](data/deviations_color.txt)\n",
    "to the deviation raster.\n",
    "Optionally, to view the results in 3D use \"elev_rstdef_1mb\" for elevation (switch off everything else)\n",
    "and drape the deviations maps as color."
   ]
  },
  {
   "cell_type": "code",
   "execution_count": null,
   "metadata": {},
   "outputs": [],
   "source": [
    "gs.run_command('r.colors', map=\"elev_rstsm10_devi\", rules=\"deviations_color.txt\")\n",
    "gs.run_command('r.colors', map=\"elev_rstdef_devi\", raster=\"elev_rstsm10_devi\")\n",
    "gs.run_command('d.erase')\n",
    "gs.run_command('d.rast', map=\"elev_rstdef_devi\")\n",
    "gs.run_command('d.rast', map=\"elev_rstsm10_devi\")\n",
    "gs.run_command('d.legend', raster=\"elev_rstsm10_devi\", at=\"2,50,2,6\")\n",
    "Image(filename=\"map.png\")"
   ]
  },
  {
   "cell_type": "markdown",
   "metadata": {},
   "source": [
    "### Compute predictive error of interpolation\n",
    "Compute predictive error of interpolation for each point\n",
    "using cross-validation (no raster output, only points with pred. errors)."
   ]
  },
  {
   "cell_type": "code",
   "execution_count": null,
   "metadata": {},
   "outputs": [],
   "source": [
    "gs.run_command('v.surf.rst', input=\"elev_lid792_randpts\", zcolumn=\"value\", cvdev=\"elev_rstdef_cv\", npmin=\"120\", segmax=\"35\", flags='c')\n",
    "gs.run_command('v.build', map=\"elev_rstdef_cv\")\n",
    "gs.parse_command('v.univar', map=\"elev_rstdef_cv\", column=\"flt1\", type=\"point\", flags='g')"
   ]
  },
  {
   "cell_type": "markdown",
   "metadata": {},
   "source": [
    "Compute raster map of predictive errors and identify locations\n",
    "where the sampling is inadequate.\n",
    "Optionally, to view the result in 3D use \"elev_rstdef_1mb\" for elevation (switch off everything else)\n",
    "and drape the crossvalidation map \"elev_rstdef_cv\" as color."
   ]
  },
  {
   "cell_type": "code",
   "execution_count": null,
   "metadata": {},
   "outputs": [],
   "source": [
    "gs.run_command('v.surf.rst', input=\"elev_rstdef_cv\", elevation=\"elev_rstdef_cv\", zcolumn=\"flt1\")\n",
    "gs.run_command('r.colors', map=\"elev_rstdef_cv\", raster=\"elev_rstsm10_devi\")\n",
    "gs.run_command('d.erase')\n",
    "gs.run_command('d.rast', map=\"elev_rstdef_cv\")\n",
    "gs.run_command('d.vect', map=\"elev_rstdef_cv\", size=\"2\")\n",
    "gs.run_command('d.legend', raster=\"elev_rstdef_cv\", at=\"2,50,2,6\")\n",
    "Image(filename=\"map.png\")"
   ]
  },
  {
   "cell_type": "markdown",
   "metadata": {},
   "source": [
    "### Interpolate precipitation with influence of topography\n",
    "\n",
    "Set the 3D region (read the man page for _g.region_).\n",
    "We set _tbres_ to high value - we have just a single level\n",
    "because we are not computing the 3D raster (see lecture for more details)."
   ]
  },
  {
   "cell_type": "code",
   "execution_count": null,
   "metadata": {},
   "outputs": [],
   "source": [
    "gs.parse_command('g.region', raster=\"elev_state_500m\", flags='pg')\n",
    "gs.parse_command('g.region', t=\"2000\", b=\"0\", tbres=\"2000\", res3=\"500\", flags='p3g')"
   ]
  },
  {
   "cell_type": "markdown",
   "metadata": {},
   "source": [
    "Compute precipitation raster map without influence of elevation\n",
    "(with segmax=700 segmentation is not performed so\n",
    "interpolation function is computed using all points at once).\n",
    "We will use mask during the interpolation."
   ]
  },
  {
   "cell_type": "code",
   "execution_count": null,
   "metadata": {},
   "outputs": [],
   "source": [
    "gs.run_command('r.mask', raster=\"ncmask_500m\")\n",
    "print gs.read_command('v.info', map=\"precip_30ynormals\", flags='c')\n",
    "gs.run_command('v.surf.rst', input=\"precip_30ynormals\", elevation=\"precip_annual_500m\", zcolumn=\"annual\", segmax=\"700\")"
   ]
  },
  {
   "cell_type": "markdown",
   "metadata": {},
   "source": [
    "Use the downloaded the color table [precip_color.txt](data/precip_color.txt).\n",
    "Zoom to computational region when displaying the result."
   ]
  },
  {
   "cell_type": "code",
   "execution_count": null,
   "metadata": {},
   "outputs": [],
   "source": [
    "gs.run_command('r.colors', map=\"precip_annual_500m\", rules=\"precip_color.txt\")\n",
    "gs.run_command('d.erase')\n",
    "gs.run_command('d.rast', map=\"precip_annual_500m\")\n",
    "gs.run_command('d.legend', raster=\"precip_annual_500m\", at=\"2,30,2,5\", range=\"970,2400\")\n",
    "Image(filename=\"map.png\")"
   ]
  },
  {
   "cell_type": "markdown",
   "metadata": {},
   "source": [
    "Compute precipitation raster map with elevation.\n",
    "\n",
    "\n",
    "There is both 3D voxel output and 2D raster output - we want the 2D raster output (cross_output).\n",
    "Optionally to view the results in 3D,\n",
    "switch off everything except for elev_state_500m and precip_30ynormals_3d,\n",
    "switch to 3D, set(type in) viewer height at 300000, z-exag at 6, fine res=1,\n",
    "use precip_anntopo_500m for color, set icon size for points - sphere, 5000.\n",
    "Display the result and save the image for the report."
   ]
  },
  {
   "cell_type": "code",
   "execution_count": null,
   "metadata": {},
   "outputs": [],
   "source": [
    "print gs.read_command('v.info', map=\"precip_30ynormals_3d\", flags='c')\n",
    "gs.run_command('v.vol.rst', input=\"precip_30ynormals_3d\", cross_input=\"elev_state_500m\", cross_output=\"precip_anntopo_500m\", maskmap=\"elev_state_500m\", wcolumn=\"annual\", zscale=\"90\", segmax=\"700\")\n",
    "gs.run_command('r.colors', map=\"precip_anntopo_500m\", raster=\"precip_annual_500m\")\n",
    "gs.run_command('d.rast', map=\"precip_anntopo_500m\")\n",
    "Image(filename=\"map.png\")"
   ]
  },
  {
   "cell_type": "markdown",
   "metadata": {},
   "source": [
    "Try to explain how was elevation used for the precipitation raster interpolation.\n",
    "\n",
    "After you are finished, remove mask."
   ]
  },
  {
   "cell_type": "code",
   "execution_count": null,
   "metadata": {},
   "outputs": [],
   "source": [
    "gs.run_command('r.mask', flags='r')"
   ]
  },
  {
   "cell_type": "code",
   "execution_count": null,
   "metadata": {},
   "outputs": [],
   "source": [
    "# end the GRASS session\n",
    "os.remove(rcfile)"
   ]
  }
 ],
 "metadata": {
  "kernelspec": {
   "display_name": "Python 2",
   "language": "python",
   "name": "python2"
  }
 },
 "nbformat": 4,
 "nbformat_minor": 0
}
