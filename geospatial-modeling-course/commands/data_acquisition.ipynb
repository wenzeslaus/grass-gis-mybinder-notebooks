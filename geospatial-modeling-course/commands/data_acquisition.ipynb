{
 "cells": [
  {
   "cell_type": "markdown",
   "metadata": {},
   "source": [
    "## Geospatial Data Introduction\n",
    "\n",
    "Resources:\n",
    "[\n",
    "GRASS GIS overview and manual](http://grass.osgeo.org/grass72/manuals/index.html)\n",
    "\n",
    "\n",
    "### Understanding GRASS GIS commands\n",
    "\n",
    "\n",
    "You can run GRASS several ways using its graphical user interface (GUI)\n",
    "and command line interface (CLI):\n",
    "\n",
    "    \n",
    "* \n",
    "        RECOMMENDED: for display (d.*) commands use GUI,\n",
    "        for other commands (r.*, g.*, v.*) type the command name into\n",
    "        the command console in the _Console_ tab\n",
    "        (see the tabs at the bottom of the _Layer Manager_)\n",
    "        and then press Enter to open command (module) GUI;\n",
    "    \n",
    "* \n",
    "        run everything through GUI: start the command using a\n",
    "        relevant button or select it from a drop down menu (use the\n",
    "        _Modules_ to find the command);\n",
    "    \n",
    "* \n",
    "        for the display (d.*) commands use GUI,\n",
    "        for other commands type or paste (Paste or Shift Insert) command\n",
    "        with all options into _Console_ and Enter\n",
    "        (useful when you are running out of time, but you will learn less); you can use Up/Down\n",
    "        arrows on your keyboard to retrieve previously run command, if you want to re-run it with\n",
    "        different options;\n",
    "  \n",
    "* \n",
    "        when running on Linux or Mac, paste the command with the options into the shell (you can copy/paste multiple\n",
    "        commands at once)\n",
    "\n",
    "\n",
    "\n",
    "Tutorials:\n",
    "* Video tutorial (no sound, switch on annotations):\n",
    "[\n",
    "    Getting started with GRASS GIS GUI](https://www.youtube.com/watch?v=9fcBvYetIsM).\n",
    "Note: recorded with newest version of GRASS GIS 7.2,\n",
    "some details can differ.\n",
    "* Screenshot-based tutorial demonstrates these options:\n",
    "[\n",
    "    Getting started with GRASS GIS GUI\n",
    "](http://www4.ncsu.edu/~akratoc/GRASS_intro/)\n",
    "\n",
    "\n",
    "\n",
    "Instructions for both\n",
    "[GUI](http://grass.osgeo.org/grass72/manuals/wxGUI.html)\n",
    "and command line approach are provided in the introductory assignments,\n",
    "but the instructions will be mostly command line later on.\n",
    "Feel free to use the approach that suits you the best.\n",
    "For a quick reference, here are the GUI equivalents for the d.* commands:\n",
    "\n",
    "\n",
    "In GRASS GIS Layer Manager toolbar\n",
    "\n",
    "    \n",
    "    \n",
    "* _d.rast__: Add raster map layer_\n",
    "    \n",
    "* _d.vect__: Add vector map layer_\n",
    "    \n",
    "* _d.shade__: Add various raster map layers > Add shaded relief map_\n",
    "\n",
    "In GRASS GIS Map toolbar\n",
    "\n",
    "\n",
    " \n",
    "* _d.zoom__: Zoom options_\n",
    " \n",
    " \n",
    "* _d.out.file__: Save display to file_\n",
    " \n",
    "* _d.barscale__: Add map elements > Add scale bar_\n",
    " \n",
    "* _d.legend__: Add map elements > Add raster legend_\n",
    " \n",
    "* _d.legend.vect__: Add map elements > Add vector legend_\n",
    " \n",
    "* _d.northarrow__: Add map elements > Add north arrow_\n",
    "\n",
    "\n",
    "The d.* commands throughout the assignments indicate which map layers should be included\n",
    "in the output map, _d.out.file_ indicates which map should be saved for the report.\n",
    "You might already have the right map layers in your Layer Manager, so you don't have to load them again.\n",
    "The CLI instructions can also be used for running the assignments on Linux and Mac as scripts.\n",
    "\n",
    "\n",
    "### GRASS GIS Location and Mapset\n",
    "If you don't already have GRASS GIS spatial database nc_spm_08_grass7\n",
    "downloaded, you can find it on\n",
    "[Course logistics page](../logistics.html#data).\n",
    "\n",
    "Before starting with GRASS GIS it is important to understand that\n",
    "GRASS GIS uses the concept of _Location_, _Mapset_ \n",
    "and _computational region_ to support\n",
    "efficient analysis and modeling without the need to subset and resample\n",
    "data. Location is a project space that has common coordinate system.\n",
    "Each Location can have several Mapsets, one is called PERMANENT\n",
    "to store baseline data, others are set by users. You can modify\n",
    "the data only in your current Mapset, but you can view or copy\n",
    "data from other Mapsets. See also\n",
    "[structure of GRASS database](http://grass.osgeo.org/grass70/manuals/grass_database.html).\n",
    "\n",
    "\n",
    "DO NOT MOVE the files under\n",
    "Location directory using non-GRASS tools.\n",
    "\n",
    "\n",
    "Suggested workflow is to create a new mapset for each assignment\n",
    "and do all computations there.\n",
    "\n",
    "\n",
    "Computational region is set by _g.region_ module (command)\n",
    "and specifies the extent and resolution at which raster operation are performed.\n",
    "\n",
    "\n",
    "### Start GRASS GIS\n",
    "\n",
    "Start GRASS - click on GRASS icon or on Linux type:"
   ]
  },
  {
   "cell_type": "code",
   "execution_count": null,
   "metadata": {},
   "outputs": [],
   "source": [
    "# using Python to initialize GRASS GIS\n",
    "# This is a quick introduction into Jupyter Notebook.\n",
    "# Python code can be excecuted like this:\n",
    "a = 6\n",
    "b = 7\n",
    "c = a * b\n",
    "print \"Answer is\", c\n",
    "# Python code can be mixed with command line code (Bash).\n",
    "# It is enough just to prefix the command line with an exclamation mark:\n",
    "!echo \"Answer is $c\"\n",
    "# Use Shift+Enter to execute this cell. The result is below."
   ]
  },
  {
   "cell_type": "code",
   "execution_count": null,
   "metadata": {},
   "outputs": [],
   "source": [
    "# a proper directory is already set, download files\n",
    "import urllib\n",
    "urllib.urlretrieve(\"http://ncsu-geoforall-lab.github.io/geospatial-modeling-course/grass/data/lc96ras_cut.tif\", \"lc96ras_cut.tif\")\n",
    "urllib.urlretrieve(\"http://ncsu-geoforall-lab.github.io/geospatial-modeling-course/grass/data/lc96ras_cut.tif\", \"lc96ras_cut.tif\")"
   ]
  },
  {
   "cell_type": "code",
   "execution_count": null,
   "metadata": {},
   "outputs": [],
   "source": [
    "# using Python to initialize GRASS GIS\n",
    "import os\n",
    "import sys\n",
    "import subprocess\n",
    "from IPython.display import Image\n",
    "\n",
    "# create GRASS GIS runtime environment\n",
    "gisbase = subprocess.check_output([\"grass\", \"--config\", \"path\"]).strip()\n",
    "os.environ['GISBASE'] = gisbase\n",
    "sys.path.append(os.path.join(gisbase, \"etc\", \"python\"))\n",
    "\n",
    "# do GRASS GIS imports\n",
    "import grass.script as gs\n",
    "import grass.script.setup as gsetup\n",
    "\n",
    "# set GRASS GIS session data\n",
    "rcfile = gsetup.init(gisbase, \"/home/jovyan/grassdata\", \"nc_spm_08_grass7\", \"user1\")"
   ]
  },
  {
   "cell_type": "code",
   "execution_count": null,
   "metadata": {},
   "outputs": [],
   "source": [
    "# using Python to initialize GRASS GIS\n",
    "# default font displays\n",
    "os.environ['GRASS_FONT'] = 'sans'\n",
    "# overwrite existing maps\n",
    "os.environ['GRASS_OVERWRITE'] = '1'\n",
    "gs.set_raise_on_error(True)\n",
    "gs.set_capture_stderr(True)"
   ]
  },
  {
   "cell_type": "code",
   "execution_count": null,
   "metadata": {},
   "outputs": [],
   "source": [
    "# using Python to initialize GRASS GIS\n",
    "# set display modules to render into a file (named map.png by default)\n",
    "os.environ['GRASS_RENDER_IMMEDIATE'] = 'cairo'\n",
    "os.environ['GRASS_RENDER_FILE_READ'] = 'TRUE'\n",
    "os.environ['GRASS_LEGEND_FILE'] = 'legend.txt'"
   ]
  },
  {
   "cell_type": "markdown",
   "metadata": {},
   "source": [
    "In startup pannel set GIS Data Directory to path to datasets,\n",
    "for example on MS Windows, `C:\\Users\\myname\\grassdata`.\n",
    "For Project location select nc_spm_08_grass7 (North Carolina, State Plane, meters) and\n",
    "for Accessible mapset create a new mapset (called e.g. `assignment_1`) and\n",
    "click Start GRASS.\n",
    "\n",
    "### Display data in 2D\n",
    "First set working region\n",
    "in GUI: \n",
    "_Settings > Region > Set Region >\n",
    "Set current region from named region > select swwake_30m > Run > Close_\n",
    "or alternatively, paste in the command console in the _Console_ tab:"
   ]
  },
  {
   "cell_type": "code",
   "execution_count": null,
   "metadata": {},
   "outputs": [],
   "source": [
    "!g.region swwake_30m -p"
   ]
  },
  {
   "cell_type": "markdown",
   "metadata": {},
   "source": [
    "Display elevation map:\n",
    "\n",
    "In Layer Manager > _Add raster layer button_ > select raster \"elevation\" > OK.\n",
    "In Map Display > _Zoom to computational region extent_.\n",
    "Make sure the Render button (lower right corner)\n",
    "for automatic rendering of maps is checked on.\n",
    "You can also use the first button _Display map_ in Map Display to render maps.\n",
    "\n",
    "Alternatively, you can add raster layer by pasting this command into the\n",
    "_Console_ tab:"
   ]
  },
  {
   "cell_type": "code",
   "execution_count": null,
   "metadata": {},
   "outputs": [],
   "source": [
    "!d.rast elevation\n",
    "Image(filename=\"map.png\")"
   ]
  },
  {
   "cell_type": "markdown",
   "metadata": {},
   "source": [
    "Display elevation as a colored shaded map:\n",
    "\n",
    "In Layer Manager > _Add various raster maps layers_ > _Add shaded relief map layer_ >\n",
    "select \"elevation_shade\" as shaded relief map and \"elevation\" as color map.\n",
    "Under _Optional_ tab set _Percent to brighten_ to 30 > OK.\n",
    "\n",
    "Command line equivalent: paste into the _Console_ and press Enter:"
   ]
  },
  {
   "cell_type": "code",
   "execution_count": null,
   "metadata": {},
   "outputs": [],
   "source": [
    "!d.shade shade=elevation_shade color=elevation brighten=30\n",
    "Image(filename=\"map.png\")"
   ]
  },
  {
   "cell_type": "markdown",
   "metadata": {},
   "source": [
    "Note: depending on your installed GRASS version, the names of the _d.shade_\n",
    "module can be different. Open the _d.shade_ dialog to find the correct options.\n",
    "\n",
    "\n",
    "\n",
    "Now check the range of elevation values of the entire map.\n",
    "Either by pasting the following command into the _Console_ or right clicking\n",
    "on the elevation raster layer and selecting _Metadata_ in the context menu."
   ]
  },
  {
   "cell_type": "code",
   "execution_count": null,
   "metadata": {},
   "outputs": [],
   "source": [
    "!r.info -r elevation"
   ]
  },
  {
   "cell_type": "markdown",
   "metadata": {},
   "source": [
    "Display vector line and point maps:\n",
    "\n",
    "In Layer Manager: _Add vector map layer button_ >\n",
    "select \"streets_wake\" > OK.\n",
    "Adjust the colors, line widths, symbols by clicking on relevant tabs.\n",
    "Add additional maps (\"roadsmajor\", \"schools_wake\").\n",
    "\n",
    "These are the command line equivalents:"
   ]
  },
  {
   "cell_type": "code",
   "execution_count": null,
   "metadata": {},
   "outputs": [],
   "source": [
    "!d.vect streets_wake\n",
    "!d.vect roadsmajor color=red width=2\n",
    "!d.vect schools_wake icon=basic/circle size=10 fill_color=blue\n",
    "Image(filename=\"map.png\")"
   ]
  },
  {
   "cell_type": "markdown",
   "metadata": {},
   "source": [
    "Save the displayed map:\n",
    "In Map Display click _Save display to graphic file_."
   ]
  },
  {
   "cell_type": "code",
   "execution_count": null,
   "metadata": {},
   "outputs": [],
   "source": [
    "Image(filename=\"map.png\")"
   ]
  },
  {
   "cell_type": "markdown",
   "metadata": {},
   "source": [
    "### Display data in 3D\n",
    "This is just a quick preview: We will explore 3D visualization in 3rd assignment.\n",
    "\n",
    "In Layer Manager check off the elevation_shade layer, but keep the elevation raster on.\n",
    "In Map Display switch 2D view to 3D view.\n",
    "After the 3D mode is loaded, increase viewing height with slider, rotate puck to the south.\n",
    "Click Data tab and set _Fine mode resolution_ to 1, to get the full resolution surface.\n",
    "Save the image by clicking on _Save display to graphic file_ (tiff support is required)\n",
    "or take screenshot.\n",
    "\n",
    "### Data view and query\n",
    "To get familiar with query and zoom tools, set the view back to 2D.\n",
    "Querying data means finding out the values in raster maps\n",
    "or attributes in vector maps at a location selected by mouse.\n",
    "In Layer Manager select the map layer(s) to query by clicking on it.\n",
    "In Map Display click button _Query raster/vector map(s)_ and\n",
    "click on a map at locations where you want to know the values/attributes.\n",
    "\n",
    "In Map Display explore the options to zoom:\n",
    "_zoom-in, zoom-out, zoom to selected map, zoom to computational region_.\n",
    "You can also zoom to specific map layer by right clicking on the layer\n",
    "and selecting Zoom to selected map(s).\n",
    "\n",
    "Now display statewide DEM, county boundaries and climate stations:\n",
    "\n",
    "  Remove all map layers from Layer Manager.\n",
    "In Layer Manager menu: _Settings > Region > Set Region_.\n",
    "In _g.region_ dialog: _Set current region from named region_ >\n",
    "select \"nc_500m\" > _Run_ > _Close_.\n",
    "In Map Display: _Zoom to computational region_.\n",
    "In Layer Manager: _Add raster layer_ > select \"elev_state_500m\".\n",
    "Add vector map layer \"precip_30ynormals\", set the symbol to basic/marker.\n",
    "Add vector map layer boundary_county,\n",
    "to display only county boundary, under tab _Selection_ switch off areas.\n",
    "Rearrange the layers by mouse if needed.\n",
    "\n",
    "The command line equivalent is below,\n",
    "except for removing all map layers from the _Layer Manager_.\n",
    "When using GUI and its _Console_, you can either uncheck\n",
    "the map layers or completely remove them in the _Layer Manager_.\n",
    "When using the system command line and\n",
    "_d.mon_,\n",
    "you can use\n",
    "_d.erase_."
   ]
  },
  {
   "cell_type": "code",
   "execution_count": null,
   "metadata": {},
   "outputs": [],
   "source": [
    "!g.region nc_500m -p\n",
    "!d.erase\n",
    "!d.rast elev_state_500m\n",
    "!d.vect precip_30ynormals icon=basic/marker\n",
    "!d.vect boundary_county type=boundary\n",
    "Image(filename=\"map.png\")"
   ]
  },
  {
   "cell_type": "markdown",
   "metadata": {},
   "source": [
    "### Managing data\n",
    "\n",
    "We will learn how to find more information about the data, copy and rename maps.\n",
    "\n",
    "#### List existing data\n",
    "\n",
    "Browse raster and vector data in the provided database using\n",
    "the _Data_ tab in the _Layer Manager_.\n",
    "The tree shows locations and mapsets in your GRASS GIS database.\n",
    "\n",
    "You can also paste the following command into the _Console_\n",
    "to list the raster and vector maps:"
   ]
  },
  {
   "cell_type": "code",
   "execution_count": null,
   "metadata": {},
   "outputs": [],
   "source": [
    "!g.list -f type=raster,vector"
   ]
  },
  {
   "cell_type": "markdown",
   "metadata": {},
   "source": [
    "You can also use left mouse click in the _Data_ tab to add maps\n",
    "into _Layers_ and display them this way.\n",
    "\n",
    "\n",
    "Now list only vector maps which start with \"s\":\n",
    "In the _Console_ tab enter to the _Search_ box the\n",
    "following `v:^s` which limits the search to\n",
    "vectors using `v:` which start (`^`) with the\n",
    "letter `s`.\n",
    "\n",
    "\n",
    "Or use _g.list_ in the _Console_ tab:"
   ]
  },
  {
   "cell_type": "code",
   "execution_count": null,
   "metadata": {},
   "outputs": [],
   "source": [
    "!g.list type=vector pattern=\"s*\""
   ]
  },
  {
   "cell_type": "markdown",
   "metadata": {},
   "source": [
    "Note that _g.list_ by default uses different\n",
    "pattern matching syntax than the _Console_ tab.\n",
    "If you use the _g.list_ dialog in GUI,\n",
    "in tab _Required_ select type _vector map(s)_\n",
    "and in tab _Pattern_ enter _s*_ for the\n",
    "_Map name search pattern_ field.\n",
    "\n",
    "\n",
    "Now list saved computational regions (which are extents and\n",
    "resolutions bookmarked in the database):\n",
    "In the _File_ menu or in the _Modules_ tab:\n",
    "Find _Manage Maps_ > _List_ to get the\n",
    "_g.list_ dialog.\n",
    "In the dialog tab _Required_ select type\n",
    "_region definition(s)_. Then hit Enter or press _Run_.\n",
    "\n",
    "\n",
    "Or just paste the following command into the _Console_ tab:"
   ]
  },
  {
   "cell_type": "code",
   "execution_count": null,
   "metadata": {},
   "outputs": [],
   "source": [
    "!g.list -p type=region"
   ]
  },
  {
   "cell_type": "markdown",
   "metadata": {},
   "source": [
    "Alternatively, you can type `g.list` into\n",
    "the _Console_ and hit Enter to get the module dialog that way.\n",
    "\n",
    "#### Coordinate system, spatial extent, and resolution\n",
    "\n",
    "\n",
    "Find the working coordinate system and spatial extent:\n",
    "In GUI: _Settings_ > _Map projections_ > _Display map projection_\n",
    "In GUI: _Settings_ > _Region_ > _Display Region_\n",
    "\n",
    "Or paste the following command into the _Console_ tab:"
   ]
  },
  {
   "cell_type": "code",
   "execution_count": null,
   "metadata": {},
   "outputs": [],
   "source": [
    "!g.proj -p\n",
    "!g.region -pl"
   ]
  },
  {
   "cell_type": "markdown",
   "metadata": {},
   "source": [
    "#### Copy and remove data\n",
    "\n",
    "You can copy and remove maps using the _Data_ tab in the\n",
    "_Layer Manager_.\n",
    "\n",
    "\n",
    "First find the raster map named `geology_30m` in the\n",
    "`PERMANENT` mapset and use right click to _Copy_ it.\n",
    "Then find again the current mapset and use right click and\n",
    "_Paste_ to create a copy the `geology_30m` in\n",
    "the current mapset. You will be prompted for the new name, change it\n",
    "to `mygeology`.\n",
    "\n",
    "\n",
    "Than let's say we want to rename it. Use right click again on the new\n",
    "copy, select _Rename_ and type `mygeology_30m`.\n",
    "Finally, let's delete this copy using right click and _Delete_.\n",
    "\n",
    "\n",
    "The above instructions for copying, renaming, and deleting can be done\n",
    "in the _Console_ using the modules _g.copy_,\n",
    "_g.rename_, and _g.remove_\n",
    "as follows:"
   ]
  },
  {
   "cell_type": "code",
   "execution_count": null,
   "metadata": {},
   "outputs": [],
   "source": [
    "!g.copy raster=geology_30m,mygeology\n",
    "!g.rename raster=mygeology,mygeology_30m\n",
    "!g.list raster\n",
    "!g.remove type=raster name=mygeology_30m -f"
   ]
  },
  {
   "cell_type": "markdown",
   "metadata": {},
   "source": [
    "You can find these modules in the GUI in the _File_ menu or\n",
    "in the _Modules_ tab under _Manage Maps_.\n",
    "\n",
    "\n",
    "Note that you can only remove maps from the current mapset\n",
    "and also note that the _Data_ tab asks for confirming the removal\n",
    "and the _g.remove_ requires you to use the\n",
    "`-f` flag.\n",
    "\n",
    "\n",
    "Or paste the following command into the _Console_ tab:"
   ]
  },
  {
   "cell_type": "code",
   "execution_count": null,
   "metadata": {},
   "outputs": [],
   "source": [
    "!g.copy raster=geology_30m,mygeology\n",
    "!g.rename raster=mygeology,mygeology_30m\n",
    "!g.list raster\n",
    "!g.remove type=raster name=mygeology_30m -f"
   ]
  },
  {
   "cell_type": "markdown",
   "metadata": {},
   "source": [
    "Find information about individual maps layers and their attributes:\n",
    "In GUI: right click raster layer \"elevation\", select _Metadata_,\n",
    "right click vector layer \"streets_wake\", select _Metadata_, _Show attribute data_.\n",
    "\n",
    "\n",
    "Or paste the following command into the _Console_:"
   ]
  },
  {
   "cell_type": "code",
   "execution_count": null,
   "metadata": {},
   "outputs": [],
   "source": [
    "!r.info elevation\n",
    "!v.info streets_wake\n",
    "!v.info -c streets_wake"
   ]
  },
  {
   "cell_type": "markdown",
   "metadata": {},
   "source": [
    "All data (maps) are stored in your GRASS database directory.\n",
    "You can save your project into a GRASS workspace file *.gxw under _File_ > _Workspace_ > _Save as_.\n",
    "\n",
    "\n",
    "### Import and export for raster and vector data\n",
    "\n",
    "\n",
    "In this section we will cover importing and exporting of raster and vector\n",
    "data which are in the same projection as the GRASS Location we work in.\n",
    "\n",
    "Cases where the projection differs are covered in a [separate guide](import.html).\n",
    "\n",
    "\n",
    "#### Import and export Shapefiles\n",
    "\n",
    "Download Shapefile with geodetic points:\n",
    "[geod_pts_spm.zip](http://courses.ncsu.edu/mea582/common/GIS_anal_grass/geod_pts_spm.zip).\n",
    "Save and unzip it on Desktop or a directory where you have read/write permissions.\n",
    "\n",
    "\n",
    "To import file in GUI use:\n",
    "\n",
    "* _File_ > _Import vector data_ > _Common import formats_.\n",
    "* In the dialog, select _Source type_ > _Directory_.\n",
    "* Use _Browse_ button to find the path to the directory \"geod_pts_spm\"\n",
    "to fill the _Source name_ field.\n",
    "* Then click on _Import_ button.\n",
    "\n",
    "\n",
    "In case the imported point data was not displayed automatically,\n",
    "use _Add vector_ to display the data\n",
    "and zoom to the vector layer.\n",
    "Compare the imported vector with \"streets_wake\" vector\n",
    "to see how they are distributed.\n",
    "\n",
    "\n",
    "Export the roadsmajor map as a shape file:\n",
    "\n",
    "* _File_ > _Export_ > _Common formats_\n",
    "* Select roadsmajor as _Name of input vector map_\n",
    "* Type C:\\mydirectory\\roadsmajor path as OGR output datasource name\n",
    "(path should be to a directory where you have write permission)\n",
    "* click _Run_\n",
    "\n",
    "You can then display the roadsmajor in ArcGIS.\n",
    "\n",
    "#### Import and export of vectors when scripting\n",
    "\n",
    "\n",
    "For scripting workflows a command line import/export can be used.\n",
    "It requires properly set path to external files.\n",
    "In this case, \"gdc.shp\" would be replaced, e.g. by \"C:\\path_to_my_file\\gdc.shp\"\n",
    "on MS Windows and by \"/path_to_my_file/gdc.shp\" on unix-like systems.\n",
    "And the full path, e.g. \"C:\\path_to_my_file\\roadsmajor.shp\", would be used\n",
    "instead of \"roadsmajor.shp\".\n",
    "\n",
    "```\n",
    "v.import input=gdc.shp output=geodetic_points\n",
    "v.out.ogr input=roadsmajor output=roadsmajor.shp\n",
    "```\n",
    "\n",
    "On MS Windows it is often easier to do the import through GUI\n",
    "to get the correct path to your data.\n",
    "On Mac, Linux and other systems you can use current working directory\n",
    "and/or auto-complete in the system command line to avoid typing the full path;\n",
    "you can of course use GUI if you prefer.\n",
    "\n",
    "\n",
    "#### Import raster file provided in GeoTIFF format\n",
    "\n",
    "\n",
    "Download a landuse raster in GeoTIFF format (referenced TIFF image):\n",
    "[lc96ras_cut.tif](data/lc96ras_cut.tif).\n",
    "Save it on Desktop or in a directory of your choice.\n",
    "\n",
    "To import file in GUI use:\n",
    "_File_ > _Import raster data_ > _Common import formats_.\n",
    "Keep the default _GeoTIFF_ as the _Format_\n",
    "and use _Browse_ button to find the path to downloaded \"lc96ras_cut.tif\" file.\n",
    "Make sure the file is checked on in the _List of GDAL layers_.\n",
    "Click _Import_.\n",
    "\n",
    "\n",
    "On MS Windows, the import is often easier to do through GUI because of getting\n",
    "the correct path to your data. In general, you can use the\n",
    "command line alternative below.\n",
    "Note that it requires you to provide a full path to your input data,\n",
    "so you would have to replace \"lc96ras_cut.tif\" by something\n",
    "like \"C:\\path_to_my_file\\lc96ras_cut.tif\" or\n",
    "\"/path_to_my_file/lc96ras_cut.tif\" depending on the location of data\n",
    "and platform you are using."
   ]
  },
  {
   "cell_type": "code",
   "execution_count": null,
   "metadata": {},
   "outputs": [],
   "source": [
    "!r.import input=lc96ras_cut.tif output=landuse96_subset"
   ]
  },
  {
   "cell_type": "markdown",
   "metadata": {},
   "source": [
    "#### Exporting raster files as ASCII grid and GeoTIFF\n",
    "\n",
    "\n",
    "Now, export raster files as ASCII grid and GeoTIFF.\n",
    "\n",
    "Use _File_ > _Export raster map_ > _Common export formats_.\n",
    "Do not forget to specify the full path to your output files otherwise you might\n",
    "have hard time finding them especially on MS Windows.\n",
    "Alternatively, you can use command line but again, don't forget to specify\n",
    "full path to output file or set your working directory to desired location."
   ]
  },
  {
   "cell_type": "code",
   "execution_count": null,
   "metadata": {},
   "outputs": [],
   "source": [
    "!r.out.gdal input=elev_ned_30m output=elev_ned_30m.ascii format=AAIGrid\n",
    "!r.out.gdal input=basin_50K output=basin_50K.tif"
   ]
  },
  {
   "cell_type": "markdown",
   "metadata": {},
   "source": [
    "### Creating new GRASS Location\n",
    "We will create new Locations based on EPSG code and based on\n",
    "georeferenced file.\n",
    " First we create a new Location with Spatial Reference System (SRS) given by\n",
    "    EPSG code 3404.\n",
    "    Which SRS has EPSG 3404 and what are its characteristics?\n",
    "    \n",
    "\n",
    "Launch _Location Wizard_\n",
    "from Layer Manager menu > _Settings_ > _GRASS working environment_ >\n",
    " _Create new location_\n",
    "or from GRASS Startup window > _Select GRASS Location_ > _New_.\n",
    "In _Project Location_ field type \"nc_spf\" > _Next_\n",
    "Select method _Select EPSG code of spatial reference system_ > _Next_\n",
    "Type EPSG code 3404 > _Next_ > OK > Finish\n",
    "Set default region extents? > No\n",
    "\n",
    "In this new location review the projection information:"
   ]
  },
  {
   "cell_type": "code",
   "execution_count": null,
   "metadata": {},
   "outputs": [],
   "source": [
    "!g.proj -p"
   ]
  },
  {
   "cell_type": "markdown",
   "metadata": {},
   "source": [
    "Another way to set up a GRASS Location uses SRS information from a georeferenced file.\n",
    "Again launch the _Location Wizard_:\n",
    "\n",
    "In _Project Location_ field type \"nc_spm\" > _Next_\n",
    "Select method _Read projection and datum terms from a georeferenced data file_ > _Next_\n",
    "Browse to downloaded file [lc96ras_cut.tif](data/lc96ras_cut.tif) >\n",
    "_Next_ > Finish\n",
    "_Import data?_ > Yes > OK\n",
    "\n",
    "Review again the projection information:"
   ]
  },
  {
   "cell_type": "code",
   "execution_count": null,
   "metadata": {},
   "outputs": [],
   "source": [
    "!g.proj -p"
   ]
  },
  {
   "cell_type": "markdown",
   "metadata": {},
   "source": [
    "### Optional: Add WMS layer\n",
    "View and download orthophoto through web mapping service.\n",
    "Requires good internet connection. If it doesn't work, report the problem\n",
    "including any error message in the report.\n",
    "First change region to the small rural area and display the provided orthophoto."
   ]
  },
  {
   "cell_type": "code",
   "execution_count": null,
   "metadata": {},
   "outputs": [],
   "source": [
    "!g.region rural_1m -p\n",
    "!d.rast ortho_2001_t792_1m\n",
    "Image(filename=\"map.png\")"
   ]
  },
  {
   "cell_type": "markdown",
   "metadata": {},
   "source": [
    "In Layer Manager toolbar _Add web service layer_.\n",
    "Paste the link to the service into server field and press connect:\n",
    "```\n",
    "http://raster.nationalmap.gov/arcgis/services/Orthoimagery/USGS_EROS_Ortho_1Foot/ImageServer/WMSServer?\n",
    "```\n",
    "Wait until GUI changes. Be patient, it can take up to one minute.\n",
    "In list of layers, there should be \"USGS_EROS_Ortho_1Foot\", click on that.\n",
    "Press Add layer button and wait.\n",
    "The dialog can be closed afterwards.\n",
    "\n",
    "\n",
    "To save the layer:\n",
    "Right click on the web service layer in Layer Manager - choose _Save web service layer_.\n",
    "In dialog, set the name of the layer ortho_new and press _Save layer_."
   ]
  },
  {
   "cell_type": "code",
   "execution_count": null,
   "metadata": {},
   "outputs": [],
   "source": [
    "# end the GRASS session\n",
    "os.remove(rcfile)"
   ]
  }
 ],
 "metadata": {
  "kernelspec": {
   "display_name": "Python 2",
   "language": "python",
   "name": "python2"
  }
 },
 "nbformat": 4,
 "nbformat_minor": 0
}
