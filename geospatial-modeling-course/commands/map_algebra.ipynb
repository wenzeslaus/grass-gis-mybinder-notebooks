{
 "cells": [
  {
   "cell_type": "markdown",
   "metadata": {},
   "source": [
    "## Geospatial Analysis I: global, zonal and focal operations, map algebra\n",
    "Resources:\n",
    "\n",
    "* [\n",
    "GRASS GIS overview and manual](http://grass.osgeo.org/grass72/manuals/index.html)\n",
    "*  [Recommendations](data_acquisition.html#commands)\n",
    "and [tutorial](http://www4.ncsu.edu/~akratoc/GRASS_intro/)\n",
    "how to use GUI from the first assignment\n",
    "\n",
    "\n",
    "\n",
    "\n",
    "To run _r.mapcalc_ expressions, you can either\n",
    "run the entire command in the GUI _Console_, or in case of any\n",
    "problems, type or copy the expression (without the _r.mapcalc_) in the GRASS GIS Raster Map Calculator\n",
    "which can be launched from _Layer Manager_ toolbar.\n",
    "\n",
    "\n",
    "Text files with color rules:\n",
    "\n",
    "\n",
    "* [srtmneddiff_color.txt](data/srtmneddiff_color.txt)\n",
    "\n",
    "\n",
    "### Start GRASS GIS\n",
    "In startup pannel set GIS Data Directory to path to datasets,\n",
    "for example on MS Windows, `C:\\Users\\myname\\grassdata`.\n",
    "For Project location select nc_spm_08_grass7 (North Carolina, State Plane, meters) and\n",
    "for Accessible mapset create a new mapset (called e.g. HW_map_algebra) and\n",
    "click Start GRASS."
   ]
  },
  {
   "cell_type": "code",
   "execution_count": null,
   "metadata": {},
   "outputs": [],
   "source": [
    "# using Python to initialize GRASS GIS\n",
    "# This is a quick introduction into Jupyter Notebook.\n",
    "# Python code can be excecuted like this:\n",
    "a = 6\n",
    "b = 7\n",
    "c = a * b\n",
    "print \"Answer is\", c\n",
    "# Python code can be mixed with command line code (Bash).\n",
    "# It is enough just to prefix the command line with an exclamation mark:\n",
    "!echo \"Answer is $c\"\n",
    "# Use Shift+Enter to execute this cell. The result is below."
   ]
  },
  {
   "cell_type": "code",
   "execution_count": null,
   "metadata": {},
   "outputs": [],
   "source": [
    "# using Python to initialize GRASS GIS\n",
    "import os\n",
    "import sys\n",
    "import subprocess\n",
    "from IPython.display import Image\n",
    "\n",
    "# create GRASS GIS runtime environment\n",
    "gisbase = subprocess.check_output([\"grass\", \"--config\", \"path\"]).strip()\n",
    "os.environ['GISBASE'] = gisbase\n",
    "sys.path.append(os.path.join(gisbase, \"etc\", \"python\"))\n",
    "\n",
    "# do GRASS GIS imports\n",
    "import grass.script as gs\n",
    "import grass.script.setup as gsetup\n",
    "\n",
    "# set GRASS GIS session data\n",
    "rcfile = gsetup.init(gisbase, \"/home/jovyan/grassdata\", \"nc_spm_08_grass7\", \"user1\")"
   ]
  },
  {
   "cell_type": "code",
   "execution_count": null,
   "metadata": {},
   "outputs": [],
   "source": [
    "# using Python to initialize GRASS GIS\n",
    "# default font displays\n",
    "os.environ['GRASS_FONT'] = 'sans'\n",
    "# overwrite existing maps\n",
    "os.environ['GRASS_OVERWRITE'] = '1'\n",
    "gs.set_raise_on_error(True)\n",
    "gs.set_capture_stderr(True)"
   ]
  },
  {
   "cell_type": "code",
   "execution_count": null,
   "metadata": {},
   "outputs": [],
   "source": [
    "# using Python to initialize GRASS GIS\n",
    "# set display modules to render into a file (named map.png by default)\n",
    "os.environ['GRASS_RENDER_IMMEDIATE'] = 'cairo'\n",
    "os.environ['GRASS_RENDER_FILE_READ'] = 'TRUE'\n",
    "os.environ['GRASS_LEGEND_FILE'] = 'legend.txt'"
   ]
  },
  {
   "cell_type": "markdown",
   "metadata": {},
   "source": [
    "Change working directory:\n",
    "_Settings_ > _GRASS working environment_ > _Change working directory_ > select/create any directory\n",
    "or type `cd` (stands for change directory) into the GUI\n",
    "_Console_ and hit Enter:"
   ]
  },
  {
   "cell_type": "code",
   "execution_count": null,
   "metadata": {},
   "outputs": [],
   "source": [
    "# a proper directory is already set, download files\n",
    "import urllib\n",
    "urllib.urlretrieve(\"http://ncsu-geoforall-lab.github.io/geospatial-modeling-course/grass/data/srtmneddiff_color.txt\", \"srtmneddiff_color.txt\")\n",
    "urllib.urlretrieve(\"http://ncsu-geoforall-lab.github.io/geospatial-modeling-course/grass/data/srtmneddiff_color.txt\", \"srtmneddiff_color.txt\")"
   ]
  },
  {
   "cell_type": "markdown",
   "metadata": {},
   "source": [
    "Download all text files with color rules (see above)\n",
    "to the selected directory. Now you can use the commands from the assignment requiring the text file\n",
    "without the need to specify the full path to the file.\n",
    "\n",
    "### Compute summaries\n",
    "\n",
    "Compute areas for each category at two different resolutions.\n",
    "\n",
    "Are results equal? Explain (see also Lecture 1).\n",
    "Copy and paste the report from the output window or\n",
    "save the report in a text file: _Output window_ > _Save_.\n",
    "Use fixed width font (e.g., Courier, Andale Mono  in your report to preserve formatting)."
   ]
  },
  {
   "cell_type": "code",
   "execution_count": null,
   "metadata": {},
   "outputs": [],
   "source": [
    "!g.region raster=landuse96_28m res=12 -ap\n",
    "!r.report landuse96_28m unit=c,h,p\n",
    "!g.region raster=landuse96_28m res=30 -ap\n",
    "!r.report landuse96_28m unit=c,h,p"
   ]
  },
  {
   "cell_type": "markdown",
   "metadata": {},
   "source": [
    "Compute areas for each category of land use for each zipcode.\n",
    "Compare 27601 Raleigh with 27511 Cary.\n",
    "Include only the relevant part of the table in your report."
   ]
  },
  {
   "cell_type": "code",
   "execution_count": null,
   "metadata": {},
   "outputs": [],
   "source": [
    "!r.report zipcodes,landuse96_28m unit=h,p"
   ]
  },
  {
   "cell_type": "markdown",
   "metadata": {},
   "source": [
    "Compute zonal statistics maps representing\n",
    "average slope for each basin.\n",
    "Add legends using _Add map elements_ in Map Display toolbar.\n",
    "Reminder: _d.out.file_ means Save to graphics file for your report."
   ]
  },
  {
   "cell_type": "code",
   "execution_count": null,
   "metadata": {},
   "outputs": [],
   "source": [
    "!g.region raster=slope -p\n",
    "!r.stats.zonal base=basin_50K cover=slope method=average output=slope_avgbasin\n",
    "!r.colors slope_avgbasin color=gyr\n",
    "!d.rast slope_avgbasin\n",
    "!d.legend slope_avgbasin at=90,50,5,8\n",
    "!d.vect streams color=15:25:110\n",
    "Image(filename=\"map.png\")"
   ]
  },
  {
   "cell_type": "markdown",
   "metadata": {},
   "source": [
    "Compute zonal statistics maps representing most common land use for each basin.\n",
    "When adding legend, make sure you define _List of discrete category numbers_."
   ]
  },
  {
   "cell_type": "code",
   "execution_count": null,
   "metadata": {},
   "outputs": [],
   "source": [
    "!g.region raster=landuse96_28m -p\n",
    "!r.mode base=basin_50K cover=landuse96_28m output=landuse96_modebasin\n",
    "!d.rast landuse96_modebasin\n",
    "!d.vect streams\n",
    "!d.legend landuse96_modebasin at=40,20,2,5 -n\n",
    "Image(filename=\"map.png\")"
   ]
  },
  {
   "cell_type": "markdown",
   "metadata": {},
   "source": [
    "### Apply neighborhood operators\n",
    "\n",
    "Use neighborhood operator to compute land use diversity map.\n",
    "How diverse is land use in NCSU area?\n",
    "Before you start to display the new results,\n",
    "remove all previously added map layers from the _Layer Manager_."
   ]
  },
  {
   "cell_type": "code",
   "execution_count": null,
   "metadata": {},
   "outputs": [],
   "source": [
    "!g.region raster=landuse96_28m -p\n",
    "!r.info -g landuse96_28m\n",
    "!r.neighbors landuse96_28m output=lu_divers method=diversity size=7\n",
    "!d.erase\n",
    "!d.rast lu_divers\n",
    "!d.legend lu_divers at=70,15,5,10 -v\n",
    "!d.vect streets_wake\n",
    "!r.report lu_divers unit=p\n",
    "Image(filename=\"map.png\")"
   ]
  },
  {
   "cell_type": "markdown",
   "metadata": {},
   "source": [
    "Use neighborhood operator to smooth the SRTM elevation map and \n",
    "compare the global statistical measures for the original and smoothed DEM.\n",
    "How would size of the neighborhood influence the result?"
   ]
  },
  {
   "cell_type": "code",
   "execution_count": null,
   "metadata": {},
   "outputs": [],
   "source": [
    "!g.region raster=elev_srtm_30m -p\n",
    "!r.neighbors elev_srtm_30m output=elev_srtm30m_sm5 method=average size=5\n",
    "!d.rast elev_srtm_30m\n",
    "!d.rast elev_srtm30m_sm5\n",
    "!r.univar elev_srtm_30m\n",
    "!r.univar elev_srtm30m_sm5\n",
    "Image(filename=\"map.png\")"
   ]
  },
  {
   "cell_type": "markdown",
   "metadata": {},
   "source": [
    "### Patch multiple raster layers into a single raster\n",
    "\n",
    "Patch raster tiles for lidar based, 6m res. DEM for Centennial Campus.\n",
    "\n",
    "Before displaying new data, remove older map layers from _Layer Manager_."
   ]
  },
  {
   "cell_type": "code",
   "execution_count": null,
   "metadata": {},
   "outputs": [],
   "source": [
    "!g.region raster=el_D793_6m,el_D783_6m,el_D782_6m,el_D792_6m -p\n",
    "!r.patch input=el_D793_6m,el_D783_6m,el_D782_6m,el_D792_6m output=elevlidD_6m\n",
    "!r.colors elevlidD_6m raster=elevation\n",
    "!d.erase\n",
    "!d.rast elevlidD_6m\n",
    "Image(filename=\"map.png\")"
   ]
  },
  {
   "cell_type": "markdown",
   "metadata": {},
   "source": [
    "### Map Algebra\n",
    "See _r.mapcalc_ manual page for syntax and functions.\n",
    "\n",
    "\n",
    "If you are getting en error when running\n",
    "_r.mapcalc_ in GUI _Console_ or the system\n",
    "command line, launch the GUI version from _Layer Manager_\n",
    "toolbar.\n",
    "\n",
    "#### NDVI\n",
    "Compute Normalized Difference Vegetation Index (NDVI).\n",
    "Explain the difference between floating point and integer\n",
    "handling in ndvi1, ndvi2 and ndvi3 result."
   ]
  },
  {
   "cell_type": "code",
   "execution_count": null,
   "metadata": {},
   "outputs": [],
   "source": [
    "!g.region raster=lsat7_2002_40 -p\n",
    "!r.mapcalc \"ndvi1 = (lsat7_2002_40 - lsat7_2002_30) / (lsat7_2002_40 + lsat7_2002_30)\"\n",
    "!r.mapcalc \"ndvi2 = 1.0 * (lsat7_2002_40 - lsat7_2002_30) / (lsat7_2002_40 + lsat7_2002_30)\"\n",
    "!r.mapcalc \"ndvi3 = float(lsat7_2002_40 - lsat7_2002_30) / float(lsat7_2002_40 + lsat7_2002_30)\"\n",
    "!r.info -r ndvi1\n",
    "!r.info -r ndvi2\n",
    "!r.info -r ndvi3\n",
    "!r.colors ndvi3 color=ndvi\n",
    "!d.rast ndvi3\n",
    "Image(filename=\"map.png\")"
   ]
  },
  {
   "cell_type": "markdown",
   "metadata": {},
   "source": [
    "#### Difference between DEM and DSM\n",
    "Explore the difference between the SRTM DSM and lidar-based NED DEM.\n",
    "Compute the map of elevation differences."
   ]
  },
  {
   "cell_type": "code",
   "execution_count": null,
   "metadata": {},
   "outputs": [],
   "source": [
    "!g.region raster=elev_ned_30m -p\n",
    "!r.mapcalc \"srtm_ned30_dif = elev_srtm_30m - elev_ned_30m\""
   ]
  },
  {
   "cell_type": "markdown",
   "metadata": {},
   "source": [
    "Create a custom color table to distinguish the negative and positive values:"
   ]
  },
  {
   "cell_type": "code",
   "execution_count": null,
   "metadata": {},
   "outputs": [],
   "source": [
    "!r.info -r srtm_ned30_dif"
   ]
  },
  {
   "cell_type": "markdown",
   "metadata": {},
   "source": [
    "fp: Data range is -142.24... to 86.19...\n",
    "Assign custom color table [srtmneddiff_color.txt](data/srtmneddiff_color.txt).\n",
    "GUI: Right click on layer > _Properties_ > _Set color table_ > _Colors_ > _Path to rules file_."
   ]
  },
  {
   "cell_type": "code",
   "execution_count": null,
   "metadata": {},
   "outputs": [],
   "source": [
    "!r.colors srtm_ned30_dif rules=srtmneddiff_color.txt"
   ]
  },
  {
   "cell_type": "markdown",
   "metadata": {},
   "source": [
    "Zoom to computational region and switch off previous map layers. Display the difference map layer:"
   ]
  },
  {
   "cell_type": "code",
   "execution_count": null,
   "metadata": {},
   "outputs": [],
   "source": [
    "!d.rast srtm_ned30_dif\n",
    "!d.legend srtm_ned30_dif at=70,15,5,10\n",
    "!d.vect streets_wake\n",
    "Image(filename=\"map.png\")\n",
    "!r.univar elev_srtm_30m\n",
    "!r.univar elev_ned_30m\n",
    "Image(filename=\"map.png\")"
   ]
  },
  {
   "cell_type": "markdown",
   "metadata": {},
   "source": [
    "Is the srtm mostly higher or lower than elev_ned?\n",
    "Which result will you use to answer the above question -\n",
    "the srtm_ned30_dif map or numbers provided by _r.univar_?\n",
    "\n",
    "\n",
    "#### Working with if statements\n",
    "Create map of urban areas (high density and low density class)\n",
    "with 0 class elsewhere."
   ]
  },
  {
   "cell_type": "code",
   "execution_count": null,
   "metadata": {},
   "outputs": [],
   "source": [
    "!g.region raster=landuse96_28m -p\n",
    "!r.mapcalc \"urban1_30m = if(landuse96_28m == 1,1,0) + if(landuse96_28m == 2,2,0)\"\n",
    "!d.rast urban1_30m\n",
    "!d.legend urban1_30m at=10,30,5,8\n",
    "Image(filename=\"map.png\")"
   ]
  },
  {
   "cell_type": "markdown",
   "metadata": {},
   "source": [
    "Alternatively with logical 'or' operator and null elsewhere:"
   ]
  },
  {
   "cell_type": "code",
   "execution_count": null,
   "metadata": {},
   "outputs": [],
   "source": [
    "!r.mapcalc \"urban2_30m = if(landuse96_28m == 1 || landuse96_28m == 2,landuse96_28m,null())\"\n",
    "!d.rast urban2_30m\n",
    "Image(filename=\"map.png\")"
   ]
  },
  {
   "cell_type": "markdown",
   "metadata": {},
   "source": [
    "#### Handling null values\n",
    "\n",
    "\n",
    "\n",
    "\n",
    "\n",
    "Create mask for low lying developed areas (e.g. vulnerable to flooding)\n",
    "with elevation between 60 and 100m and land use 1 or 2.\n",
    "Set the region, display the input maps and create a MASK.\n",
    "Before you start new computations, remove or switch off previous map layers\n",
    "in the _Layer Manger_.\n",
    "You may also zoom to computational region in _Map Display_\n",
    "once you set a new one."
   ]
  },
  {
   "cell_type": "code",
   "execution_count": null,
   "metadata": {},
   "outputs": [],
   "source": [
    "!g.region raster=elevation -p\n",
    "!d.erase\n",
    "!d.rast elevation\n",
    "!d.rast landuse96_28m\n",
    "!r.mapcalc \"low_elev_developed = if((elevation < 100 && elevation > 60) && (landuse96_28m == 1 || landuse96_28m == 2),1,null())\"\n",
    "!r.mask raster=low_elev_developed\n",
    "Image(filename=\"map.png\")"
   ]
  },
  {
   "cell_type": "markdown",
   "metadata": {},
   "source": [
    "Command _r.mask_ creates a raster map \"MASK\" in your mapset.\n",
    "\n",
    "\n",
    "Remove \"low_elev_developed\" layer if it was added.\n",
    "Display watersheds to see the mask effect:"
   ]
  },
  {
   "cell_type": "code",
   "execution_count": null,
   "metadata": {},
   "outputs": [],
   "source": [
    "!d.rast basin_50K\n",
    "Image(filename=\"map.png\")"
   ]
  },
  {
   "cell_type": "markdown",
   "metadata": {},
   "source": [
    "Disable mask, and display basin_50K again\n",
    "to show that the mask was removed."
   ]
  },
  {
   "cell_type": "code",
   "execution_count": null,
   "metadata": {},
   "outputs": [],
   "source": [
    "!r.mask -r\n",
    "!d.rast basin_50K\n",
    "Image(filename=\"map.png\")"
   ]
  },
  {
   "cell_type": "markdown",
   "metadata": {},
   "source": [
    "#### Using coordinates of moving window in map algebra\n",
    "\n",
    "Replace section of SRTM DSM with NED DEM elevation.\n",
    "Try to explain how this _r.mapcalc_ expression works."
   ]
  },
  {
   "cell_type": "code",
   "execution_count": null,
   "metadata": {},
   "outputs": [],
   "source": [
    "!r.mapcalc \"elev_combined = if(y() < 224274. && x() > 637455., elevation, elev_srtm_30m)\""
   ]
  },
  {
   "cell_type": "markdown",
   "metadata": {},
   "source": [
    "### Optional -  various additional useful tasks\n",
    "#### Tilted plane\n",
    "Create a raster map representing tilted plane (e.g., geologic fault):"
   ]
  },
  {
   "cell_type": "code",
   "execution_count": null,
   "metadata": {},
   "outputs": [],
   "source": [
    "!g.region rural_1m -p\n",
    "!r.mapcalc \"tiltplane = 0.2*(0.1*row()+col())+50\"\n",
    "!r.mapcalc \"tiltpl_under = if(tiltplane < elev_lid792_1m + 2,tiltplane,null())\""
   ]
  },
  {
   "cell_type": "markdown",
   "metadata": {},
   "source": [
    "View the elevation surface and subsurface plane in 3D.\n",
    "_Switch off all layers in the layer manager except for elev_lid792_1m and tiltpl_under_.\n",
    "Change display to 3D view, adjust viewing position to a view from South.\n",
    "Save an image for your report.\n",
    "\n",
    "\n",
    "#### Map subsets\n",
    "Use map algebra to create map subsets.\n",
    "Change region to the airphoto tile 792 and resolution 10m.\n",
    "Since we will work in different are, it is a good idea to remove\n",
    "all previously used map layers from the _Layer Manager_."
   ]
  },
  {
   "cell_type": "code",
   "execution_count": null,
   "metadata": {},
   "outputs": [],
   "source": [
    "!g.region raster=ortho_2001_t792_1m res=10 -ap\n",
    "!d.erase\n",
    "!d.rast ortho_2001_t792_1m\n",
    "Image(filename=\"map.png\")"
   ]
  },
  {
   "cell_type": "markdown",
   "metadata": {},
   "source": [
    "Create a subset of the map elevation for this subregion."
   ]
  },
  {
   "cell_type": "code",
   "execution_count": null,
   "metadata": {},
   "outputs": [],
   "source": [
    "!r.mapcalc \"elevation_792_10m = elevation\"\n",
    "!d.rast elevation_792_10m\n",
    "Image(filename=\"map.png\")"
   ]
  },
  {
   "cell_type": "markdown",
   "metadata": {},
   "source": [
    "Zoom out to see that it is a subset.\n",
    "\n",
    "#### Work with NULL and MASK\n",
    "\n",
    "Set the mask and check its effect."
   ]
  },
  {
   "cell_type": "code",
   "execution_count": null,
   "metadata": {},
   "outputs": [],
   "source": [
    "!d.rast elevation\n",
    "!d.vect streets_wake\n",
    "!r.mask raster=urban maskcats=55\n",
    "!d.rast elevation\n",
    "Image(filename=\"map.png\")"
   ]
  },
  {
   "cell_type": "markdown",
   "metadata": {},
   "source": [
    "Remove mask:"
   ]
  },
  {
   "cell_type": "code",
   "execution_count": null,
   "metadata": {},
   "outputs": [],
   "source": [
    "!r.mask -r"
   ]
  },
  {
   "cell_type": "markdown",
   "metadata": {},
   "source": [
    "#### Zonal statistics\n",
    "Compute % area for each category in each zipcode.\n",
    "Which zipcode has the most high density development?"
   ]
  },
  {
   "cell_type": "code",
   "execution_count": null,
   "metadata": {},
   "outputs": [],
   "source": [
    "!r.stats -pl zipcodes,landuse96_28m"
   ]
  },
  {
   "cell_type": "markdown",
   "metadata": {},
   "source": [
    "#### Working with relative coordinates\n",
    "Enter the expression on a single line without \\\n",
    "Again, it is a good idea to remove the previously used map layers\n",
    "before we start to work on a new task."
   ]
  },
  {
   "cell_type": "code",
   "execution_count": null,
   "metadata": {},
   "outputs": [],
   "source": [
    "!g.region raster=elev_srtm_30m -p\n",
    "!d.erase\n",
    "!r.mapcalc \"elev_srtm30m_smooth = (elev_srtm_30m[-1,-1]   \\\n",
    "           + elev_srtm_30m[-1,0] + elev_srtm_30m[-1,1] \\\n",
    "           + elev_srtm_30m[0,-1] + elev_srtm_30m[0,0]  \\\n",
    "           + elev_srtm_30m[0,1]  + elev_srtm_30m[1,-1] \\\n",
    "           + elev_srtm_30m[1,0]  + elev_srtm_30m[1,1])/9.\"\n",
    "Image(filename=\"map.png\")"
   ]
  },
  {
   "cell_type": "markdown",
   "metadata": {},
   "source": [
    "Assign the resulting map the same color table as the original.\n",
    "Compare global statistics"
   ]
  },
  {
   "cell_type": "code",
   "execution_count": null,
   "metadata": {},
   "outputs": [],
   "source": [
    "!r.colors elev_srtm30m_smooth raster=elev_srtm_30m\n",
    "!r.univar elev_srtm_30m\n",
    "!r.univar elev_srtm30m_smooth\n",
    "!d.rast elev_srtm_30m\n",
    "!d.rast elev_srtm30m_smooth\n",
    "Image(filename=\"map.png\")"
   ]
  },
  {
   "cell_type": "code",
   "execution_count": null,
   "metadata": {},
   "outputs": [],
   "source": [
    "# end the GRASS session\n",
    "os.remove(rcfile)"
   ]
  }
 ],
 "metadata": {
  "kernelspec": {
   "display_name": "Python 2",
   "language": "python",
   "name": "python2"
  }
 },
 "nbformat": 4,
 "nbformat_minor": 0
}
