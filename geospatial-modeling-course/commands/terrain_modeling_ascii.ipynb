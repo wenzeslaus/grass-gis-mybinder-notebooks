{
 "cells": [
  {
   "cell_type": "markdown",
   "metadata": {},
   "source": [
    "## Geomorphometry I: Terrain Modeling (data in ASCII files)\n",
    "\n",
    "\n",
    "\n",
    "Resources: [\n",
    "GRASS GIS overview and manual](http://grass.osgeo.org/grass72/manuals/index.html),\n",
    "[ libLAS tools for lidar data conversions](http://liblas.org/)\n",
    "\n",
    "On MSWindows, it is recommended to use GUI equivalents of d.* commands:\n",
    "use their GUI equivalents,\n",
    "see assignment [Data display and visualization](data_visualization.html)\n",
    "\n",
    "Download the ASCI (x,y,z) lidar bare earth data\n",
    "[lid_be_pts.txt](data/lid_be_pts.txt)\n",
    "Download the ASCI (x,y,z) lidar multiple return data\n",
    "[lid_mr_pts.txt](data/lid_mr_pts.txt)\n",
    "\n",
    "\n",
    "\n",
    "### Start GRASS GIS"
   ]
  },
  {
   "cell_type": "code",
   "execution_count": null,
   "metadata": {},
   "outputs": [],
   "source": [
    "# using Python to initialize GRASS GIS\n",
    "# This is a quick introduction into Jupyter Notebook.\n",
    "# Python code can be excecuted like this:\n",
    "a = 6\n",
    "b = 7\n",
    "c = a * b\n",
    "print \"Answer is\", c\n",
    "# Python code can be mixed with command line code (Bash).\n",
    "# It is enough just to prefix the command line with an exclamation mark:\n",
    "!echo \"Answer is $c\"\n",
    "# Use Shift+Enter to execute this cell. The result is below."
   ]
  },
  {
   "cell_type": "code",
   "execution_count": null,
   "metadata": {},
   "outputs": [],
   "source": [
    "# a proper directory is already set, download files\n",
    "import urllib\n",
    "urllib.urlretrieve(\"http://ncsu-geoforall-lab.github.io/geospatial-modeling-course/grass/data/lid_be_pts.txt\", \"lid_be_pts.txt\")\n",
    "urllib.urlretrieve(\"http://ncsu-geoforall-lab.github.io/geospatial-modeling-course/grass/data/lid_mr_pts.txt\", \"lid_mr_pts.txt\")\n",
    "urllib.urlretrieve(\"http://ncsu-geoforall-lab.github.io/geospatial-modeling-course/grass/data/lid_be_pts.txt\", \"lid_be_pts.txt\")"
   ]
  },
  {
   "cell_type": "code",
   "execution_count": null,
   "metadata": {},
   "outputs": [],
   "source": [
    "# using Python to initialize GRASS GIS\n",
    "import os\n",
    "import sys\n",
    "import subprocess\n",
    "from IPython.display import Image\n",
    "\n",
    "# create GRASS GIS runtime environment\n",
    "gisbase = subprocess.check_output([\"grass\", \"--config\", \"path\"]).strip()\n",
    "os.environ['GISBASE'] = gisbase\n",
    "sys.path.append(os.path.join(gisbase, \"etc\", \"python\"))\n",
    "\n",
    "# do GRASS GIS imports\n",
    "import grass.script as gs\n",
    "import grass.script.setup as gsetup\n",
    "\n",
    "# set GRASS GIS session data\n",
    "rcfile = gsetup.init(gisbase, \"/home/jovyan/grassdata\", \"nc_spm_08_grass7\", \"user1\")"
   ]
  },
  {
   "cell_type": "code",
   "execution_count": null,
   "metadata": {},
   "outputs": [],
   "source": [
    "# using Python to initialize GRASS GIS\n",
    "# default font displays\n",
    "os.environ['GRASS_FONT'] = 'sans'\n",
    "# overwrite existing maps\n",
    "os.environ['GRASS_OVERWRITE'] = '1'\n",
    "gs.set_raise_on_error(True)\n",
    "gs.set_capture_stderr(True)"
   ]
  },
  {
   "cell_type": "code",
   "execution_count": null,
   "metadata": {},
   "outputs": [],
   "source": [
    "# using Python to initialize GRASS GIS\n",
    "# set display modules to render into a file (named map.png by default)\n",
    "os.environ['GRASS_RENDER_IMMEDIATE'] = 'cairo'\n",
    "os.environ['GRASS_RENDER_FILE_READ'] = 'TRUE'\n",
    "os.environ['GRASS_LEGEND_FILE'] = 'legend.txt'"
   ]
  },
  {
   "cell_type": "markdown",
   "metadata": {},
   "source": [
    "in the startup pannel\n",
    "GIS data directory: type path to GRASS datasets\n",
    "LOCATION: select nc_spm_08\n",
    "MAPSET: use mapset with your unity ID or user1\n",
    "Enter GRASSS\n",
    "\n",
    "\n",
    "### Bare earth data\n",
    "\n",
    "Analyze bare earth and multiple return lidar data properties\n",
    "download the ASCI (x,y,z) lidar data [lid_be_pts.txt](data/lid_be_pts.txt)\n",
    "compute a raster map representing number of points\n",
    "per 2m and 6m grid cell to assess the point density\n",
    "Run r.in.xyz from GUI to find the path to the external lid_be_pts.txt\n",
    "do not forget to zoom to computational region\n",
    "you can use horizontal legends by using at=6,10,2,30 and resize\n",
    "you map display to create white space above and below the image"
   ]
  },
  {
   "cell_type": "code",
   "execution_count": null,
   "metadata": {},
   "outputs": [],
   "source": [
    "!g.region rural_1m res=2 -p\n",
    "!r.in.xyz input=lid_be_pts.txt output=lid_be_binn2m method=n\n",
    "!r.in.xyz input=lid_mr_pts.txt output=lid_mr_binn2m method=n\n",
    "!d.erase\n",
    "!d.rast lid_mr_binn2m\n",
    "!d.legend lid_mr_binn2m at=2,20,2,5\n",
    "Image(filename=\"map.png\")\n",
    "!r.report lid_mr_binn2m unit=p\n",
    "!r.univar lid_mr_binn2m\n",
    "!d.rast lid_be_binn2m\n",
    "!d.legend lid_be_binn2m at=2,20,2,5\n",
    "!r.report lid_be_binn2m unit=p\n",
    "!r.univar lid_be_binn2m\n",
    "Image(filename=\"map.png\")"
   ]
  },
  {
   "cell_type": "markdown",
   "metadata": {},
   "source": [
    "### Range of coordinates at lower resolution\n",
    "\n",
    "\n",
    "patch and overlay planimetry to see that there are\n",
    "no points in areas with buildings"
   ]
  },
  {
   "cell_type": "code",
   "execution_count": null,
   "metadata": {},
   "outputs": [],
   "source": [
    "!v.patch P079214,P079215,P079218,P079219 out=planimetry_rural\n",
    "!d.vect planimetry_rural\n",
    "Image(filename=\"map.png\")"
   ]
  },
  {
   "cell_type": "markdown",
   "metadata": {},
   "source": [
    "decrease resolution and try again\n",
    "run from GUI or define fullpath for r.in.xyz"
   ]
  },
  {
   "cell_type": "code",
   "execution_count": null,
   "metadata": {},
   "outputs": [],
   "source": [
    "!g.region rural_1m res=6 -ap\n",
    "!r.in.xyz input=lid_be_pts.txt out=lid_be_binn6m meth=n\n",
    "!d.erase\n",
    "!d.rast lid_be_binn6m\n",
    "!d.legend lid_be_binn6m at=2,20,2,5\n",
    "Image(filename=\"map.png\")\n",
    "!r.report lid_be_binn6m unit=p\n",
    "!r.univar lid_be_binn6m\n",
    "Image(filename=\"map.png\")"
   ]
  },
  {
   "cell_type": "markdown",
   "metadata": {},
   "source": [
    "compute a raster map representing mean elevation for each 6m cell\n",
    "it will still have a few holes"
   ]
  },
  {
   "cell_type": "code",
   "execution_count": null,
   "metadata": {},
   "outputs": [],
   "source": [
    "!r.in.xyz input=lid_be_pts.txt out=lid_be_binmean6m meth=mean\n",
    "!r.colors lid_be_binmean6m color=elevation\n",
    "!d.rast lid_be_binmean6m\n",
    "!d.legend lid_be_binmean6m at=2,40,2,5\n",
    "!r.in.xyz input=lid_mr_pts.txt out=lid_mr_binmean6m meth=mean\n",
    "!r.colors lid_mr_binmean6m co=elevation\n",
    "!d.rast lid_mr_binmean6m\n",
    "!d.legend lid_mr_binmean6m at=2,40,2,5\n",
    "Image(filename=\"map.png\")"
   ]
  },
  {
   "cell_type": "markdown",
   "metadata": {},
   "source": [
    "compute range"
   ]
  },
  {
   "cell_type": "code",
   "execution_count": null,
   "metadata": {},
   "outputs": [],
   "source": [
    "!r.in.xyz input=lid_be_pts.txt out=lid_be_binrange6m meth=range\n",
    "!r.in.xyz input=lid_mr_pts.txt out=lid_mr_binrange6m meth=range\n",
    "!d.erase\n",
    "!d.rast lid_be_binrange6m\n",
    "!d.legend lid_be_binrange6m at=2,40,2,5\n",
    "!d.rast lid_mr_binrange6m\n",
    "!d.legend lid_mr_binrange6m at=2,40,2,5\n",
    "Image(filename=\"map.png\")"
   ]
  },
  {
   "cell_type": "markdown",
   "metadata": {},
   "source": [
    "identify the features that are associated with large range values\n",
    "display with vector data"
   ]
  },
  {
   "cell_type": "code",
   "execution_count": null,
   "metadata": {},
   "outputs": [],
   "source": [
    "!d.vect planimetry_rural\n",
    "!d.vect lakes type=boundary co=violet\n",
    "!d.vect streams co=blue\n",
    "Image(filename=\"map.png\")"
   ]
  },
  {
   "cell_type": "markdown",
   "metadata": {},
   "source": [
    "display only the high values of range (0.5-20m) overlayed over orthophoto\n",
    "what landcover is associated with large range in multiple return data?\n",
    "which landscape features may be lost at 6m resolution?"
   ]
  },
  {
   "cell_type": "code",
   "execution_count": null,
   "metadata": {},
   "outputs": [],
   "source": [
    "!g.region rural_1m -p"
   ]
  },
  {
   "cell_type": "markdown",
   "metadata": {},
   "source": [
    "do not forget to zoom/set the display to computational region\n",
    "to display only selected interval of values in GUI\n",
    "Add raster > Required select lid_be_binrange6m\n",
    "Tab Selection > List of values to be displayed > type in 0.5-20."
   ]
  },
  {
   "cell_type": "code",
   "execution_count": null,
   "metadata": {},
   "outputs": [],
   "source": [
    "!d.erase\n",
    "!d.rast ortho_2001_t792_1m\n",
    "!d.rast lid_be_binrange6m val=0.5-20.\n",
    "!d.erase\n",
    "!d.rast ortho_2001_t792_1m\n",
    "!d.rast lid_mr_binrange6m val=0.5-20.\n",
    "Image(filename=\"map.png\")"
   ]
  },
  {
   "cell_type": "markdown",
   "metadata": {},
   "source": [
    "### Interpolation\n",
    "\n",
    "\n",
    "we now know how dense the data are and what is the range within cell\n",
    "if we need 1m resolution DEM for our application\n",
    "this analysis tells us that we need to interpolate\n",
    "\n",
    "import the ascii lidar data as vector points\n",
    "import only points in the rural area  without building a table (Tab Points)\n",
    "number of column used as z is 3\n",
    "and using z-coordinate for elevation (Tab Optional, Create 3D vector map)\n",
    "assuming that the txt file is in your current directory"
   ]
  },
  {
   "cell_type": "code",
   "execution_count": null,
   "metadata": {},
   "outputs": [],
   "source": [
    "!g.region rural_1m -p\n",
    "!v.in.ascii -ztr input=lid_be_pts.txt out=elev_lid_bepts z=3"
   ]
  },
  {
   "cell_type": "markdown",
   "metadata": {},
   "source": [
    "display bare ground and multiple return points over orthophoto\n",
    "don't forget to set display to new resolution set by region"
   ]
  },
  {
   "cell_type": "code",
   "execution_count": null,
   "metadata": {},
   "outputs": [],
   "source": [
    "!d.erase\n",
    "!d.rast ortho_2001_t792_1m\n",
    "Image(filename=\"map.png\")"
   ]
  },
  {
   "cell_type": "markdown",
   "metadata": {},
   "source": [
    "our imported points"
   ]
  },
  {
   "cell_type": "code",
   "execution_count": null,
   "metadata": {},
   "outputs": [],
   "source": [
    "!d.vect elev_lid_bepts size=2 col=red\n",
    "Image(filename=\"map.png\")"
   ]
  },
  {
   "cell_type": "markdown",
   "metadata": {},
   "source": [
    "points available in the data set\n",
    "(elev_lid_bepts and elev_lid792_bepts should be identical)"
   ]
  },
  {
   "cell_type": "code",
   "execution_count": null,
   "metadata": {},
   "outputs": [],
   "source": [
    "!d.vect elev_lidrural_mrpts size=4 col=0:100:0\n",
    "!d.vect elev_lid792_bepts size=2 col=yellow\n",
    "Image(filename=\"map.png\")"
   ]
  },
  {
   "cell_type": "markdown",
   "metadata": {},
   "source": [
    "extract first return to get points for DSM\n",
    "interpolate DEM and DSM (more about interpolation in the interpolation assignment)\n",
    "we use default parameters except for number of points used for\n",
    "segmentation and interpolation - segmax and npmin\n",
    "and higher tension for multiple return data"
   ]
  },
  {
   "cell_type": "code",
   "execution_count": null,
   "metadata": {},
   "outputs": [],
   "source": [
    "!g.region rural_1m -p\n",
    "!v.extract elev_lidrural_mrpts out=elev_lidrur_first type=point where=\"Return=1\"\n",
    "!v.surf.rst input=elev_lid792_bepts elevation=elev_lidrural_1m npmin=120 segmax=25\n",
    "!v.surf.rst input=elev_lidrur_first elevation=elev_lidrurfirst_1m npmin=120 segmax=25 tension=100 smooth=0.5\n",
    "!d.erase\n",
    "!d.rast elev_lidrural_1m\n",
    "!d.rast elev_lidrurfirst_1m\n",
    "Image(filename=\"map.png\")"
   ]
  },
  {
   "cell_type": "markdown",
   "metadata": {},
   "source": [
    "use wxnviz (3D view) with cutting planes to compare the bare earth and terrain surface\n",
    "switch off all layers except for elev_lidrural_1m and elev_lidrurfirst_1m\n",
    "switch to 3D view\n",
    "make sure fine resolution is set to 1 for all surfaces\n",
    "assign each surface constant color, add constant plane z=90 for reference\n",
    "create crossections using cutting plane,\n",
    "shade the crossection using the color by bottom surface option\n",
    "save image for report, if you don't have tiff support, use screen capture tool\n",
    "if you don't remember this, see screen capture video for\n",
    "[GRASS GIS 3D view](https://youtu.be/xo_jJHgtbR4).\n",
    "\n",
    "\n",
    "### Multiple returns\n",
    "\n",
    "\n",
    "find out where we have multiple returns"
   ]
  },
  {
   "cell_type": "code",
   "execution_count": null,
   "metadata": {},
   "outputs": [],
   "source": [
    "!g.region rural_1m -p\n",
    "!d.erase\n",
    "!d.rast ortho_2001_t792_1m\n",
    "Image(filename=\"map.png\")"
   ]
  },
  {
   "cell_type": "markdown",
   "metadata": {},
   "source": [
    "condition for subset in GUI:\n",
    "Add vector>Selection>type return=1 into WHERE condition of SQL statement\n",
    "you need to add the points 4 times to create a map that will have\n",
    "all sets of returns"
   ]
  },
  {
   "cell_type": "code",
   "execution_count": null,
   "metadata": {},
   "outputs": [],
   "source": [
    "!d.vect elev_lidrural_mrpts where=return=1 col=red size=2\n",
    "Image(filename=\"map.png\")"
   ]
  },
  {
   "cell_type": "markdown",
   "metadata": {},
   "source": [
    "can you guess what is in the area that does not have any 1st return points?"
   ]
  },
  {
   "cell_type": "code",
   "execution_count": null,
   "metadata": {},
   "outputs": [],
   "source": [
    "!d.vect elev_lidrural_mrpts where=return=2 col=green size=3\n",
    "!d.vect elev_lidrural_mrpts where=return=3 col=blue\n",
    "!d.vect elev_lidrural_mrpts where=return=4 col=yellow\n",
    "Image(filename=\"map.png\")"
   ]
  },
  {
   "cell_type": "code",
   "execution_count": null,
   "metadata": {},
   "outputs": [],
   "source": [
    "# end the GRASS session\n",
    "os.remove(rcfile)"
   ]
  }
 ],
 "metadata": {
  "kernelspec": {
   "display_name": "Python 2",
   "language": "python",
   "name": "python2"
  }
 },
 "nbformat": 4,
 "nbformat_minor": 0
}
