{
 "cells": [
  {
   "cell_type": "markdown",
   "metadata": {},
   "source": [
    "## Geomorphometry II: Spatial and Temporal Terrain Analysis\n",
    "\n",
    "Resources: [\n",
    "GRASS GIS overview and manual](http://grass.osgeo.org/grass72/manuals/index.html),\n",
    "[GRASSbook](http://www.grassbook.org/).\n",
    "\n",
    "\n",
    "Download Mapset and color tables:\n",
    "\n",
    "*  Download [\n",
    "NagsHead time series](http://courses.ncsu.edu/mea582/common/media/01/NagsHead_series.zip) and copy it into your nc_spm_08_grass7 Location\n",
    "(it should be the same level directory as PERMANENT).\n",
    "Do not let your unzipping program create additional level directory with the same name!\n",
    "If you are not sure about GRASS GIS Database structure read about it in\n",
    "[the manual](http://grass.osgeo.org/grass72/manuals/grass_database.html).\n",
    "* Custom color table for time series standard deviations map [stddev_color.txt](data/stddev_color.txt)\n",
    "\n",
    "\n",
    "\n",
    "### Start GRASS GIS\n",
    "Start GRASS - click on GRASS icon or type"
   ]
  },
  {
   "cell_type": "code",
   "execution_count": null,
   "metadata": {},
   "outputs": [],
   "source": [
    "# using Python to initialize GRASS GIS\n",
    "# This is a quick introduction into Jupyter Notebook.\n",
    "# Python code can be excecuted like this:\n",
    "a = 6\n",
    "b = 7\n",
    "c = a * b\n",
    "print \"Answer is\", c\n",
    "# Python code can be mixed with command line code (Bash).\n",
    "# It is enough just to prefix the command line with an exclamation mark:\n",
    "!echo \"Answer is $c\"\n",
    "# Use Shift+Enter to execute this cell. The result is below."
   ]
  },
  {
   "cell_type": "code",
   "execution_count": null,
   "metadata": {},
   "outputs": [],
   "source": [
    "# using Python to initialize GRASS GIS\n",
    "import os\n",
    "import sys\n",
    "import subprocess\n",
    "from IPython.display import Image\n",
    "\n",
    "# create GRASS GIS runtime environment\n",
    "gisbase = subprocess.check_output([\"grass\", \"--config\", \"path\"]).strip()\n",
    "os.environ['GISBASE'] = gisbase\n",
    "sys.path.append(os.path.join(gisbase, \"etc\", \"python\"))\n",
    "\n",
    "# do GRASS GIS imports\n",
    "import grass.script as gs\n",
    "import grass.script.setup as gsetup\n",
    "\n",
    "# set GRASS GIS session data\n",
    "rcfile = gsetup.init(gisbase, \"/home/jovyan/grassdata\", \"nc_spm_08_grass7\", \"user1\")"
   ]
  },
  {
   "cell_type": "code",
   "execution_count": null,
   "metadata": {},
   "outputs": [],
   "source": [
    "# using Python to initialize GRASS GIS\n",
    "# default font displays\n",
    "os.environ['GRASS_FONT'] = 'sans'\n",
    "# overwrite existing maps\n",
    "os.environ['GRASS_OVERWRITE'] = '1'\n",
    "gs.set_raise_on_error(True)\n",
    "gs.set_capture_stderr(True)"
   ]
  },
  {
   "cell_type": "code",
   "execution_count": null,
   "metadata": {},
   "outputs": [],
   "source": [
    "# using Python to initialize GRASS GIS\n",
    "# set display modules to render into a file (named map.png by default)\n",
    "os.environ['GRASS_RENDER_IMMEDIATE'] = 'cairo'\n",
    "os.environ['GRASS_RENDER_FILE_READ'] = 'TRUE'\n",
    "os.environ['GRASS_LEGEND_FILE'] = 'legend.txt'"
   ]
  },
  {
   "cell_type": "markdown",
   "metadata": {},
   "source": [
    "In startup pannel set GIS Data Directory to path to datasets,\n",
    "for example on MS Windows, `C:\\Users\\myname\\grassdata`.\n",
    "For Project location select nc_spm_08_grass7 (North Carolina, State Plane, meters) and\n",
    "for Accessible mapset create a new mapset (called e.g. HW_terrain_analysis).\n",
    "Click Start GRASS.\n",
    "\n",
    "\n",
    "Change working directory:\n",
    "_Settings_ > _GRASS working environment_ > _Change working directory_ > select/create any directory\n",
    "or type `cd` (stands for change directory) into the GUI\n",
    "_Console_ and hit Enter:"
   ]
  },
  {
   "cell_type": "code",
   "execution_count": null,
   "metadata": {},
   "outputs": [],
   "source": [
    "# a proper directory is already set, download files\n",
    "import urllib\n",
    "urllib.urlretrieve(\"http://ncsu-geoforall-lab.github.io/geospatial-modeling-course/grass/data/stddev_color.txt\", \"stddev_color.txt\")"
   ]
  },
  {
   "cell_type": "markdown",
   "metadata": {},
   "source": [
    "Download all text files (see above)\n",
    "to the selected directory. Now you can use the commands from the assignment requiring the text file\n",
    "without the need to specify the full path to the file.\n",
    "\n",
    "\n",
    "### Compute basic topographic parameters: slope and aspect"
   ]
  },
  {
   "cell_type": "code",
   "execution_count": null,
   "metadata": {},
   "outputs": [],
   "source": [
    "!g.region raster=elevation -p\n",
    "!r.slope.aspect elevation=elevation slope=myslope aspect=myaspect"
   ]
  },
  {
   "cell_type": "markdown",
   "metadata": {},
   "source": [
    "Display resulting maps with legend using GUI."
   ]
  },
  {
   "cell_type": "code",
   "execution_count": null,
   "metadata": {},
   "outputs": [],
   "source": [
    "!d.rast myslope\n",
    "!d.legend myslope at=2,40,2,6\n",
    "Image(filename=\"map.png\")\n",
    "!d.rast myaspect\n",
    "!d.legend myaspect at=2,40,2,6\n",
    "Image(filename=\"map.png\")"
   ]
  },
  {
   "cell_type": "markdown",
   "metadata": {},
   "source": [
    "Show impact of integer values in meters on slope and aspect pattern.\n",
    "Compute integer DEM and derive its slope and aspect.\n",
    "Use GUI to display the histogram: in _Map Display_ > _Analyze_ > _Create histogram_:"
   ]
  },
  {
   "cell_type": "code",
   "execution_count": null,
   "metadata": {},
   "outputs": [],
   "source": [
    "!r.mapcalc \"elev_int = int(elevation)\"\n",
    "!r.slope.aspect elevation=elev_int aspect=aspect_int_10m slope=slope_int_10m\n",
    "!d.erase\n",
    "!d.histogram slope_int_10m\n",
    "!d.histogram myslope\n",
    "!d.histogram aspect_int_10m\n",
    "!d.histogram myaspect\n",
    "!d.erase\n",
    "!d.rast myslope\n",
    "Image(filename=\"map.png\")"
   ]
  },
  {
   "cell_type": "markdown",
   "metadata": {},
   "source": [
    "Zoom into NW area of the current region (relatively flat area near large interchange).\n",
    "Can you explain the difference in slope maps derived from integer (m vertical resolution)\n",
    "and floating point (mm vertical resolution) DEMs?"
   ]
  },
  {
   "cell_type": "code",
   "execution_count": null,
   "metadata": {},
   "outputs": [],
   "source": [
    "!d.rast slope_int_10m\n",
    "Image(filename=\"map.png\")"
   ]
  },
  {
   "cell_type": "markdown",
   "metadata": {},
   "source": [
    "### Compute slope along road\n",
    "\n",
    "Compute slope of a bus route. You will need the _myslope_ raster\n",
    "map created earlier. First extract values from slope map layer:"
   ]
  },
  {
   "cell_type": "code",
   "execution_count": null,
   "metadata": {},
   "outputs": [],
   "source": [
    "!g.region raster=elevation res=20\n",
    "!v.to.rast input=busroute11 type=line output=busroute11 use=dir\n",
    "!r.mapcalc \"route_slope = if(busroute11, myslope)\""
   ]
  },
  {
   "cell_type": "markdown",
   "metadata": {},
   "source": [
    "Then compute slope in the direction of the route:"
   ]
  },
  {
   "cell_type": "code",
   "execution_count": null,
   "metadata": {},
   "outputs": [],
   "source": [
    "!v.to.rast input=busroute11 type=line output=busroute11_dir use=dir\n",
    "!r.mapcalc \"route_slope_dir = abs(atan(tan(myslope) * cos(myaspect - busroute11_dir)))\"\n",
    "!r.colors map=route_slope,route_slope_dir color=slope"
   ]
  },
  {
   "cell_type": "markdown",
   "metadata": {},
   "source": [
    "Display, zoom if necessary, and compute univariate statistics and comment on the difference of two results."
   ]
  },
  {
   "cell_type": "code",
   "execution_count": null,
   "metadata": {},
   "outputs": [],
   "source": [
    "!r.univar route_slope\n",
    "!r.univar route_slope_dir\n",
    "!d.shade shade=elevation_shade color=myslope brighten=20\n",
    "!r.contour input=elevation output=contours step=2\n",
    "!d.vect contours\n",
    "!d.rast route_slope\n",
    "Image(filename=\"map.png\")\n",
    "!d.rast route_slope_dir\n",
    "Image(filename=\"map.png\")"
   ]
  },
  {
   "cell_type": "markdown",
   "metadata": {},
   "source": [
    "### Curvatures\n",
    "\n",
    "\n",
    "\n",
    "Compute slope, aspect and curvatures simultaneously with interpolation.\n",
    "You can do the examples below for the bare earth data only (first example),\n",
    "multiple return example is optional (if you are curious how it differs from BE)."
   ]
  },
  {
   "cell_type": "code",
   "execution_count": null,
   "metadata": {},
   "outputs": [],
   "source": [
    "!g.region rural_1m  -p\n",
    "!v.surf.rst input=elev_lid792_bepts elevation=elev_lid_1m aspect=asp_lid_1m pcurvature=pc_lid_1m tcurvature=tc_lid_1m npmin=120 segmax=25\n",
    "!v.surf.rst input=elev_lidrural_mrpts elevation=elev_lidmr_1m aspect=asp_lidmr_1m pcurvature=pc_lidmr_1m tcurvature=tc_lidmr_1m npmin=120 segmax=25 tension=300 smooth=1."
   ]
  },
  {
   "cell_type": "markdown",
   "metadata": {},
   "source": [
    "Display the results as 2D images or in 3D view.\n",
    "For 3D view, switch off everything except for elevation surface that you want to view.\n",
    "Drape topographic parameters raster maps over DEMs as color."
   ]
  },
  {
   "cell_type": "code",
   "execution_count": null,
   "metadata": {},
   "outputs": [],
   "source": [
    "!d.erase\n",
    "!d.rast elev_lid_1m\n",
    "!d.rast pc_lid_1m\n",
    "Image(filename=\"map.png\")\n",
    "!d.rast elev_lidmr_1m\n",
    "!d.rast pc_lidmr_1m\n",
    "Image(filename=\"map.png\")"
   ]
  },
  {
   "cell_type": "markdown",
   "metadata": {},
   "source": [
    "The curvature maps reflect survey pattern rather than topographic features.\n",
    "So we lower the tension and increase the smoothing.\n",
    "You can use multiple displays to compare the results side-by-side."
   ]
  },
  {
   "cell_type": "code",
   "execution_count": null,
   "metadata": {},
   "outputs": [],
   "source": [
    "!g.region rural_1m  -p\n",
    "!v.surf.rst input=elev_lid792_bepts elevation=elev_lidt15_1m aspect=asp_lidt15_1m pcurvature=pc_lidt15_1m tcurvature=tc_lidt15_1m npmin=120 segmax=25 tension=15 smooth=1.\n",
    "!v.surf.rst input=elev_lidrural_mrpts elevation=elev_lidmrt15_1m aspect=asp_lidmrt15_1m pcurvature=pc_lidmrt15_1m tcurvature=tc_lidmrt15_1m npmin=120 segmax=25 tension=15 smooth=1.\n",
    "!d.erase\n",
    "!d.rast elev_lidt15_1m\n",
    "!d.rast pc_lidt15_1m\n",
    "Image(filename=\"map.png\")\n",
    "!d.rast tc_lidt15_1m\n",
    "!d.rast elev_lidmrt15_1m\n",
    "!d.rast pc_lidmrt15_1m\n",
    "Image(filename=\"map.png\")"
   ]
  },
  {
   "cell_type": "markdown",
   "metadata": {},
   "source": [
    "### Landforms\n",
    "\n",
    "\n",
    "Extract landforms at different levels of detail by adjusting the size of moving window.\n",
    "Set rural subregion at 1m resolution,\n",
    "compute landforms using 9m and 45m neighborhood: read the manual to learn more.\n",
    "Explain types of landforms and the role of the neighborhood size."
   ]
  },
  {
   "cell_type": "code",
   "execution_count": null,
   "metadata": {},
   "outputs": [],
   "source": [
    "!g.region rural_1m -p\n",
    "!r.param.scale elev_lid792_1m output=feature9c_1m size=9  method=feature\n",
    "!r.param.scale elev_lid792_1m output=feature45c_1m size=45 method=feature"
   ]
  },
  {
   "cell_type": "markdown",
   "metadata": {},
   "source": [
    "Display with legend, save images for the report.\n",
    "Optionally display the feature maps draped over elev_lid792_1m as color."
   ]
  },
  {
   "cell_type": "code",
   "execution_count": null,
   "metadata": {},
   "outputs": [],
   "source": [
    "!d.rast feature9c_1m\n",
    "!d.legend feature9c_1m at=2,20,2,6\n",
    "!d.rast feature45c_1m\n",
    "!d.legend feature45c_1m at=2,20,2,6\n",
    "!d.vect elev_lid792_cont1m color=brown\n",
    "Image(filename=\"map.png\")"
   ]
  },
  {
   "cell_type": "markdown",
   "metadata": {},
   "source": [
    "### Raster time series analysis\n",
    "\n",
    "For this exercise we will use NagsHead_series Mapset you downloaded.\n",
    "You have to first make the mapset accessible.\n",
    "In GUI: menu _ Settings_ -> _GRASS working environment_ -> _Mapset access_\n",
    "or by using a command:"
   ]
  },
  {
   "cell_type": "code",
   "execution_count": null,
   "metadata": {},
   "outputs": [],
   "source": [
    "!g.mapsets operation=add mapset=NagsHead_series"
   ]
  },
  {
   "cell_type": "markdown",
   "metadata": {},
   "source": [
    "If you don't see the mapset, make sure you downloaded it and unzipped it correctly.\n",
    "\n",
    "\n",
    "Run the series analysis and explain the results:\n",
    "Which maps are core and envelope? \n",
    "Which landforms have high standard deviation and what does it mean?"
   ]
  },
  {
   "cell_type": "code",
   "execution_count": null,
   "metadata": {},
   "outputs": [],
   "source": [
    "!g.region raster=NH_2008_1m -p\n",
    "!d.erase\n",
    "!d.rast NH_2008_1m\n",
    "!r.series NH_1999_1m,NH_2001_1m,NH_2004_1m,NH_2005_1m,NH_2007_1m,NH_2008_1m out=NH_9908_min method=minimum\n",
    "!r.series NH_1999_1m,NH_2001_1m,NH_2004_1m,NH_2005_1m,NH_2007_1m,NH_2008_1m out=NH_9908_max method=maximum\n",
    "!r.series NH_1999_1m,NH_2001_1m,NH_2004_1m,NH_2005_1m,NH_2007_1m,NH_2008_1m out=NH_9908_mintime method=min_raster\n",
    "!r.series NH_1999_1m,NH_2001_1m,NH_2004_1m,NH_2005_1m,NH_2007_1m,NH_2008_1m out=NH_9908_maxtime method=max_raster\n",
    "!r.series NH_1999_1m,NH_2001_1m,NH_2004_1m,NH_2005_1m,NH_2007_1m,NH_2008_1m out=NH_9908_range method=range\n",
    "!r.series NH_1999_1m,NH_2001_1m,NH_2004_1m,NH_2005_1m,NH_2007_1m,NH_2008_1m out=NH_9908_avg method=average\n",
    "!r.series NH_1999_1m,NH_2001_1m,NH_2004_1m,NH_2005_1m,NH_2007_1m,NH_2008_1m out=NH_9908_stddev method=stddev\n",
    "!r.colors NH_9908_stddev rules=stddev_color.txt\n",
    "!d.rast NH_9908_stddev\n",
    "!d.rast NH_9908_range\n",
    "Image(filename=\"map.png\")"
   ]
  },
  {
   "cell_type": "markdown",
   "metadata": {},
   "source": [
    "Use cutting plane in 3D view to show the core and envelope.\n",
    "Add constant elevation plane at -1m for reference,\n",
    "set zexag somewhere 3-5 (the default is too high).\n",
    "Assign surfaces constant color, use top or bottom surface for crossection color.\n",
    "When using top for color, lower the light source to make\n",
    "top surface dark and highlight the crossection."
   ]
  },
  {
   "cell_type": "code",
   "execution_count": null,
   "metadata": {},
   "outputs": [],
   "source": [
    "# end the GRASS session\n",
    "os.remove(rcfile)"
   ]
  }
 ],
 "metadata": {
  "kernelspec": {
   "display_name": "Python 2",
   "language": "python",
   "name": "python2"
  }
 },
 "nbformat": 4,
 "nbformat_minor": 0
}
