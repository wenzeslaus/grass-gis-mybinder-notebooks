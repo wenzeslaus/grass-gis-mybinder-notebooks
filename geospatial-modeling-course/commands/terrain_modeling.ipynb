{
 "cells": [
  {
   "cell_type": "markdown",
   "metadata": {},
   "source": [
    "## Geomorphometry I: Terrain Modeling\n",
    "\n",
    "Resources: [\n",
    "GRASS GIS overview and manual](http://grass.osgeo.org/grass72/manuals/index.html),\n",
    "[ libLAS tools for lidar data conversions](http://liblas.org/)\n",
    "\n",
    "\n",
    "Download the Raleigh 2013 lidar data as LAS file and orthophoto:\n",
    "\n",
    "* [LAS tile 0793_016 in NC State Plane Meters ](http://courses.ncsu.edu/mea582/common/media/data/tile_0793_016_spm.las)\n",
    "* [Orthophoto geotif (mosaic at 1ft resolution)](http://courses.ncsu.edu/mea582/common/media/01/ortho_0793_016_ncspm.zip)\n",
    "\n",
    "\n",
    "### Start GRASS GIS\n",
    "Start GRASS - click on GRASS icon or type"
   ]
  },
  {
   "cell_type": "code",
   "execution_count": null,
   "metadata": {},
   "outputs": [],
   "source": [
    "# using Python to initialize GRASS GIS\n",
    "# This is a quick introduction into Jupyter Notebook.\n",
    "# Python code can be excecuted like this:\n",
    "a = 6\n",
    "b = 7\n",
    "c = a * b\n",
    "print \"Answer is\", c\n",
    "# Python code can be mixed with command line code (Bash).\n",
    "# It is enough just to prefix the command line with an exclamation mark:\n",
    "!echo \"Answer is $c\"\n",
    "# Use Shift+Enter to execute this cell. The result is below."
   ]
  },
  {
   "cell_type": "code",
   "execution_count": null,
   "metadata": {},
   "outputs": [],
   "source": [
    "# using Python to initialize GRASS GIS\n",
    "import os\n",
    "import sys\n",
    "import subprocess\n",
    "from IPython.display import Image\n",
    "\n",
    "# create GRASS GIS runtime environment\n",
    "gisbase = subprocess.check_output([\"grass\", \"--config\", \"path\"]).strip()\n",
    "os.environ['GISBASE'] = gisbase\n",
    "sys.path.append(os.path.join(gisbase, \"etc\", \"python\"))\n",
    "\n",
    "# do GRASS GIS imports\n",
    "import grass.script as gs\n",
    "import grass.script.setup as gsetup\n",
    "\n",
    "# set GRASS GIS session data\n",
    "rcfile = gsetup.init(gisbase, \"/home/jovyan/grassdata\", \"nc_spm_08_grass7\", \"user1\")"
   ]
  },
  {
   "cell_type": "code",
   "execution_count": null,
   "metadata": {},
   "outputs": [],
   "source": [
    "# using Python to initialize GRASS GIS\n",
    "# default font displays\n",
    "os.environ['GRASS_FONT'] = 'sans'\n",
    "# overwrite existing maps\n",
    "os.environ['GRASS_OVERWRITE'] = '1'\n",
    "gs.set_raise_on_error(True)\n",
    "gs.set_capture_stderr(True)"
   ]
  },
  {
   "cell_type": "code",
   "execution_count": null,
   "metadata": {},
   "outputs": [],
   "source": [
    "# using Python to initialize GRASS GIS\n",
    "# set display modules to render into a file (named map.png by default)\n",
    "os.environ['GRASS_RENDER_IMMEDIATE'] = 'cairo'\n",
    "os.environ['GRASS_RENDER_FILE_READ'] = 'TRUE'\n",
    "os.environ['GRASS_LEGEND_FILE'] = 'legend.txt'"
   ]
  },
  {
   "cell_type": "markdown",
   "metadata": {},
   "source": [
    "In startup pannel set GIS Data Directory to path to datasets,\n",
    "for example on MS Windows, `C:\\Users\\myname\\grassdata`.\n",
    "For Project location select nc_spm_08_grass7 (North Carolina, State Plane, meters) and\n",
    "for Accessible mapset create a new mapset (called e.g. HW_terrain_modeling).\n",
    "Click Start GRASS.\n",
    "\n",
    "\n",
    "Change working directory:\n",
    "_Settings_ > _GRASS working environment_ > _Change working directory_ > select/create any directory\n",
    "or type `cd` (stands for change directory) into the GUI\n",
    "_Console_ and hit Enter:"
   ]
  },
  {
   "cell_type": "code",
   "execution_count": null,
   "metadata": {},
   "outputs": [],
   "source": []
  },
  {
   "cell_type": "markdown",
   "metadata": {},
   "source": [
    "Download all files (see above)\n",
    "to the selected directory. Now you can use the commands from the assignment requiring the file\n",
    "without the need to specify the full path to the file.\n",
    "\n",
    "\n",
    "\n",
    "### Analyze bare earth and multiple return lidar data properties by binning\n",
    "Import the points using _v.in.lidar_.\n",
    "We can specify which class and which return (first, middle, last) we want to import.\n",
    "We can see the classification either in metadata distributed with the lidar data\n",
    "or it can be displayed with [lasinfo](http://liblas.org/) tool (in case lasinfo command is not available, skip it.):"
   ]
  },
  {
   "cell_type": "code",
   "execution_count": null,
   "metadata": {},
   "outputs": [],
   "source": [
    "!lasinfo tile_0793_016_spm.las"
   ]
  },
  {
   "cell_type": "markdown",
   "metadata": {},
   "source": [
    "Class 2 represents bare earth points.\n",
    "Now we import bare earth points and first return points separately:"
   ]
  },
  {
   "cell_type": "code",
   "execution_count": null,
   "metadata": {},
   "outputs": [],
   "source": [
    "!v.in.lidar -t input=tile_0793_016_spm.las output=elev_lid793016_be class_filter=2\n",
    "!v.in.lidar -t input=tile_0793_016_spm.las output=elev_lid793016_1r return_filter=first"
   ]
  },
  {
   "cell_type": "markdown",
   "metadata": {},
   "source": [
    "Note: if you have any problems with the files, review the instructions above or\n",
    "use v.in.lidar GUI dialog to browse to get the path to the files.\n",
    "\n",
    "Set the region from the imported point file with resolution of 1 meter.\n",
    "Compute raster maps (with _r.in.lidar_) representing number of points per 1 m grid cell.\n",
    "Compare point densities for bare earth, first return."
   ]
  },
  {
   "cell_type": "code",
   "execution_count": null,
   "metadata": {},
   "outputs": [],
   "source": [
    "!g.region vect=elev_lid793016_1r res=1 -p\n",
    "!r.in.lidar input=tile_0793_016_spm.las output=lid_be_binn1m class_filter=2 method=n\n",
    "!r.in.lidar input=tile_0793_016_spm.las output=lid_1r_binn1m return_filter=first method=n\n",
    "!r.colors lid_be_binn1m,lid_1r_binn1m color=bcyr -e\n",
    "!d.rast lid_be_binn1m\n",
    "!d.legend lid_be_binn1m at=2,50,2,9\n",
    "!r.report lid_be_binn1m unit=p,c\n",
    "!r.univar lid_be_binn1m\n",
    "!d.rast lid_1r_binn1m\n",
    "!d.legend -d -s lid_1r_binn1m at=2,50,8,12\n",
    "!r.report lid_1r_binn1m unit=p\n",
    "!r.univar lid_1r_binn1m\n",
    "Image(filename=\"map.png\")"
   ]
  },
  {
   "cell_type": "markdown",
   "metadata": {},
   "source": [
    "Compute a raster map representing mean elevation for each 1m cell.\n",
    "It will have holes."
   ]
  },
  {
   "cell_type": "code",
   "execution_count": null,
   "metadata": {},
   "outputs": [],
   "source": [
    "!r.in.lidar input=tile_0793_016_spm.las output=lid_be_binmean1m class_filter=2 method=mean\n",
    "!r.in.lidar input=tile_0793_016_spm.las output=lid_1r_binmean1m return_filter=first method=mean\n",
    "!r.colors lid_be_binmean1m color=elevation\n",
    "!r.colors lid_1r_binmean1m color=elevation\n",
    "!r.info map=lid_1r_binmean1m\n",
    "!d.rast lid_be_binmean1m\n",
    "!d.legend lid_be_binmean1m at=2,40,2,5\n",
    "!d.rast lid_1r_binmean1m\n",
    "!d.legend lid_1r_binmean1m at=2,40,2,5\n",
    "Image(filename=\"map.png\")"
   ]
  },
  {
   "cell_type": "markdown",
   "metadata": {},
   "source": [
    "Compute a raster map representing mean elevation for each 2m cell.\n",
    "Result is almost good enough for 1st return, but there are still many holes for bare earth."
   ]
  },
  {
   "cell_type": "code",
   "execution_count": null,
   "metadata": {},
   "outputs": [],
   "source": [
    "!g.region res=2 -ap\n",
    "!r.in.lidar input=tile_0793_016_spm.las output=lid_be_binmean2m class_filter=2 method=mean\n",
    "!r.in.lidar input=tile_0793_016_spm.las output=lid_1r_binmean2m return_filter=first method=mean\n",
    "!r.colors lid_be_binmean2m color=elevation\n",
    "!r.colors lid_1r_binmean2m color=elevation\n",
    "!d.rast lid_be_binmean2m\n",
    "!d.legend lid_be_binmean2m at=2,40,2,5\n",
    "!d.rast lid_1r_binmean2m\n",
    "!d.legend lid_1r_binmean2m at=2,40,2,5\n",
    "Image(filename=\"map.png\")"
   ]
  },
  {
   "cell_type": "markdown",
   "metadata": {},
   "source": [
    "Compute range of elevation values in each grid cell:"
   ]
  },
  {
   "cell_type": "code",
   "execution_count": null,
   "metadata": {},
   "outputs": [],
   "source": [
    "!r.in.lidar input=tile_0793_016_spm.las output=lid_be_binrange2m class_filter=2 method=range\n",
    "!r.in.lidar input=tile_0793_016_spm.las output=lid_1r_binrange2m return_filter=first method=range\n",
    "!d.rast lid_be_binrange2m\n",
    "!d.legend lid_be_binrange2m at=2,40,2,5\n",
    "!d.rast lid_1r_binrange2m\n",
    "!d.legend lid_1r_binrange2m at=2,40,2,5\n",
    "Image(filename=\"map.png\")"
   ]
  },
  {
   "cell_type": "markdown",
   "metadata": {},
   "source": [
    "Import and display orthophoto, \n",
    "switch off all layers except for orthophoto."
   ]
  },
  {
   "cell_type": "code",
   "execution_count": null,
   "metadata": {},
   "outputs": [],
   "source": [
    "!r.in.gdal ortho_0793_016_ncspm.tif output=ortho_2013_0793\n",
    "!d.rast ortho_2013_0793\n",
    "Image(filename=\"map.png\")"
   ]
  },
  {
   "cell_type": "markdown",
   "metadata": {},
   "source": [
    "Identify the features that are associated with large range values.\n",
    "Display only the high values of range.\n",
    "What landcover is associated with large range in multiple return data?"
   ]
  },
  {
   "cell_type": "code",
   "execution_count": null,
   "metadata": {},
   "outputs": [],
   "source": [
    "!d.rast lid_1r_binrange2m values=10.-200.\n",
    "Image(filename=\"map.png\")"
   ]
  },
  {
   "cell_type": "markdown",
   "metadata": {},
   "source": [
    "We now know how dense the data are and what is the range within cell.\n",
    "If we need a 1m resolution DEM or DSM for our application\n",
    "this analysis tells us that we need to interpolate it from the point cloud.\n",
    "What steps would you begin with when processing\n",
    "point cloud data you are not familiar with?\n",
    "\n",
    "\n",
    "### Interpolate DEM and DSM\n",
    "\n",
    "To interpolate DEM and DSM\n",
    "we use default parameters except for number of points used for\n",
    "segmentation and interpolation (segmax and npmin and higher tension for multiple return data).\n",
    "You can set dmin=1 to make the interpolation run faster (see the manual).\n",
    "Be patient, it can take a few minutes to run depending on the computer power."
   ]
  },
  {
   "cell_type": "code",
   "execution_count": null,
   "metadata": {},
   "outputs": [],
   "source": [
    "!g.region res=1 -ap\n",
    "!v.surf.rst input=elev_lid793016_be elevation=elev_lid793016_be_1m npmin=120 segmax=25 dmin=1\n",
    "!v.surf.rst input=elev_lid793016_1r elevation=elev_lid793016_1r_1m npmin=120 segmax=25 tension=100 smooth=0.5 dmin=1\n",
    "!r.colors elev_lid793016_be_1m color=elevation\n",
    "!r.colors elev_lid793016_1r_1m color=elevation\n",
    "!d.rast elev_lid793016_be_1m\n",
    "!d.rast elev_lid793016_1r_1m\n",
    "Image(filename=\"map.png\")"
   ]
  },
  {
   "cell_type": "markdown",
   "metadata": {},
   "source": [
    "Hide legend and switch off all map layers except for the last 2 interpolated ones.\n",
    "Use 3D view with cutting planes to compare the bare earth and terrain surface.\n",
    "Make sure fine resolution is set to 1 for all surfaces.\n",
    "Assign each surface constant color, add constant plane for reference.\n",
    "Shade the crossection using the color by bottom surface option.\n",
    "If you don't remember this, see screen capture video for 3d view.\n",
    "\n",
    "\n",
    "Save image for your report.\n",
    "\n",
    "### Optional: Visualize the point cloud using plas.io\n",
    "\n",
    "Visualizing the raw points in point clouds can be lengthy both in 2D and\n",
    "3D, however several tools for doing so in an efficient way exist. Try to\n",
    "use [plas.io](http://plas.io/), an online point cloud\n",
    "visualization tool to visualize the LAS file from this assignment.\n",
    "Explore the provided visualization tools in plas.io and create images\n",
    "showing different properties of the point cloud or the visualization\n",
    "techniques and how they would be useful for further analysis."
   ]
  },
  {
   "cell_type": "code",
   "execution_count": null,
   "metadata": {},
   "outputs": [],
   "source": [
    "# end the GRASS session\n",
    "os.remove(rcfile)"
   ]
  }
 ],
 "metadata": {
  "kernelspec": {
   "display_name": "Python 2",
   "language": "python",
   "name": "python2"
  }
 },
 "nbformat": 4,
 "nbformat_minor": 0
}
