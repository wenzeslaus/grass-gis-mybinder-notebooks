{
 "cells": [
  {
   "cell_type": "markdown",
   "metadata": {},
   "source": [
    "## Import and export of data from different sources in GRASS GIS\n",
    "\n",
    "GRASS GIS Location can contain data only in one coordinate reference system (CRS)\n",
    "in order to have full control over reprojection\n",
    "and avoid issues coming from on-the-fly reprojection.\n",
    "\n",
    "\n",
    "When starting a project, decide which CRS you will use. Create\n",
    "a new Location using Location Wizard (accessible from GRASS GIS start-up page).\n",
    "Specify desired CRS either by providing\n",
    "EPSG code (can be found e.g. at [epsg.io](http://epsg.io/))\n",
    "or by providing a georeferenced file (such as Shapefile) which has\n",
    "the CRS you want.\n",
    "\n",
    "### Importing data in common vector and raster formats\n",
    "\n",
    "\n",
    "For basic import of raster and vector files, use _r.import_\n",
    "and _v.import_, respectively.\n",
    "These modules will reproject the input data if necessary.\n",
    "If the input data's CRS matches the Location's CRS, we can use\n",
    "_r.in.gdal_ or _v.in.ogr_\n",
    "for importing raster and vector.\n",
    "\n",
    "\n",
    "Alternatively, you can use a two-step approach\n",
    "for the cases when the data's CRS doesn't match the Location's CRS.\n",
    "First create a new temporary Location\n",
    "based on the CRS of the data you want to import, switch to this Location\n",
    "and then use _r.in.gdal_ or _v.in.ogr_\n",
    "to import raster and vector data, respectively. Then switch to the Location\n",
    "of your project and use\n",
    "_r.proj_ and _v.proj_\n",
    "to reproject data from the temporary Location to your project Location.\n",
    "This approach is necessary for formats which are not supported by\n",
    "_r.import_ and _v.import_ modules.\n",
    "Modules  _r.proj_ and _v.proj_\n",
    "can be also used for bringing raster and vector maps from one Location to another.\n",
    "\n",
    "\n",
    "Modules _r.in.gdal_ and _v.in.ogr_\n",
    "check whether the CRS of the imported data matches the Location's CRS.\n",
    "Sometimes the CRS of imported data is not specified correctly\n",
    "or is missing and therefore import fails.\n",
    "If you know that the actual CRS matches the Location's CRS,\n",
    "it is appropriate to use _r.in.gdal_'s\n",
    "or _v.in.ogr_'s -o flag to overwrite the projection\n",
    "check and import the data as they are.\n",
    "\n",
    "\n",
    "If you zoom to raster or vector in GRASS GUI and it does not fit with\n",
    "the rest of the data, it means that it was imported with wrong projection\n",
    "information (or with the -o flag when the coordinates in fact don't match).\n",
    "You can use r.info and v.info to get the information\n",
    "about the extents of (already imported) rasters and vectors.\n",
    "\n",
    "### Importing CSV and other ASCII data\n",
    "\n",
    "\n",
    "There are many formats of plain text files. In the context of GIS we usually\n",
    "talk about ASCII formats and CSV files. CSV files usually hold only\n",
    "coordinates and sometimes attributes of points.\n",
    "These files usually don't have CRS information attached to them,\n",
    "so we must be very careful and import the data only if the coordinates\n",
    "are in the CRS of the Location we are using.\n",
    "\n",
    "\n",
    "Let's create a CSV file called `points.txt`\n",
    "using a text editor (Notepad++, TextEdit, MS Notepad), for example:\n",
    "\n",
    "```\n",
    "637803.6,223804.7\n",
    "641835.5,223761.2\n",
    "643056.0,217419.0\n",
    "```\n",
    "\n",
    "The coordinates we entered are in EPSG:3358 and we assume that the\n",
    "GRASS Location is using this CRS as well.\n",
    "This file can be imported to GRASS GIS using:"
   ]
  },
  {
   "cell_type": "code",
   "execution_count": null,
   "metadata": {},
   "outputs": [],
   "source": [
    "!v.in.ascii input=points.txt output=test_ascii separator=comma x=1 y=2"
   ]
  },
  {
   "cell_type": "markdown",
   "metadata": {},
   "source": [
    "Notice, we have to specify the column number where the X and Y (optionally Z)\n",
    "coordinates are stored. In this example, X coordinates are in the first column\n",
    "Y in the second one. Don't forget to specify correct column delimiter.\n",
    "\n",
    "If the data are not in the CRS we are using, create a new Location\n",
    "with matching CRS,\n",
    "import the data and use _v.proj_ as described above.\n",
    "\n",
    "\n",
    "### Importing lidar point clouds\n",
    "\n",
    "Lidar point clouds can be imported in two ways: as raster maps using binning\n",
    "or as vector points. However, one must explore the dataset first.\n",
    "\n",
    "\n",
    "In command line, we can check the projection information and other metadata\n",
    "about a LAS file using _lasinfo_ tool:"
   ]
  },
  {
   "cell_type": "code",
   "execution_count": null,
   "metadata": {},
   "outputs": [],
   "source": [
    "!lasinfo tile_0793_016_spm.las"
   ]
  },
  {
   "cell_type": "markdown",
   "metadata": {},
   "source": [
    "_r.in.lidar_ module can be used to scan the spatial extent\n",
    "of the dataset:"
   ]
  },
  {
   "cell_type": "code",
   "execution_count": null,
   "metadata": {},
   "outputs": [],
   "source": [
    "!r.in.lidar input=tile_0793_016_spm.las -s"
   ]
  },
  {
   "cell_type": "markdown",
   "metadata": {},
   "source": [
    "#### Binning\n",
    "\n",
    "Before creating the actual raster with elevation, we need to decide the extent\n",
    "and the resolution we will use for the binning. We can use\n",
    "_r.in.lidar_ module for that by setting the resolution\n",
    "directly and using a -e flag to use dataset extent instead of taking it from\n",
    "the computational region.\n",
    "We are interested in the density of points, so we use `method=n`:"
   ]
  },
  {
   "cell_type": "code",
   "execution_count": null,
   "metadata": {},
   "outputs": [],
   "source": [
    "!r.in.lidar input=tile_0793_016_spm.las output=tile_0793_016_n method=n -e resolution=2"
   ]
  },
  {
   "cell_type": "markdown",
   "metadata": {},
   "source": [
    "After determining the optimal resolution for binning and the desired area,\n",
    "we can use _g.region_ to set the computational region.\n",
    "_r.in.lidar_ without the additional parameters above\n",
    "will create a raster map from points using binning with resolution and extent\n",
    "taken from the computational region:"
   ]
  },
  {
   "cell_type": "code",
   "execution_count": null,
   "metadata": {},
   "outputs": [],
   "source": [
    "!r.in.lidar input=tile_0793_016_spm.las output=tile_0793_016"
   ]
  },
  {
   "cell_type": "markdown",
   "metadata": {},
   "source": [
    "#### Interpolation\n",
    "\n",
    "When the result of binning contains a lot of NULL cells or when it is not\n",
    "smooth enough for further analysis, we can import the point cloud as vector\n",
    "points and interpolate a raster.\n",
    "\n",
    "\n",
    "Supposing that we already determined the desired extent and resolution\n",
    "(using _r.in.lidar_ as described above) we can use\n",
    "_v.in.lidar_ lidar for import (and using class filter\n",
    "to get only ground points):"
   ]
  },
  {
   "cell_type": "code",
   "execution_count": null,
   "metadata": {},
   "outputs": [],
   "source": [
    "!v.in.lidar input=tile_0793_016_spm.las output=tile_0793_016 class=2 -r -t -b"
   ]
  },
  {
   "cell_type": "markdown",
   "metadata": {},
   "source": [
    "This import only the points of class 2 (ground)\n",
    "in the current computational region\n",
    "without the attribute table and building the topology.\n",
    "Then we follow with interpolation using,\n",
    "e.g. _v.surf.rst_ module:"
   ]
  },
  {
   "cell_type": "code",
   "execution_count": null,
   "metadata": {},
   "outputs": [],
   "source": [
    "!v.surf.rst input=tile_0793_016 elevation=tile_0793_016_elevation slope=tile_0793_016_slope aspect=tile_0793_016_aspect npmin=100 tension=20 smooth=1"
   ]
  },
  {
   "cell_type": "markdown",
   "metadata": {},
   "source": [
    "#### Importing data in different CRS\n",
    "\n",
    "In case the CRS of the file doesn't match the CRS\n",
    "used in the GRASS Location, reprojection can be done before importing\n",
    "using _las2las_ tool.\n",
    "\n",
    "\n",
    "The following example command is for reprojecting tiles\n",
    "in NAD83/North Carolina in feet (EPSG:2264)\n",
    "into NAD83/North Carolina in meters (EPSG:3358):"
   ]
  },
  {
   "cell_type": "code",
   "execution_count": null,
   "metadata": {},
   "outputs": [],
   "source": [
    "!las2las --a_srs=EPSG:2264 --t_srs=EPSG:3358 -i input_spf.las -o output_spm.las"
   ]
  },
  {
   "cell_type": "markdown",
   "metadata": {},
   "source": [
    "#### Importing data with broken projection information\n",
    "\n",
    "Modules _r.in.lidar_ and _v.in.lidar_\n",
    "check whether the CRS of the imported data matches the Location's CRS.\n",
    "Sometimes the CRS of imported data is not specified correctly\n",
    "or is missing and therefore import fails.\n",
    "If you know that the actual CRS matches the Location's CRS,\n",
    "it is appropriate to use _r.in.lidar_'s\n",
    "or _v.in.lidar_'s -o flag to overwrite the projection\n",
    "check and import the data as they are."
   ]
  },
  {
   "cell_type": "code",
   "execution_count": null,
   "metadata": {},
   "outputs": [],
   "source": [
    "!r.in.lidar input=tile_0793_016_spm.las -s -o"
   ]
  },
  {
   "cell_type": "markdown",
   "metadata": {},
   "source": [
    "### Transferring GRASS GIS data between two computers\n",
    "\n",
    "If two GRASS GIS users want to exchange data, they can use GRASS GIS native\n",
    "exchange format -- _packed map_. A vector or raster map can be\n",
    "exported from a GRASS Location in this format using\n",
    "_v.pack_ or _r.pack_ respectively.\n",
    "This format preserves everything for a map in a way as it is stored in\n",
    "a GRASS Database. _Projection of the source and target GRASS Locations\n",
    "must be the same._\n",
    "\n",
    "\n",
    "If GRASS GIS users wish to exchange GRASS Mapsets, they can do so as long as\n",
    "the source and target GRASS Locations have the same projection.\n",
    "The PERMANENT Mapset should not be usually exchanged as it is a crucial part\n",
    "of the given Location.\n",
    "Locations can be easily transferred in between GRASS Database directories\n",
    "on different computers as they carry all data and projection information\n",
    "within them and the storage format used in the background is platform independent.\n",
    "Locations as well as whole GRASS Databases can be copied and moved\n",
    "in the same way as any other directories on the computer.\n",
    "\n",
    "\n",
    "### Further resources\n",
    "\n",
    "\n",
    "    \n",
    "* [GRASS GIS manual](http://grass.osgeo.org/grass72/manuals)\n",
    "    \n",
    "* [About GRASS GIS Database structure](https://grass.osgeo.org/grass72/manuals/grass_database.html)\n",
    "    \n",
    "* [GRASS GIS for ArcGIS users](https://grasswiki.osgeo.org/wiki/GRASS_GIS_for_ArcGIS_users)\n",
    "    \n",
    "* [epsg.io](http://epsg.io/) (Repository of EPSG codes)"
   ]
  },
  {
   "cell_type": "code",
   "execution_count": null,
   "metadata": {},
   "outputs": [],
   "source": [
    "# end the GRASS session\n",
    "os.remove(rcfile)"
   ]
  }
 ],
 "metadata": {
  "kernelspec": {
   "display_name": "Python 2",
   "language": "python",
   "name": "python2"
  }
 },
 "nbformat": 4,
 "nbformat_minor": 0
}
