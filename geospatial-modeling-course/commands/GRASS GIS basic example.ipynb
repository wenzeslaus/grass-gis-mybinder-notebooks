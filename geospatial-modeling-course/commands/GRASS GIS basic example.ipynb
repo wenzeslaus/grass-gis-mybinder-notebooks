{
 "cells": [
  {
   "cell_type": "code",
   "execution_count": 1,
   "metadata": {
    "collapsed": true
   },
   "outputs": [],
   "source": [
    "import os\n",
    "import sys\n",
    "import subprocess"
   ]
  },
  {
   "cell_type": "code",
   "execution_count": 2,
   "metadata": {
    "collapsed": true
   },
   "outputs": [],
   "source": [
    "# create GRASS GIS runtime environment\n",
    "gisbase = subprocess.check_output([\"grass\", \"--config\", \"path\"]).strip()\n",
    "os.environ['GISBASE'] = gisbase\n",
    "sys.path.append(os.path.join(gisbase, \"etc\", \"python\"))"
   ]
  },
  {
   "cell_type": "code",
   "execution_count": 3,
   "metadata": {
    "collapsed": true
   },
   "outputs": [],
   "source": [
    "import grass.script as gs\n",
    "import grass.script.setup as gsetup"
   ]
  },
  {
   "cell_type": "code",
   "execution_count": 4,
   "metadata": {
    "collapsed": true
   },
   "outputs": [],
   "source": [
    "# set GRASS GIS session data\n",
    "rcfile = gsetup.init(gisbase, \"/home/jovyan/grassdata\", \"nc_spm_08_grass7\", \"user1\")"
   ]
  },
  {
   "cell_type": "code",
   "execution_count": 5,
   "metadata": {
    "collapsed": false
   },
   "outputs": [
    {
     "name": "stdout",
     "output_type": "stream",
     "text": [
      "{u'MAPSET': u'user1', u'GISDBASE': u'/home/jovyan/grassdata', u'LOCATION_NAME': u'nc_spm_08_grass7'}\n"
     ]
    }
   ],
   "source": [
    "gs.message('Current GRASS GIS 7 environment:')\n",
    "print gs.gisenv()"
   ]
  },
  {
   "cell_type": "code",
   "execution_count": 7,
   "metadata": {
    "collapsed": false
   },
   "outputs": [
    {
     "name": "stdout",
     "output_type": "stream",
     "text": [
      "Available raster maps:\n",
      "aspect@PERMANENT\n",
      "basin_50K@PERMANENT\n",
      "boundary_county_500m@PERMANENT\n",
      "cfactorbare_1m@PERMANENT\n",
      "cfactorgrow_1m@PERMANENT\n",
      "el_D782_6m@PERMANENT\n",
      "el_D783_6m@PERMANENT\n",
      "el_D792_6m@PERMANENT\n",
      "el_D793_6m@PERMANENT\n",
      "elev_lid792_1m@PERMANENT\n",
      "elev_ned_30m@PERMANENT\n",
      "elev_srtm_30m@PERMANENT\n",
      "elev_state_500m@PERMANENT\n",
      "elevation@PERMANENT\n",
      "elevation_shade@PERMANENT\n",
      "facility@PERMANENT\n",
      "geology_30m@PERMANENT\n",
      "lakes@PERMANENT\n",
      "landclass96@PERMANENT\n",
      "landcover_1m@PERMANENT\n",
      "landuse96_28m@PERMANENT\n",
      "lsat5_1987_10@landsat\n",
      "lsat5_1987_20@landsat\n",
      "lsat5_1987_30@landsat\n",
      "lsat5_1987_40@landsat\n",
      "lsat5_1987_50@landsat\n",
      "lsat5_1987_60@landsat\n",
      "lsat5_1987_70@landsat\n",
      "lsat7_2000_10@landsat\n",
      "lsat7_2000_20@landsat\n",
      "lsat7_2000_30@landsat\n",
      "lsat7_2000_40@landsat\n",
      "lsat7_2000_50@landsat\n",
      "lsat7_2000_61@landsat\n",
      "lsat7_2000_70@landsat\n",
      "lsat7_2000_80@landsat\n",
      "lsat7_2002_10@PERMANENT\n",
      "lsat7_2002_20@PERMANENT\n",
      "lsat7_2002_30@PERMANENT\n",
      "lsat7_2002_40@PERMANENT\n",
      "lsat7_2002_50@PERMANENT\n",
      "lsat7_2002_61@PERMANENT\n",
      "lsat7_2002_62@PERMANENT\n",
      "lsat7_2002_70@PERMANENT\n",
      "lsat7_2002_80@PERMANENT\n",
      "ncmask_500m@PERMANENT\n",
      "ortho_2001_t792_1m@PERMANENT\n",
      "roadsmajor@PERMANENT\n",
      "slope@PERMANENT\n",
      "soilsID@PERMANENT\n",
      "soils_Kfactor@PERMANENT\n",
      "streams_derived@PERMANENT\n",
      "towns@PERMANENT\n",
      "urban@PERMANENT\n",
      "zipcodes@PERMANENT\n",
      "zipcodes_dbl@PERMANENT\n",
      "Available vector maps:\n",
      "P079214@PERMANENT\n",
      "P079215@PERMANENT\n",
      "P079218@PERMANENT\n",
      "P079219@PERMANENT\n",
      "boundary_county@PERMANENT\n",
      "boundary_municp@PERMANENT\n",
      "bridges@PERMANENT\n",
      "busroute1@PERMANENT\n",
      "busroute11@PERMANENT\n",
      "busroute6@PERMANENT\n",
      "busroute_a@PERMANENT\n",
      "busroutesall@PERMANENT\n",
      "busstopsall@PERMANENT\n",
      "census_wake2000@PERMANENT\n",
      "censusblk_swwake@PERMANENT\n",
      "comm_colleges@PERMANENT\n",
      "elev_lid792_bepts@PERMANENT\n",
      "elev_lid792_cont1m@PERMANENT\n",
      "elev_lid792_randpts@PERMANENT\n",
      "elev_lidrural_mrpts@PERMANENT\n",
      "elev_lidrural_mrptsft@PERMANENT\n",
      "elev_ned10m_cont10m@PERMANENT\n",
      "firestations@PERMANENT\n",
      "geodetic_pts@PERMANENT\n",
      "geodetic_swwake_pts@PERMANENT\n",
      "geology@PERMANENT\n",
      "geonames_NC@PERMANENT\n",
      "geonames_wake@PERMANENT\n",
      "hospitals@PERMANENT\n",
      "lakes@PERMANENT\n",
      "nc_state@PERMANENT\n",
      "overpasses@PERMANENT\n",
      "poi_names_wake@PERMANENT\n",
      "precip_30ynormals@PERMANENT\n",
      "precip_30ynormals_3d@PERMANENT\n",
      "railroads@PERMANENT\n",
      "roadsmajor@PERMANENT\n",
      "schools_wake@PERMANENT\n",
      "soils_general@PERMANENT\n",
      "soils_wake@PERMANENT\n",
      "streams@PERMANENT\n",
      "streets_wake@PERMANENT\n",
      "swwake_10m@PERMANENT\n",
      "urbanarea@PERMANENT\n",
      "usgsgages@PERMANENT\n",
      "zipcodes_wake@PERMANENT\n"
     ]
    }
   ],
   "source": [
    "print 'Available raster maps:'\n",
    "for rast in gs.list_strings(type='raster'):\n",
    "    print rast\n",
    "\n",
    "print 'Available vector maps:'\n",
    "for vect in gs.list_strings(type='vector'):\n",
    "    print vect"
   ]
  },
  {
   "cell_type": "code",
   "execution_count": null,
   "metadata": {
    "collapsed": true
   },
   "outputs": [],
   "source": [
    "# end GRASS GIS session\n",
    "os.remove(rcfile)"
   ]
  },
  {
   "cell_type": "markdown",
   "metadata": {},
   "source": [
    "Troubleshooting\n",
    "\n",
    "ERROR: Variable 'LOCATION_NAME' not set"
   ]
  }
 ],
 "metadata": {
  "kernelspec": {
   "display_name": "Python 2",
   "language": "python",
   "name": "python2"
  },
  "language_info": {
   "codemirror_mode": {
    "name": "ipython",
    "version": 2
   },
   "file_extension": ".py",
   "mimetype": "text/x-python",
   "name": "python",
   "nbconvert_exporter": "python",
   "pygments_lexer": "ipython2",
   "version": "2.7.12"
  }
 },
 "nbformat": 4,
 "nbformat_minor": 2
}
