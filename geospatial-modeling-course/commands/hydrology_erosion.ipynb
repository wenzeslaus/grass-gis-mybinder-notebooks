{
 "cells": [
  {
   "cell_type": "markdown",
   "metadata": {},
   "source": [
    "## Erosion modeling\n",
    "Resources:\n",
    "\n",
    "* [\n",
    "GRASS GIS overview and manual](http://grass.osgeo.org/grass72/manuals/index.html)\n",
    "*  [Recommendations](data_acquisition.html#commands)\n",
    "and [tutorial](http://www4.ncsu.edu/~akratoc/GRASS_intro/)\n",
    "how to use GUI from the first assignment\n",
    "* [Brief theoretical background, equations, units](http://courses.ncsu.edu/mea582/common/GIS_anal_assign/erosion_notes2.pdf)\n",
    "* [C-factor values](data/cfactor.txt)\n",
    "* [K-factor](../resources/kfactor.html)\n",
    "\n",
    "\n",
    "\n",
    "Text files with recode rules and color rules:\n",
    "\n",
    "* Land use category description ([lu_labels.txt](data/lu_labels.txt))\n",
    "* C-factor recode table ([cfac_rules.txt](data/cfac_rules.txt))\n",
    "* C-factor color table ([cfac_color.txt](data/cfac_color.txt))\n",
    "* Soil loss color table ([soilloss_color.txt](data/soilloss_color.txt))\n",
    "* Erosion/deposition color table ([erdep_color.txt](data/erdep_color.txt))\n",
    "* Erosion/deposition classes ([erdep_class.txt](data/erdep_class.txt))\n",
    "* Erosion/deposition class labels ([erdep_label.txt](data/erdep_label.txt))\n",
    "\n",
    "\n",
    "\n",
    "### Start GRASS GIS\n",
    "In startup pannel set GIS Data Directory to path to datasets,\n",
    "for example on MS Windows, `C:\\Users\\myname\\grassdata`.\n",
    "For Project location select nc_spm_08_grass7 (North Carolina, State Plane, meters) and\n",
    "for Accessible mapset create a new mapset (called e.g. HW_erosion) and\n",
    "click Start GRASS."
   ]
  },
  {
   "cell_type": "code",
   "execution_count": null,
   "metadata": {},
   "outputs": [],
   "source": [
    "# using Python to initialize GRASS GIS\n",
    "# This is a quick introduction into Jupyter Notebook.\n",
    "# Python code can be excecuted like this:\n",
    "a = 6\n",
    "b = 7\n",
    "c = a * b\n",
    "print \"Answer is\", c\n",
    "# Python code can be mixed with command line code (Bash).\n",
    "# It is enough just to prefix the command line with an exclamation mark:\n",
    "!echo \"Answer is $c\"\n",
    "# Use Shift+Enter to execute this cell. The result is below."
   ]
  },
  {
   "cell_type": "code",
   "execution_count": null,
   "metadata": {},
   "outputs": [],
   "source": [
    "# using Python to initialize GRASS GIS\n",
    "import os\n",
    "import sys\n",
    "import subprocess\n",
    "from IPython.display import Image\n",
    "\n",
    "# create GRASS GIS runtime environment\n",
    "gisbase = subprocess.check_output([\"grass\", \"--config\", \"path\"]).strip()\n",
    "os.environ['GISBASE'] = gisbase\n",
    "sys.path.append(os.path.join(gisbase, \"etc\", \"python\"))\n",
    "\n",
    "# do GRASS GIS imports\n",
    "import grass.script as gs\n",
    "import grass.script.setup as gsetup\n",
    "\n",
    "# set GRASS GIS session data\n",
    "rcfile = gsetup.init(gisbase, \"/home/jovyan/grassdata\", \"nc_spm_08_grass7\", \"user1\")"
   ]
  },
  {
   "cell_type": "code",
   "execution_count": null,
   "metadata": {},
   "outputs": [],
   "source": [
    "# using Python to initialize GRASS GIS\n",
    "# default font displays\n",
    "os.environ['GRASS_FONT'] = 'sans'\n",
    "# overwrite existing maps\n",
    "os.environ['GRASS_OVERWRITE'] = '1'\n",
    "gs.set_raise_on_error(True)\n",
    "gs.set_capture_stderr(True)"
   ]
  },
  {
   "cell_type": "code",
   "execution_count": null,
   "metadata": {},
   "outputs": [],
   "source": [
    "# using Python to initialize GRASS GIS\n",
    "# set display modules to render into a file (named map.png by default)\n",
    "os.environ['GRASS_RENDER_IMMEDIATE'] = 'cairo'\n",
    "os.environ['GRASS_RENDER_FILE_READ'] = 'TRUE'\n",
    "os.environ['GRASS_LEGEND_FILE'] = 'legend.txt'"
   ]
  },
  {
   "cell_type": "markdown",
   "metadata": {},
   "source": [
    "Change working directory:\n",
    "_Settings_ > _GRASS working environment_ > _Change working directory_ > select/create any directory\n",
    "or type `cd` (stands for change directory) into the GUI\n",
    "_Console_ and hit Enter:"
   ]
  },
  {
   "cell_type": "code",
   "execution_count": null,
   "metadata": {},
   "outputs": [],
   "source": [
    "# a proper directory is already set, download files\n",
    "import urllib\n",
    "urllib.urlretrieve(\"http://ncsu-geoforall-lab.github.io/geospatial-modeling-course/grass/data/cfactor.txt\", \"cfactor.txt\")\n",
    "urllib.urlretrieve(\"http://ncsu-geoforall-lab.github.io/geospatial-modeling-course/grass/data/lu_labels.txt\", \"lu_labels.txt\")\n",
    "urllib.urlretrieve(\"http://ncsu-geoforall-lab.github.io/geospatial-modeling-course/grass/data/cfac_rules.txt\", \"cfac_rules.txt\")\n",
    "urllib.urlretrieve(\"http://ncsu-geoforall-lab.github.io/geospatial-modeling-course/grass/data/cfac_color.txt\", \"cfac_color.txt\")\n",
    "urllib.urlretrieve(\"http://ncsu-geoforall-lab.github.io/geospatial-modeling-course/grass/data/soilloss_color.txt\", \"soilloss_color.txt\")\n",
    "urllib.urlretrieve(\"http://ncsu-geoforall-lab.github.io/geospatial-modeling-course/grass/data/erdep_color.txt\", \"erdep_color.txt\")\n",
    "urllib.urlretrieve(\"http://ncsu-geoforall-lab.github.io/geospatial-modeling-course/grass/data/erdep_class.txt\", \"erdep_class.txt\")\n",
    "urllib.urlretrieve(\"http://ncsu-geoforall-lab.github.io/geospatial-modeling-course/grass/data/erdep_label.txt\", \"erdep_label.txt\")"
   ]
  },
  {
   "cell_type": "markdown",
   "metadata": {},
   "source": [
    "Download all text files with recode rules, color rules and site locations (see above)\n",
    "to the selected directory. Now you can use the commands from the assignment requiring the text file\n",
    "without the need to specify the full path to the file.\n",
    "\n",
    "\n",
    "\n",
    "\n",
    "\n",
    "\n",
    "### Compute soil detachment using USLE3D\n",
    "\n",
    "#### Compute topographic potential (LS factor)\n",
    "\n",
    "Compare impact of the power function exponents on the erosion pattern.\n",
    "Which equation represents conditions when water flow has greater impact\n",
    "and which models stronger influence of slope?"
   ]
  },
  {
   "cell_type": "code",
   "execution_count": null,
   "metadata": {},
   "outputs": [],
   "source": [
    "!g.region raster=elev_lid792_1m -p\n",
    "!r.slope.aspect elevation=elev_lid792_1m slope=slope_1m aspect=aspect_1m\n",
    "!r.flow elevation=elev_lid792_1m flowaccumulation=flowacc_1m\n",
    "!r.mapcalc \"lsfac3d_1m = 1.2 * pow(flowacc_1m * 1./22.1,0.2) * pow(sin(slope_1m)/0.09,1.3)\"\n",
    "!r.mapcalc \"lsfac3d_s1_1m = 1.5 * pow(flowacc_1m * 1./22.1,0.5) * pow(sin(slope_1m)/0.09,1.0)\"\n",
    "!r.colors lsfac3d_s1_1m color=gyr -e\n",
    "!r.colors lsfac3d_1m raster=lsfac3d_s1_1m"
   ]
  },
  {
   "cell_type": "markdown",
   "metadata": {},
   "source": [
    "Display layers and save outputs:"
   ]
  },
  {
   "cell_type": "code",
   "execution_count": null,
   "metadata": {},
   "outputs": [],
   "source": [
    "!d.rast lsfac3d_1m\n",
    "!d.vect elev_lid792_cont1m\n",
    "!d.legend lsfac3d_1m at=2,50,2,6\n",
    "Image(filename=\"map.png\")\n",
    "!d.rast lsfac3d_s1_1m\n",
    "!d.vect elev_lid792_cont1m\n",
    "!d.legend lsfac3d_s1_1m at=2,50,2,6\n",
    "Image(filename=\"map.png\")"
   ]
  },
  {
   "cell_type": "markdown",
   "metadata": {},
   "source": [
    "#### Compute soil detachment for spatially variable land cover\n",
    "\n",
    "Set region to rural area and recode landcover_1m to cfactor\n",
    "using the _r.recode_ module.\n",
    "Assign special color table and display result."
   ]
  },
  {
   "cell_type": "code",
   "execution_count": null,
   "metadata": {},
   "outputs": [],
   "source": [
    "!g.region rural_1m -p\n",
    "!r.recode landcover_1m output=cfactor_1m rules=cfac_rules.txt\n",
    "!r.colors map=cfactor_1m rules=cfac_color.txt\n",
    "!d.rast cfactor_1m\n",
    "Image(filename=\"map.png\")"
   ]
  },
  {
   "cell_type": "markdown",
   "metadata": {},
   "source": [
    "Compute the USLE3D equation using map algebra,\n",
    "cfactorbare_1m is the same as cfactor_1m,\n",
    "cfactorgrow_1m has landuse recoded for summer conditions.\n",
    "Specify units of the raster maps using\n",
    "the _r.support_ module.\n",
    "Compare erosion rates and distribution\n",
    "for winter (bare) and summer conditions."
   ]
  },
  {
   "cell_type": "code",
   "execution_count": null,
   "metadata": {},
   "outputs": [],
   "source": [
    "!r.mapcalc \"soillossbare_1m = 270. * soils_Kfactor * lsfac3d_1m * cfactorbare_1m\"\n",
    "!r.mapcalc \"soillossgrow_1m = 270. * soils_Kfactor * lsfac3d_1m * cfactorgrow_1m\"\n",
    "!r.colors soillossbare_1m rules=soilloss_color.txt\n",
    "!r.colors soillossgrow_1m raster=soillossbare_1m\n",
    "!r.support map=soillossbare_1m units=\"ton/(acre.year)\"\n",
    "!r.support map=soillossgrow_1m units=\"ton/(acre.year)\""
   ]
  },
  {
   "cell_type": "markdown",
   "metadata": {},
   "source": [
    "Remove previous layers and display the new ones:"
   ]
  },
  {
   "cell_type": "code",
   "execution_count": null,
   "metadata": {},
   "outputs": [],
   "source": [
    "!d.rast soillossbare_1m\n",
    "!d.legend soillossbare_1m at=2,50,2,6\n",
    "Image(filename=\"map.png\")\n",
    "!d.rast soillossgrow_1m\n",
    "!d.legend soillossgrow_1m at=2,50,2,6\n",
    "Image(filename=\"map.png\")\n",
    "!r.univar soillossbare_1m\n",
    "!r.univar soillossgrow_1m\n",
    "Image(filename=\"map.png\")"
   ]
  },
  {
   "cell_type": "markdown",
   "metadata": {},
   "source": [
    "#### Compute new DEM with erosion carved-in"
   ]
  },
  {
   "cell_type": "code",
   "execution_count": null,
   "metadata": {},
   "outputs": [],
   "source": [
    "!r.mapcalc \"elev_erodedb_1m = elev_lid792_1m-(soillossbare_1m/100.)\""
   ]
  },
  {
   "cell_type": "markdown",
   "metadata": {},
   "source": [
    "Display elev_erodedb_1m in 3D and drape over soillossbare_1m as color.\n",
    "To view it in 3D switch off everything except elev_erodedb_1m.\n",
    "Drape soillossbare_1m as color and don't forget to set fine resolution to 1.\n",
    "Use lighting from SW, z-exag at least 2.0\n",
    "\n",
    "\n",
    "### Compute net erosion/deposition maps (using USPED)\n",
    "\n",
    "Compute net erosion/deposition maps as divergence of sediment flow (USPED).\n",
    "\n",
    "First compute sediment flow and its components in x, y directions:"
   ]
  },
  {
   "cell_type": "code",
   "execution_count": null,
   "metadata": {},
   "outputs": [],
   "source": [
    "!r.mapcalc \"sedflow_1m = 270. * soils_Kfactor * cfactorgrow_1m * flowacc_1m * sin(slope_1m)\"\n",
    "!r.colors sedflow_1m raster=soillossbare_1m\n",
    "!d.rast sedflow_1m\n",
    "!r.mapcalc \"qsx = sedflow_1m * cos(aspect_1m)\"\n",
    "!r.mapcalc \"qsy = sedflow_1m * sin(aspect_1m)\"\n",
    "Image(filename=\"map.png\")"
   ]
  },
  {
   "cell_type": "markdown",
   "metadata": {},
   "source": [
    "Compute change of sediment flow in the x and y directions\n",
    "and then change in the direction of flow using divergence."
   ]
  },
  {
   "cell_type": "code",
   "execution_count": null,
   "metadata": {},
   "outputs": [],
   "source": [
    "!r.slope.aspect elevation=qsx dx=qsx_dx\n",
    "!r.slope.aspect elevation=qsy dy=qsy_dy\n",
    "!r.mapcalc \"erdep = qsx_dx + qsy_dy\"\n",
    "!r.info -r erdep\n",
    "!r.colors erdep rules=erdep_color.txt\n",
    "!d.rast erdep\n",
    "!d.legend erdep at=2,50,2,6 range=-100,100\n",
    "Image(filename=\"map.png\")"
   ]
  },
  {
   "cell_type": "markdown",
   "metadata": {},
   "source": [
    "Display elev_lid792_1m in 3D and drape over erdep as color (switch off all layers except for elev_lid792_1m).\n",
    "\n",
    "\n",
    "#### Compute summary statistics\n",
    "\n",
    "Use _r.recode_ to classify erosion/deposition and _r.category_\n",
    "to add labels (stable, high erosion, etc) to individual categories:"
   ]
  },
  {
   "cell_type": "code",
   "execution_count": null,
   "metadata": {},
   "outputs": [],
   "source": [
    "!r.recode erdep output=erdep_class rules=erdep_class.txt\n",
    "!r.category erdep_class rules=erdep_label.txt sep=:\n",
    "!r.report erdep_class unit=p,h,a"
   ]
  },
  {
   "cell_type": "markdown",
   "metadata": {},
   "source": [
    "Example output:\n",
    "```\n",
    "[...]\n",
    "| #| description         |  %  | hectares |  acres  |\n",
    "|-4| severe erosion . . .| 0.19|  0.101300|  0.25031|\n",
    "|-3| high erosion . . . .| 1.34|  0.701600|  1.73365|\n",
    "|-2| moderate erosion . .| 3.89|  2.042600|  5.04726|\n",
    "|-1| low erosion . . . . |19.74| 10.366000| 25.61438|\n",
    "| 0| stable . . . . . . .|61.32| 32.192000| 79.54643|\n",
    "| 1| low deposition . . .| 8.40|  4.407600| 10.89118|\n",
    "| 2| moderate deposition | 2.49|  1.307500|  3.23083|\n",
    "| 3| high deposition . . | 1.29|  0.676900|  1.67262|\n",
    "| 4| severe deposition . | 0.24|  0.126100|  0.31159|\n",
    "| *|no data. . . . . . . | 1.10|  0.578400|  1.42922|\n",
    "|---------------------------------------------------|\n",
    "|TOTAL                   |100.00| 52.500000|129.7275|\n",
    "```\n",
    "\n",
    "Comment on advantages, disadvantages and risks of\n",
    "classifying erosion/deposition data into categories.\n",
    "\n",
    "\n",
    "Compute univariate statistics:"
   ]
  },
  {
   "cell_type": "code",
   "execution_count": null,
   "metadata": {},
   "outputs": [],
   "source": [
    "!r.univar erdep"
   ]
  },
  {
   "cell_type": "markdown",
   "metadata": {},
   "source": [
    "Look for line with sum:\n",
    "\n",
    "```\n",
    "sum: -2374.473814\n",
    "```\n",
    "\n",
    "\n",
    "The units are tons/(acre.year), but our cells are 1 m2.\n",
    "Therefore we have to divide by 4046 (1 acre = 4046 m2)\n",
    "to get total ton per year transported from the watershed.\n",
    "You can use the Python shell in the _Python_ tab do the division."
   ]
  },
  {
   "cell_type": "code",
   "execution_count": null,
   "metadata": {},
   "outputs": [],
   "source": [
    "# end the GRASS session\n",
    "os.remove(rcfile)"
   ]
  }
 ],
 "metadata": {
  "kernelspec": {
   "display_name": "Python 2",
   "language": "python",
   "name": "python2"
  }
 },
 "nbformat": 4,
 "nbformat_minor": 0
}
