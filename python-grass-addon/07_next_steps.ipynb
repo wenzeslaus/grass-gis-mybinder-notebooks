{
 "cells": [
  {
   "cell_type": "markdown",
   "metadata": {},
   "source": [
    "# Next steps"
   ]
  },
  {
   "cell_type": "markdown",
   "metadata": {},
   "source": [
    "In this section, we will look at some topics which are perhaps not necessary for writing a module but which are definitively worth considering."
   ]
  },
  {
   "cell_type": "markdown",
   "metadata": {},
   "source": [
    "## Testing your code"
   ]
  },
  {
   "cell_type": "markdown",
   "metadata": {},
   "source": [
    "To show that your code works as expected and to ensure that it will continue to work in future, you should write a test for your new module. Such test can be written as a general script in Python or Bash. There is also the Python [doctest](https://docs.python.org/2/library/doctest.html) package to test small portions of code in the module. However, in the latest GRASS GIS, there is a dedicated unit testing Python package [gunittest](http://grass.osgeo.org/grass71/manuals/libpython/gunittest_testing.html) which contains functions to make testing of GRASS GIS modules as convenient as possible. The `grass.gunittest` package is currently available in 'trunk' (the [development version](http://grass.osgeo.org/download/software/sources/), currently version 7.1).\n",
    "\n",
    "The tests are written as a function (method) of a class which inherits from `TestCase` available in `grass.gunittest.case` package. Test function name must start with `test_`. There can be one or more of these `test_` functions. The `runModule()` function is used to call modules we are not testing directly. We use `assertModule()` function to call the module we are testing with given parameters, and we expect the process to finish successfully. Functions `setUp()` and `tearDown()` are called before and after every call of the `test_` functions. We should always delete the created maps (using `g.remove`).\n"
   ]
  },
  {
   "cell_type": "code",
   "execution_count": null,
   "metadata": {
    "collapsed": false
   },
   "outputs": [],
   "source": [
    "%%python\n",
    "# Only available for GRASS GIS 7.1 (and above)\n",
    "from grass.gunittest.case import TestCase\n",
    "from grass.gunittest.main import test\n",
    "import grass.script as gscript\n",
    "\n",
    "class TestViewshedPoint(TestCase):\n",
    "\n",
    "    prefix = 'test_rviewshedpoints_'\n",
    "\n",
    "    @classmethod\n",
    "    def setUpClass(cls):\n",
    "        \"\"\"Ensure expected computational region and create input vector points\"\"\"\n",
    "        cls.use_temp_region()\n",
    "        cls.runModule('g.region', n=225200, s=222500, w=637500, e=640000, raster='elevation')\n",
    "        cls.runModule('v.random', output=cls.prefix + 'input_points', npoints=10, seed=2)\n",
    "\n",
    "    def setUp(self):\n",
    "        \"\"\"Create r.viewshed.points output for every test method\"\"\"\n",
    "        self.runModule('r.viewshed.points', elevation='elevation',\n",
    "                       points=self.prefix + 'input_points', output_points=self.prefix + 'output_points',\n",
    "                       viewshed_basename=self.prefix + 'output_viewshed')\n",
    "\n",
    "    def tearDown(self):\n",
    "        \"\"\"Remove r.viewshed.points output after every test\"\"\"\n",
    "        self.runModule('g.remove', type=['raster', 'vector'], pattern=self.prefix + '*', flags='f')\n",
    "\n",
    "    def test_outputs_exists(self):\n",
    "        \"\"\"Test that output maps exist\"\"\"\n",
    "        num_viewsheds = len(gscript.list_grouped(['raster'],\n",
    "                                                 pattern=self.prefix + '*')[gscript.gisenv()['MAPSET']])\n",
    "        self.assertEqual(first=10, second=num_viewsheds, msg=\"Wrong number of viewsheds computed\")\n",
    "        self.assertVectorExists(self.prefix + 'output_points')\n",
    "        \n",
    "    def test_area_matches(self):\n",
    "        \"\"\"Test if areas are correct\"\"\"\n",
    "        minmax = {'min': 392800, 'max': 1759000}\n",
    "        self.assertVectorFitsUnivar(map=self.prefix + 'output_points', column='area',\n",
    "                                    reference=minmax, precision=1e-6)\n",
    "\n",
    "\n",
    "if __name__ == '__main__':\n",
    "    test()\n"
   ]
  },
  {
   "cell_type": "markdown",
   "metadata": {},
   "source": [
    "## Creating a GUI toolbox"
   ]
  },
  {
   "cell_type": "markdown",
   "metadata": {},
   "source": [
    "You may be interested to get your new Python module into the standard graphical user interface of GRASS GIS. GUI toolboxes are a way to customize items in wxGUI menu. You just need to generate a XML file and copy it to a predefined directory. The XML file may look like this:"
   ]
  },
  {
   "cell_type": "code",
   "execution_count": null,
   "metadata": {
    "collapsed": false
   },
   "outputs": [],
   "source": [
    "%%file toolboxes.xml\n",
    "<?xml version=\"1.0\" encoding=\"UTF-8\"?>\n",
    "<toolboxes>\n",
    "  <toolbox name=\"Viewsheds\">\n",
    "    <label>Viewsheds</label>\n",
    "    <items>\n",
    "      <module-item name=\"r.viewshed.points\">\n",
    "        <label>Compute special viewsheds</label>\n",
    "      </module-item>\n",
    "      <module-item name=\"r.viewshed\">\n",
    "        <label>Compute standard viewshed</label>\n",
    "      </module-item>\n",
    "      <module-item name=\"g.region\">\n",
    "        <label>Set region</label>\n",
    "      </module-item>\n",
    "      <module-item name=\"v.random\">\n",
    "        <label>Generate random points</label>\n",
    "      </module-item>\n",
    "      <separator/>\n",
    "    </items>\n",
    "  </toolbox>\n",
    "</toolboxes>"
   ]
  },
  {
   "cell_type": "markdown",
   "metadata": {},
   "source": [
    "You have to copy this file `toolboxes.xml` to the GRASS GIS configuration directory in your home directory (e.g., `~/.grass7/toolboxes/toolboxes.xml` on Linux). The next time you start the GRASS GIS GUI (`g.gui`), you will see the new toolbox under 'user defined toolboxes' in the module tree in the *Search module* tab in the *Layer manager* window."
   ]
  },
  {
   "cell_type": "markdown",
   "metadata": {},
   "source": [
    "## GRASS GIS community"
   ]
  },
  {
   "cell_type": "markdown",
   "metadata": {},
   "source": [
    "In case of questions, the best place to ask is on the [grass-user](http://lists.osgeo.org/listinfo/grass-user) mailing list. This is also a great place to announce your new addon.\n",
    "\n",
    "If you are developing a new addon and you need help from developers you can write do the [grass-dev](http://lists.osgeo.org/listinfo/grass-dev) mailing list.\n",
    "\n",
    "The are also some localized GRASS GIS mailing list, you can find them on the [dedicated mailing list web page](http://grass.osgeo.org/support/mailing-lists/).\n",
    "\n",
    "There is also a GRASS GIS community on [Google+](https://plus.google.com/communities/111147786674687562495) waiting for your GRASS GIS related news and a [Facebook group](https://www.facebook.com/groups/96121775724/).\n"
   ]
  },
  {
   "cell_type": "markdown",
   "metadata": {},
   "source": [
    "## What's next?"
   ]
  },
  {
   "cell_type": "markdown",
   "metadata": {},
   "source": [
    "We are looking for people with all kind of skills to improve the GRASS GIS project: we are looking for translators, web designers, web content manager, programmers, teaching and curriculum people, and GRASS GIS advocates."
   ]
  },
  {
   "cell_type": "markdown",
   "metadata": {},
   "source": [
    "You can also help us [sponsoring](http://grass.osgeo.org/support/our-sponsors/) GRASS GIS (also small donations are welcome!) or you may [report errors or enhancement wishes](http://grass.osgeo.org/development/bug-tracking/). Get involved!"
   ]
  }
 ],
 "metadata": {
  "kernelspec": {
   "display_name": "Python 2",
   "language": "python",
   "name": "python2"
  },
  "language_info": {
   "codemirror_mode": {
    "name": "ipython",
    "version": 2
   },
   "file_extension": ".py",
   "mimetype": "text/x-python",
   "name": "python",
   "nbconvert_exporter": "python",
   "pygments_lexer": "ipython2",
   "version": "2.7.12"
  }
 },
 "nbformat": 4,
 "nbformat_minor": 0
}
