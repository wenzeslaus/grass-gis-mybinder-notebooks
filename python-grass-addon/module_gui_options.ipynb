{
 "metadata": {
  "name": "",
  "signature": "sha256:7b66cf3f8feda47c99e054b2bfc697a20e3b921db1f18057e7ce087e914e2ce6"
 },
 "nbformat": 3,
 "nbformat_minor": 0,
 "worksheets": [
  {
   "cells": [
    {
     "cell_type": "code",
     "collapsed": false,
     "input": [
      "%%writefile r.test.py\n",
      "#!/usr/bin/python\n",
      "#\n",
      "############################################################################\n",
      "#\n",
      "# MODULE:       r.viewshed.sum.py\n",
      "# AUTHOR(S):    Anna, Luca, Markus, Vaclav, Pietro\n",
      "# PURPOSE:      Performs a \"cumulative viewshed analysis\" using a vector points map as input\n",
      "#               \"viewing\" locations, and calls r.viewshed to calculate the individual viewsheds.\n",
      "# COPYRIGHT:    (C) 2015 by GRASS GIS development team\n",
      "# REFERENCES:   Uses r.viewshed\n",
      "#\n",
      "#               This program is free software under the GNU General Public\n",
      "#               License (>=v2). Read the file COPYING that comes with GRASS\n",
      "#               for details.\n",
      "#\n",
      "#############################################################################\n",
      "\n",
      "#%module\n",
      "#% description: Performs a \"cumulative viewshed analysis\" using a vector points map as input \"viewing\" locations, and calls r.viewshed to calculate the individual viewsheds.\n",
      "#% keyword: raster\n",
      "#% keyword: viewshed\n",
      "#%end\n",
      "\n",
      "#%option G_OPT_R_INPUT\n",
      "#%end\n",
      "#%option G_OPT_V_INPUT\n",
      "#% key: vector\n",
      "#% description: Name of input vector points map containg the set of viewpoints\n",
      "#%end\n",
      "#%option G_OPT_R_OUTPUT\n",
      "#% key: output\n",
      "#% description: Output cumulative viewshed raster map\n",
      "#%end\n",
      "\n",
      "#%option\n",
      "#% key: observer_elevation\n",
      "#% type: double\n",
      "#% description: Viewing elevation above the ground\n",
      "#%answer: 1.75\n",
      "#% required : no\n",
      "#%end\n",
      "#%option\n",
      "#% key: target_elevation\n",
      "#% type: double\n",
      "#% description: Offset for target elevation above the ground\n",
      "#%answer: 0.0\n",
      "#% required : no\n",
      "#%end\n",
      "\n",
      "#%flag\n",
      "#% key: k\n",
      "#% label: Keep all interim viewshed maps\n",
      "#% description:  Keep all interim viewshed maps (maps will be named \"vshed_'name'\", where 'name' is the value in \"name_column\" for each input point. If no value specified in \"name_column\", cat value will be used instead)\n",
      "#%end\n",
      "####################################################\n",
      "# from future import module for python2 backward compatibility\n",
      "from __future__ import print_function\n",
      "\n",
      "# import modules and functions from the standard library\n",
      "from pprint import pprint\n",
      "\n",
      "# import modules and function from GRASS\n",
      "import grass.script as gscript\n",
      "\n",
      "\n",
      "def main(opts, flgs):\n",
      "    print('Options:')\n",
      "    pprint(opts)\n",
      "    print('Flags:')\n",
      "    pprint(flgs)\n",
      "\n",
      "\n",
      "if __name__ == \"__main__\":\n",
      "    import sys\n",
      "    options, flags = gscript.parser()\n",
      "    sys.exit(main(options, flags))\n"
     ],
     "language": "python",
     "metadata": {},
     "outputs": [
      {
       "output_type": "stream",
       "stream": "stdout",
       "text": [
        "Overwriting r.test.py\n"
       ]
      }
     ],
     "prompt_number": 6
    },
    {
     "cell_type": "code",
     "collapsed": false,
     "input": [
      "!echo -en '\\n' >> r.test.py"
     ],
     "language": "python",
     "metadata": {},
     "outputs": [],
     "prompt_number": 9
    },
    {
     "cell_type": "code",
     "collapsed": false,
     "input": [
      "!python r.test.py --help"
     ],
     "language": "python",
     "metadata": {},
     "outputs": [
      {
       "output_type": "stream",
       "stream": "stdout",
       "text": [
        "\r\n",
        "Description:\r\n",
        " Performs a \"cumulative viewshed analysis\" using a vector points map as input \"viewing\" locations, using r.viewshed to calculate the individual viewsheds.\r\n",
        "\r\n",
        "Keywords:\r\n",
        " raster, viewshed\r\n",
        "\r\n",
        "Usage:\r\n",
        " r.test.py [-k] input=name vector=name output=name\r\n",
        "   [observer_elevation=value] [target_elevation=value] [--overwrite]\r\n",
        "   [--help] [--verbose] [--quiet] [--ui]\r\n",
        "\r\n",
        "Flags:\r\n",
        "  -k   Keep all interim viewshed maps produced by the routine (maps will be named \"vshed_'name'\", where 'name' is the value in \"name_column\" for each input point. If no value specified in \"name_column\", cat value will be used instead)\r\n",
        " --o   Allow output files to overwrite existing files\r\n",
        " --h   Print usage summary\r\n",
        " --v   Verbose module output\r\n",
        " --q   Quiet module output\r\n",
        " --ui  Force launching GUI dialog\r\n",
        "\r\n",
        "Parameters:\r\n",
        "               input   Name of input raster map\r\n",
        "              vector   Name of input vector map\r\n",
        "                        Name of input vector points map containg the set of viewpoints\r\n",
        "              output   Output cumulative viewshed raster map\r\n",
        "  observer_elevation   Viewing elevation above the ground\r\n",
        "                       default: 1.75\r\n",
        "    target_elevation   Offset for target elevation above the ground\r\n",
        "                       default: 0.0\r\n"
       ]
      }
     ],
     "prompt_number": 10
    },
    {
     "cell_type": "code",
     "collapsed": false,
     "input": [
      "!python r.test.py"
     ],
     "language": "python",
     "metadata": {},
     "outputs": []
    },
    {
     "cell_type": "code",
     "collapsed": false,
     "input": [
      "from options import parse_options, OptTable\n",
      "\n",
      "with open('parser_standard_options.txt', mode='r') as cfile:\n",
      "    options = OptTable(parse_options(cfile.readlines()))\n",
      "options"
     ],
     "language": "python",
     "metadata": {},
     "outputs": [
      {
       "html": [
        "<table><tr><td>option</td><td>answer</td><td>description</td><td>descriptions</td><td>gisprompt</td><td>key</td><td>key_desc</td><td>label</td><td>multiple</td><td>options</td><td>required</td><td>type</td></tr><tr><td>G_OPT_DB_SQL</td><td></td><td>For example: 'select * from rybniky where kapri = 'hodne'</td><td></td><td></td><td>sql</td><td>sql_query</td><td>SQL select statement</td><td></td><td></td><td>NO</td><td>TYPE_STRING</td></tr><tr><td>G_OPT_DB_WHERE</td><td></td><td>Example: income < 1000 and inhab >= 10000</td><td></td><td></td><td>where</td><td>sql_query</td><td>WHERE conditions of SQL statement without 'where' keyword</td><td></td><td></td><td>NO</td><td>TYPE_STRING</td></tr><tr><td>G_OPT_DB_TABLE</td><td></td><td>Name of attribute table</td><td></td><td>old,dbtable,dbtable</td><td>table</td><td>name</td><td></td><td>NO</td><td></td><td>NO</td><td>TYPE_STRING</td></tr><tr><td>G_OPT_DB_DRIVER</td><td></td><td>Name of database driver</td><td></td><td>old,dbdriver,dbdriver</td><td>driver</td><td>name</td><td></td><td>NO</td><td></td><td>NO</td><td>TYPE_STRING</td></tr><tr><td>G_OPT_DB_DATABASE</td><td></td><td>Name of database</td><td></td><td>old,dbname,dbname</td><td>database</td><td>name</td><td></td><td>NO</td><td></td><td>NO</td><td>TYPE_STRING</td></tr><tr><td>G_OPT_DB_SCHEMA</td><td></td><td>Do not use this option if schemas  are not supported by driver/database server</td><td></td><td></td><td>schema</td><td>name</td><td>Database schema</td><td>NO</td><td></td><td>NO</td><td>TYPE_STRING</td></tr><tr><td>G_OPT_DB_COLUMN</td><td></td><td>Name of attribute column</td><td></td><td>old,dbcolumn,dbcolumn</td><td>column</td><td>name</td><td></td><td>NO</td><td></td><td>NO</td><td>TYPE_STRING</td></tr><tr><td>G_OPT_DB_COLUMNS</td><td></td><td>Name of attribute column(s</td><td></td><td>old,dbcolumn,dbcolumn</td><td>columns</td><td>name</td><td></td><td>YES</td><td></td><td>NO</td><td>TYPE_STRING</td></tr><tr><td>G_OPT_DB_KEYCOLUMN</td><td>GV_KEY_COLUMN</td><td>Must refer to an integer column</td><td></td><td></td><td>key</td><td>name</td><td>Name of key column</td><td>NO</td><td></td><td>NO</td><td>TYPE_STRING</td></tr><tr><td>G_OPT_I_GROUP</td><td></td><td>Name of input imagery group</td><td></td><td>old,group,group</td><td>group</td><td>name</td><td></td><td></td><td></td><td>YES</td><td>TYPE_STRING</td></tr><tr><td>G_OPT_I_SUBGROUP</td><td></td><td>Name of input imagery subgroup</td><td></td><td>old,subgroup,subgroup</td><td>subgroup</td><td>name</td><td></td><td></td><td></td><td>YES</td><td>TYPE_STRING</td></tr><tr><td>G_OPT_R_INPUT</td><td></td><td>Name of input raster map</td><td></td><td>old,cell,raster</td><td>input</td><td>name</td><td></td><td></td><td></td><td>YES</td><td>TYPE_STRING</td></tr><tr><td>G_OPT_R_INPUTS</td><td></td><td>Name of input raster map(s</td><td></td><td>old,cell,raster</td><td>input</td><td>name</td><td></td><td>YES</td><td></td><td>YES</td><td>TYPE_STRING</td></tr><tr><td>G_OPT_R_OUTPUT</td><td></td><td>Name for output raster map</td><td></td><td>new,cell,raster</td><td>output</td><td>name</td><td></td><td></td><td></td><td>YES</td><td>TYPE_STRING</td></tr><tr><td>G_OPT_R_OUTPUTS</td><td></td><td>Name for output raster map(s</td><td></td><td>new,cell,raster</td><td>output</td><td>name</td><td></td><td>YES</td><td></td><td>YES</td><td>TYPE_STRING</td></tr><tr><td>G_OPT_R_MAP</td><td></td><td>Name of raster map</td><td></td><td>old,cell,raster</td><td>map</td><td>name</td><td></td><td></td><td></td><td>YES</td><td>TYPE_STRING</td></tr><tr><td>G_OPT_R_MAPS</td><td></td><td>Name of raster map(s</td><td></td><td>old,cell,raster</td><td>map</td><td>name</td><td></td><td>YES</td><td></td><td>YES</td><td>TYPE_STRING</td></tr><tr><td>G_OPT_R_BASE</td><td></td><td>Name of base raster map</td><td></td><td>old,cell,raster</td><td>base</td><td>name</td><td></td><td></td><td></td><td>YES</td><td>TYPE_STRING</td></tr><tr><td>G_OPT_R_COVER</td><td></td><td>Name of cover raster map</td><td></td><td>old,cell,raster</td><td>cover</td><td>name</td><td></td><td></td><td></td><td>YES</td><td>TYPE_STRING</td></tr><tr><td>G_OPT_R_ELEV</td><td></td><td>Name of input elevation raster map</td><td></td><td>old,cell,raster</td><td>elevation</td><td>name</td><td></td><td></td><td></td><td>YES</td><td>TYPE_STRING</td></tr><tr><td>G_OPT_R_ELEVS</td><td></td><td>Name of input elevation raster map(s</td><td></td><td>old,cell,raster</td><td>elevation</td><td>name</td><td></td><td>YES</td><td></td><td>YES</td><td>TYPE_STRING</td></tr><tr><td>G_OPT_R_INTERP_TYPE</td><td></td><td>Sampling interpolation method</td><td></td><td></td><td>method</td><td></td><td></td><td></td><td>nearest,bilinear,bicubic</td><td>NO</td><td>TYPE_STRING</td></tr><tr><td>G_OPT_R_BASENAME_INPUT</td><td></td><td>Name of input basename raster map(s</td><td></td><td>old,cell,raster</td><td>input</td><td>basename</td><td></td><td>NO</td><td></td><td>YES</td><td>TYPE_STRING</td></tr><tr><td>G_OPT_R_BASENAME_OUTPUT</td><td></td><td>Name for output basename raster map(s</td><td></td><td>new,cell,raster</td><td>output</td><td>basename</td><td></td><td>NO</td><td></td><td>YES</td><td>TYPE_STRING</td></tr><tr><td>G_OPT_R3_INPUT</td><td></td><td>Name of input 3D raster map</td><td></td><td>old,grid3,3d-raster</td><td>input</td><td>name</td><td></td><td></td><td></td><td>YES</td><td>TYPE_STRING</td></tr><tr><td>G_OPT_R3_INPUTS</td><td></td><td>Name of input 3D raster map(s</td><td></td><td>old,grid3,3d-raster</td><td>input</td><td>name</td><td></td><td>YES</td><td></td><td>YES</td><td>TYPE_STRING</td></tr><tr><td>G_OPT_R3_OUTPUT</td><td></td><td>Name for output 3D raster map</td><td></td><td>new,grid3,3d-raster</td><td>output</td><td>name</td><td></td><td></td><td></td><td>YES</td><td>TYPE_STRING</td></tr><tr><td>G_OPT_R3_MAP</td><td></td><td>Name of 3D raster map</td><td></td><td>old,grid3,3d-raster</td><td>map</td><td>name</td><td></td><td></td><td></td><td>YES</td><td>TYPE_STRING</td></tr><tr><td>G_OPT_R3_MAPS</td><td></td><td>Name of 3D raster map(s</td><td></td><td>old,grid3,3d-raster</td><td>map</td><td>name</td><td></td><td>YES</td><td></td><td>YES</td><td>TYPE_STRING</td></tr><tr><td>G_OPT_R3_TYPE</td><td>default</td><td>Data type used in the output raster3d map</td><td></td><td></td><td>type</td><td></td><td></td><td>NO</td><td>default,double,float</td><td>NO</td><td>TYPE_STRING</td></tr><tr><td>G_OPT_R3_PRECISION</td><td>default</td><td>Number of digits used as mantissa in the internal map storage, 0 -23 for float, 0 - 52 for double, max or default</td><td></td><td></td><td>precision</td><td></td><td></td><td>NO</td><td></td><td>NO</td><td>TYPE_STRING</td></tr><tr><td>G_OPT_R3_COMPRESSION</td><td>default</td><td>The compression method used in the output raster3d map</td><td></td><td></td><td>compression</td><td></td><td></td><td>NO</td><td>default,zip,none</td><td>NO</td><td>TYPE_STRING</td></tr><tr><td>G_OPT_R3_TILE_DIMENSION</td><td>default</td><td>The dimensions of the tiles used in the output raster3d map (XxYxZ or default: 16x16x8</td><td></td><td></td><td>tiledimension</td><td>XxYxZ</td><td></td><td>NO</td><td></td><td>NO</td><td>TYPE_STRING</td></tr><tr><td>G_OPT_V_INPUT</td><td></td><td>Or data source for direct OGR access</td><td></td><td>old,vector,vector</td><td>input</td><td>name</td><td>Name of input vector map</td><td></td><td></td><td>YES</td><td>TYPE_STRING</td></tr><tr><td>G_OPT_V_INPUTS</td><td></td><td>Or data source(s) for direct OGR access</td><td></td><td>old,vector,vector</td><td>input</td><td>name</td><td>Name of input vector map(s</td><td>YES</td><td></td><td>YES</td><td>TYPE_STRING</td></tr><tr><td>G_OPT_V_OUTPUT</td><td></td><td>Name for output vector map</td><td></td><td>new,vector,vector</td><td>output</td><td>name</td><td></td><td></td><td></td><td>YES</td><td>TYPE_STRING</td></tr><tr><td>G_OPT_V_MAP</td><td></td><td>Or data source for direct OGR access</td><td></td><td>old,vector,vector</td><td>map</td><td>name</td><td>Name of vector map</td><td></td><td></td><td>YES</td><td>TYPE_STRING</td></tr><tr><td>G_OPT_V_MAPS</td><td></td><td>Name of vector map(s</td><td></td><td>old,vector,vector</td><td>map</td><td>name</td><td></td><td>YES</td><td></td><td>YES</td><td>TYPE_STRING</td></tr><tr><td>G_OPT_V_TYPE</td><td>point,line,boundary,centroid,area</td><td>Input feature type</td><td></td><td></td><td>type</td><td></td><td></td><td>YES</td><td>point,line,boundary,centroid,area</td><td>NO</td><td>TYPE_STRING</td></tr><tr><td>G_OPT_V3_TYPE</td><td>point,line,boundary,centroid,area,face,kernel</td><td>Input feature type</td><td></td><td></td><td>type</td><td></td><td></td><td>YES</td><td>point,line,boundary,centroid,area,face,kernel</td><td>NO</td><td>TYPE_STRING</td></tr><tr><td>G_OPT_V_FIELD</td><td>1</td><td>Vector features can have category values in different layers.  This number determines which layer to use.  When used with direct OGR access this is the layer name.</td><td></td><td>old,layer,layer</td><td>layer</td><td></td><td>Layer number or name</td><td></td><td></td><td>NO</td><td>TYPE_STRING</td></tr><tr><td>G_OPT_V_FIELD_ALL</td><td>-1</td><td>A single vector map can be connected to multiple database  tables. This number determines which table to use.  When used with direct OGR access this is the layer name.</td><td></td><td>old,layer_all,layer</td><td>layer</td><td></td><td>Layer number or name ('-1' for all layers</td><td></td><td></td><td>NO</td><td>TYPE_STRING</td></tr><tr><td>G_OPT_V_CAT</td><td></td><td>Category value</td><td></td><td>old,cat,cats</td><td>cat</td><td></td><td></td><td></td><td></td><td>NO</td><td>TYPE_INTEGER</td></tr><tr><td>G_OPT_V_CATS</td><td></td><td>Example: 1,3,7-9,13</td><td></td><td>old,cats,cats</td><td>cats</td><td>range</td><td>Category values</td><td></td><td></td><td>NO</td><td>TYPE_STRING</td></tr><tr><td>G_OPT_V_ID</td><td></td><td>Feature id</td><td></td><td></td><td>id</td><td></td><td></td><td></td><td></td><td>NO</td><td>TYPE_INTEGER</td></tr><tr><td>G_OPT_V_IDS</td><td></td><td>Example: 1,3,7-9,13</td><td></td><td></td><td>ids</td><td>range</td><td>Feature ids</td><td></td><td></td><td>NO</td><td>TYPE_STRING</td></tr><tr><td>G_OPT_F_INPUT</td><td></td><td>Name of input file</td><td></td><td>old,file,file</td><td>input</td><td>name</td><td></td><td></td><td></td><td>YES</td><td>TYPE_STRING</td></tr><tr><td>G_OPT_F_BIN_INPUT</td><td></td><td>Name of input file</td><td></td><td>old,bin,file</td><td>input</td><td>name</td><td></td><td></td><td></td><td>YES</td><td>TYPE_STRING</td></tr><tr><td>G_OPT_F_OUTPUT</td><td></td><td>Name for output file</td><td></td><td>new,file,file</td><td>output</td><td>name</td><td></td><td></td><td></td><td>YES</td><td>TYPE_STRING</td></tr><tr><td>G_OPT_F_SEP</td><td>pipe</td><td>Special characters: pipe, comma, space, tab, newline</td><td></td><td>old,separator,separator</td><td>separator</td><td>character</td><td>Field separator</td><td></td><td></td><td>NO</td><td>TYPE_STRING</td></tr><tr><td>G_OPT_C</td><td>DEFAULT_FG_COLOR</td><td>Either a standard color name or R:G:B triplet</td><td></td><td>old,color,color</td><td>color</td><td>name</td><td>Color</td><td></td><td></td><td>NO</td><td>TYPE_STRING</td></tr><tr><td>G_OPT_CN</td><td>DEFAULT_FG_COLOR</td><td>Either a standard color name, R:G:B triplet, or \\none\\</td><td></td><td>old,color_none,color</td><td>color</td><td>name</td><td>Color</td><td></td><td></td><td>NO</td><td>TYPE_STRING</td></tr><tr><td>G_OPT_M_DIR</td><td></td><td>Name of input directory</td><td></td><td>old,dir,dir</td><td>input</td><td>name</td><td></td><td></td><td></td><td>YES</td><td>TYPE_STRING</td></tr><tr><td>G_OPT_M_UNITS</td><td></td><td>Units</td><td></td><td></td><td>units</td><td></td><td></td><td>NO</td><td>miles,feet,meters,kilometers,acres,hectares</td><td>NO</td><td>TYPE_STRING</td></tr><tr><td>G_OPT_M_DATATYPE</td><td></td><td>Data type(s</td><td></td><td></td><td>type</td><td>datatype</td><td></td><td>YES</td><td></td><td>YES</td><td>TYPE_STRING</td></tr><tr><td>G_OPT_M_MAPSET</td><td></td><td>'.' for current mapset</td><td></td><td>old,mapset,mapset</td><td>mapset</td><td>name</td><td>Name of mapset (default: current search path</td><td>NO</td><td></td><td>NO</td><td>TYPE_STRING</td></tr><tr><td>G_OPT_M_LOCATION</td><td></td><td>Location name (not location path</td><td></td><td>old,location,location</td><td>location</td><td>name</td><td>Location name</td><td>NO</td><td></td><td>NO</td><td>TYPE_STRING</td></tr><tr><td>G_OPT_M_DBASE</td><td></td><td>Default: path to the current GRASS GIS database</td><td></td><td>old,dbase,dbase</td><td>dbase</td><td>path</td><td>GRASS GIS database directory</td><td>NO</td><td></td><td>NO</td><td>TYPE_STRING</td></tr><tr><td>G_OPT_M_COORDS</td><td></td><td>Coordinates</td><td></td><td>old,coords,coords</td><td>coordinates</td><td>east,north</td><td></td><td>NO</td><td></td><td>NO</td><td>TYPE_DOUBLE</td></tr><tr><td>G_OPT_M_COLR</td><td></td><td>Name of color table</td><td>G_color_rules_descriptions(</td><td>old,colortable,colortable</td><td>color</td><td>style</td><td></td><td></td><td>G_color_rules_options(</td><td>NO</td><td>TYPE_STRING</td></tr><tr><td>G_OPT_M_NULL_VALUE</td><td></td><td>String representing NULL value</td><td></td><td></td><td>null_value</td><td>string</td><td></td><td>NO</td><td></td><td>NO</td><td>TYPE_STRING</td></tr><tr><td>G_OPT_M_REGION</td><td></td><td>Name of saved region</td><td></td><td>old,windows,region</td><td>region</td><td>name</td><td></td><td></td><td></td><td>NO</td><td>TYPE_STRING</td></tr><tr><td>G_OPT_STDS_INPUT</td><td></td><td>Name of the input space time dataset</td><td></td><td>old,stds,stds</td><td>input</td><td>name</td><td></td><td></td><td></td><td>YES</td><td>TYPE_STRING</td></tr><tr><td>G_OPT_STDS_INPUTS</td><td></td><td>Name of the input space time datasets</td><td></td><td>old,stds,stds</td><td>inputs</td><td>name</td><td></td><td>YES</td><td></td><td>YES</td><td>TYPE_STRING</td></tr><tr><td>G_OPT_STDS_OUTPUT</td><td></td><td>Name of the output space time dataset</td><td></td><td>new,stds,stds</td><td>output</td><td>name</td><td></td><td></td><td></td><td>YES</td><td>TYPE_STRING</td></tr><tr><td>G_OPT_STRDS_INPUT</td><td></td><td>Name of the input space time raster dataset</td><td></td><td>old,strds,strds</td><td>input</td><td>name</td><td></td><td></td><td></td><td>YES</td><td>TYPE_STRING</td></tr><tr><td>G_OPT_STRDS_INPUTS</td><td></td><td>Name of the input space time raster datasets</td><td></td><td>old,strds,strds</td><td>inputs</td><td>name</td><td></td><td>YES</td><td></td><td>YES</td><td>TYPE_STRING</td></tr><tr><td>G_OPT_STRDS_OUTPUT</td><td></td><td>Name of the output space time raster dataset</td><td></td><td>new,strds,strds</td><td>output</td><td>name</td><td></td><td></td><td></td><td>YES</td><td>TYPE_STRING</td></tr><tr><td>G_OPT_STVDS_INPUT</td><td></td><td>Name of the input space time vector dataset</td><td></td><td>old,stvds,stvds</td><td>input</td><td>name</td><td></td><td></td><td></td><td>YES</td><td>TYPE_STRING</td></tr><tr><td>G_OPT_STVDS_INPUTS</td><td></td><td>Name of the input space time vector datasets</td><td></td><td>old,stvds,stvds</td><td>inputs</td><td>name</td><td></td><td>YES</td><td></td><td>YES</td><td>TYPE_STRING</td></tr><tr><td>G_OPT_STVDS_OUTPUT</td><td></td><td>Name of the output space time vector dataset</td><td></td><td>new,stvds,stvds</td><td>output</td><td>name</td><td></td><td></td><td></td><td>YES</td><td>TYPE_STRING</td></tr><tr><td>G_OPT_STR3DS_INPUT</td><td></td><td>Name of the input space time raster3d dataset</td><td></td><td>old,str3ds,str3ds</td><td>input</td><td>name</td><td></td><td></td><td></td><td>YES</td><td>TYPE_STRING</td></tr><tr><td>G_OPT_STR3DS_INPUTS</td><td></td><td>Name of the input space time raster3d datasets</td><td></td><td>old,str3ds,str3ds</td><td>inputs</td><td>name</td><td></td><td>YES</td><td></td><td>YES</td><td>TYPE_STRING</td></tr><tr><td>G_OPT_STR3DS_OUTPUT</td><td></td><td>Name of the output space time raster3d dataset</td><td></td><td>new,str3ds,str3ds</td><td>output</td><td>name</td><td></td><td></td><td></td><td>YES</td><td>TYPE_STRING</td></tr><tr><td>G_OPT_STDS_TYPE</td><td>strds</td><td>Type of the input space time dataset</td><td></td><td></td><td>type</td><td>name</td><td></td><td></td><td>strds,stvds,str3ds</td><td>NO</td><td>TYPE_STRING</td></tr><tr><td>G_OPT_MAP_INPUT</td><td></td><td>Name of the input map</td><td></td><td>old,map,map</td><td>map</td><td>name</td><td></td><td></td><td></td><td>YES</td><td>TYPE_STRING</td></tr><tr><td>G_OPT_MAP_INPUTS</td><td></td><td>Name of the input maps</td><td></td><td>old,map,map</td><td>maps</td><td>name</td><td></td><td>YES</td><td></td><td>YES</td><td>TYPE_STRING</td></tr><tr><td>G_OPT_MAP_TYPE</td><td>raster</td><td>Type of the input map</td><td></td><td></td><td>type</td><td>name</td><td></td><td></td><td>raster,vector,raster_3d</td><td>NO</td><td>TYPE_STRING</td></tr><tr><td>G_OPT_T_TYPE</td><td>absolute</td><td>The temporal type of the space time dataset</td><td></td><td></td><td>temporaltype</td><td>name</td><td></td><td></td><td>absolute,relative</td><td>NO</td><td>TYPE_STRING</td></tr><tr><td>G_OPT_T_WHERE</td><td></td><td>Example: start_time > '2001-01-01 12:30:00'</td><td></td><td></td><td>where</td><td>sql_query</td><td>WHERE conditions of SQL statement without 'where' keyword used in the temporal GIS framework</td><td></td><td></td><td>NO</td><td>TYPE_STRING</td></tr><tr><td>G_OPT_T_SAMPLE</td><td>start</td><td>The method to be used for sampling the input dataset</td><td></td><td></td><td>sampling</td><td>name</td><td></td><td>YES</td><td>start,during,overlap,contain,equal,follows,precedes</td><td>NO</td><td>TYPE_STRING</td></tr><tr><td>G_FLG_V_TABLE</td><td></td><td></td><td></td><td></td><td></td><td></td><td></td><td></td><td></td><td></td><td></td></tr><tr><td>G_FLG_V_TOPO</td><td></td><td></td><td></td><td></td><td></td><td></td><td></td><td></td><td></td><td></td><td></td></tr></table>"
       ],
       "metadata": {},
       "output_type": "pyout",
       "prompt_number": 1,
       "text": [
        "<options.OptTable at 0x7fae5073d090>"
       ]
      }
     ],
     "prompt_number": 1
    },
    {
     "cell_type": "code",
     "collapsed": false,
     "input": [],
     "language": "python",
     "metadata": {},
     "outputs": []
    }
   ],
   "metadata": {}
  }
 ]
}
